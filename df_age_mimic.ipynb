{
 "cells": [
  {
   "cell_type": "code",
   "execution_count": 1,
   "metadata": {},
   "outputs": [],
   "source": [
    "# Importing the libraries required \n",
    "from pyspark.sql import Row\n",
    "from pyspark.sql.types import *\n",
    "from pyspark.sql.functions import sum\n",
    "import pandas as pd\n",
    "import numpy as np\n",
    "import matplotlib.pyplot as plt\n",
    "from pyspark.sql.functions import rank, col, unix_timestamp, from_unixtime, to_timestamp\n",
    "from pyspark.sql import functions as F\n",
    "import seaborn as sns\n",
    "timeFmt = \"yyyy-MM-dd\"\n",
    "from pyspark.sql.functions import *"
   ]
  },
  {
   "cell_type": "code",
   "execution_count": 2,
   "metadata": {},
   "outputs": [],
   "source": [
    "#Reading MIMIC data\n",
    "mimic_data = spark.read.csv(\"mimic.csv\", header='true', inferSchema='true')\n"
   ]
  },
  {
   "cell_type": "code",
   "execution_count": 3,
   "metadata": {},
   "outputs": [
    {
     "name": "stdout",
     "output_type": "stream",
     "text": [
      "+---------+---+-------+-----+-----+------+-----+------+-------------------+-------------------+----------+---------+-------------------+-------------------+----------+-----------+\n",
      "|person_id|age|paramCT|gpiCT|ndcCT|ahfsCT|medCT|gender|         birth_date|         F_T2D_Diag|F_T1D_Diag|F_LD_Diag|          F_KD_Diag|         F_CVD_Diag|F_ALZ_Diag|F_ALZD_Diag|\n",
      "+---------+---+-------+-----+-----+------+-----+------+-------------------+-------------------+----------+---------+-------------------+-------------------+----------+-----------+\n",
      "|      148| 78|   1815|  224|  224|   224|  224|     F|2029-07-11 00:00:00|               null|      null|     null|               null|2107-09-05 14:58:00|      null|       null|\n",
      "|      463| 62|    121|   13|   13|    13|   13|     F|2136-09-25 00:00:00|               null|      null|     null|               null|               null|      null|       null|\n",
      "|      471| 75|    548|   72|   72|    72|   72|     F|2046-08-30 00:00:00|               null|      null|     null|               null|2122-07-22 14:04:00|      null|       null|\n",
      "|      833|  0|     34|    2|    2|     2|    2|     M|2137-05-23 00:00:00|               null|      null|     null|               null|               null|      null|       null|\n",
      "|     1088| 68|    663|  107|  107|   107|  107|     M|2102-03-05 00:00:00|               null|      null|     null|               null|2170-03-22 05:20:00|      null|       null|\n",
      "|     1238|  0|     30|    2|    2|     2|    2|     F|2197-03-27 00:00:00|               null|      null|     null|               null|               null|      null|       null|\n",
      "|     1342| 72|   1329|   93|   93|    93|   93|     F|2034-03-20 00:00:00|               null|      null|     null|               null|2107-02-27 23:11:00|      null|       null|\n",
      "|     1580| 44|    466|   66|   66|    66|   66|     F|2081-05-14 00:00:00|               null|      null|     null|               null|2126-02-23 18:08:00|      null|       null|\n",
      "|     1591|  0|     28| null| null|  null| null|     M|2106-04-01 00:00:00|               null|      null|     null|               null|               null|      null|       null|\n",
      "|     1645| 43|    306|  127|  127|   127|  127|     F|2103-09-22 00:00:00|               null|      null|     null|               null|               null|      null|       null|\n",
      "|     1829| 53|    124|   30|   30|    30|   30|     M|2133-06-23 00:00:00|2187-04-17 14:00:00|      null|     null|               null|               null|      null|       null|\n",
      "|     1959|  0|     26| null| null|  null| null|     F|2147-03-24 00:00:00|               null|      null|     null|               null|               null|      null|       null|\n",
      "|     2122| 33|    139|   31|   31|    31|   31|     M|2124-11-23 00:00:00|               null|      null|     null|               null|               null|      null|       null|\n",
      "|     2142|  0|     26| null| null|  null| null|     M|2171-05-11 00:00:00|               null|      null|     null|               null|               null|      null|       null|\n",
      "|     2366| 36|   3108|  281|  281|   281|  281|     F|2113-08-18 00:00:00|               null|      null|     null|               null|               null|      null|       null|\n",
      "|     2659| 18|     98| null| null|  null| null|     M|2154-02-24 00:00:00|               null|      null|     null|               null|               null|      null|       null|\n",
      "|     3175| 32|    158| null| null|  null| null|     F|2105-05-30 00:00:00|               null|      null|     null|               null|               null|      null|       null|\n",
      "|     3794| 77|    709|   62|   62|    62|   62|     F|2029-09-30 00:00:00|               null|      null|     null|               null|2107-01-25 17:04:00|      null|       null|\n",
      "|     3918| 62|    387|   53|   53|    53|   53|     M|2119-03-06 00:00:00|               null|      null|     null|               null|               null|      null|       null|\n",
      "|     3997| 62|    354|   93|   93|    93|   93|     M|2042-12-07 00:00:00|               null|      null|     null|               null|               null|      null|       null|\n",
      "|     4101| 63|    382|  121|  121|   121|  121|     M|2042-10-12 00:00:00|2103-01-22 18:01:00|      null|     null|               null|2103-01-22 18:01:00|      null|       null|\n",
      "|     4101| 60|    382|  121|  121|   121|  121|     M|2042-10-12 00:00:00|2103-01-22 18:01:00|      null|     null|               null|2103-01-22 18:01:00|      null|       null|\n",
      "|     4519|  0|      3| null| null|  null| null|     M|2145-08-02 00:00:00|               null|      null|     null|               null|               null|      null|       null|\n",
      "|     4818|  0|     32|    2|    2|     2|    2|     F|2172-02-05 00:00:00|               null|      null|     null|               null|               null|      null|       null|\n",
      "|     4900| 70|    837|  201|  201|   201|  201|     M|2133-02-23 00:00:00|2193-04-17 08:00:00|      null|     null|               null|               null|      null|       null|\n",
      "|     4900| 60|    837|  201|  201|   201|  201|     M|2133-02-23 00:00:00|2193-04-17 08:00:00|      null|     null|               null|               null|      null|       null|\n",
      "|     4935| 62|    588|  180|  180|   180|  180|     M|2056-08-17 00:00:00|2119-01-19 21:11:00|      null|     null|2119-01-19 21:11:00|2119-01-19 21:11:00|      null|       null|\n",
      "|     5156|  0|     30| null| null|  null| null|     M|2134-04-28 00:00:00|               null|      null|     null|               null|               null|      null|       null|\n",
      "|     5300|  0|      3| null| null|  null| null|     M|2124-02-28 00:00:00|               null|      null|     null|               null|               null|      null|       null|\n",
      "|     5518| 20|   2714|  303|  303|   303|  303|     M|2097-01-28 00:00:00|               null|      null|     null|               null|               null|      null|       null|\n",
      "+---------+---+-------+-----+-----+------+-----+------+-------------------+-------------------+----------+---------+-------------------+-------------------+----------+-----------+\n",
      "only showing top 30 rows\n",
      "\n"
     ]
    }
   ],
   "source": [
    "mimic_data.show(30)"
   ]
  },
  {
   "cell_type": "code",
   "execution_count": 4,
   "metadata": {},
   "outputs": [],
   "source": [
    "#df_mimic_control\n",
    "\n",
    "df_mimic_control=mimic_data.select('person_id','age','gender','birth_date','F_T2D_Diag','F_ALZ_Diag')\n"
   ]
  },
  {
   "cell_type": "code",
   "execution_count": 13,
   "metadata": {},
   "outputs": [
    {
     "name": "stdout",
     "output_type": "stream",
     "text": [
      "+---------+---+------+-------------------+----------+----------+\n",
      "|person_id|age|gender|         birth_date|F_T2D_Diag|F_ALZ_Diag|\n",
      "+---------+---+------+-------------------+----------+----------+\n",
      "|      148| 78|     F|2029-07-11 00:00:00|      null|      null|\n",
      "|      463| 62|     F|2136-09-25 00:00:00|      null|      null|\n",
      "|      471| 75|     F|2046-08-30 00:00:00|      null|      null|\n",
      "|      833|  0|     M|2137-05-23 00:00:00|      null|      null|\n",
      "|     1088| 68|     M|2102-03-05 00:00:00|      null|      null|\n",
      "+---------+---+------+-------------------+----------+----------+\n",
      "only showing top 5 rows\n",
      "\n"
     ]
    }
   ],
   "source": [
    "df_mimic_control.show(5)"
   ]
  },
  {
   "cell_type": "code",
   "execution_count": 14,
   "metadata": {},
   "outputs": [
    {
     "name": "stdout",
     "output_type": "stream",
     "text": [
      "+---------+---+------+-------------------+-------------------+-------------------+\n",
      "|person_id|age|gender|         birth_date|         F_T2D_Diag|         F_ALZ_Diag|\n",
      "+---------+---+------+-------------------+-------------------+-------------------+\n",
      "|    23706| 65|     F|2134-01-20 00:00:00|2199-12-31 12:25:00|2200-06-30 23:45:00|\n",
      "|    23706| 66|     F|2134-01-20 00:00:00|2199-12-31 12:25:00|2200-06-30 23:45:00|\n",
      "|     6597| 72|     M|2028-07-08 00:00:00|2100-09-13 16:17:00|2100-09-13 16:17:00|\n",
      "|    64798| 88|     F|2083-09-26 00:00:00|2172-08-05 08:18:00|2172-08-05 08:18:00|\n",
      "|    79229| 78|     M|2074-06-03 00:00:00|2153-02-11 22:20:00|2153-02-11 22:20:00|\n",
      "|    45684| 69|     F|2100-06-21 00:00:00|2170-02-27 12:05:00|2170-02-27 12:05:00|\n",
      "|     7169| 85|     F|2069-05-24 00:00:00|2155-01-30 00:05:00|2155-01-30 00:05:00|\n",
      "|      876| 87|     F|2096-04-14 00:00:00|2183-07-31 19:28:00|2183-07-31 19:28:00|\n",
      "|    11059| 84|     F|2032-07-10 00:00:00|2116-07-12 13:35:00|2116-07-12 13:35:00|\n",
      "|    43738| 72|     F|2126-06-28 00:00:00|2199-06-07 15:40:00|2199-06-07 15:40:00|\n",
      "+---------+---+------+-------------------+-------------------+-------------------+\n",
      "only showing top 10 rows\n",
      "\n"
     ]
    }
   ],
   "source": [
    "#extract AD is null \n",
    "df_mimic_control.filter(mimic_data.F_T2D_Diag.isNotNull() & mimic_data.F_ALZ_Diag.isNotNull()).show(10)"
   ]
  },
  {
   "cell_type": "code",
   "execution_count": 15,
   "metadata": {},
   "outputs": [
    {
     "name": "stdout",
     "output_type": "stream",
     "text": [
      "+---------+---+------+-------------------+----------+----------+\n",
      "|person_id|age|gender|         birth_date|F_T2D_Diag|F_ALZ_Diag|\n",
      "+---------+---+------+-------------------+----------+----------+\n",
      "|      148| 78|     F|2029-07-11 00:00:00|      null|      null|\n",
      "|      463| 62|     F|2136-09-25 00:00:00|      null|      null|\n",
      "|      471| 75|     F|2046-08-30 00:00:00|      null|      null|\n",
      "|      833|  0|     M|2137-05-23 00:00:00|      null|      null|\n",
      "|     1088| 68|     M|2102-03-05 00:00:00|      null|      null|\n",
      "+---------+---+------+-------------------+----------+----------+\n",
      "only showing top 5 rows\n",
      "\n"
     ]
    }
   ],
   "source": [
    "#Certain selected columns as required\n",
    "df_mimic=mimic_data.select('person_id','age','gender','birth_date','F_T2D_Diag','F_ALZ_Diag')\n",
    "df_mimic.show(5)"
   ]
  },
  {
   "cell_type": "code",
   "execution_count": 16,
   "metadata": {},
   "outputs": [],
   "source": [
    "#T2D_OR_AD_FIRST?\n",
    "T2D_OR_AD_FIRST =F.round((F.col(\"F_T2D_Diag\").cast(\"long\") - F.col(\"F_ALZ_Diag\").cast(\"long\"))/(365*60*60*24), 3)\n",
    "df_mimic=df_mimic.withColumn(\"T2D_OR_AD_FIRST\",T2D_OR_AD_FIRST)\n"
   ]
  },
  {
   "cell_type": "code",
   "execution_count": 17,
   "metadata": {},
   "outputs": [
    {
     "name": "stdout",
     "output_type": "stream",
     "text": [
      "+---------+---+------+-------------------+----------+----------+---------------+\n",
      "|person_id|age|gender|         birth_date|F_T2D_Diag|F_ALZ_Diag|T2D_OR_AD_FIRST|\n",
      "+---------+---+------+-------------------+----------+----------+---------------+\n",
      "|      148| 78|     F|2029-07-11 00:00:00|      null|      null|           null|\n",
      "|      463| 62|     F|2136-09-25 00:00:00|      null|      null|           null|\n",
      "|      471| 75|     F|2046-08-30 00:00:00|      null|      null|           null|\n",
      "|      833|  0|     M|2137-05-23 00:00:00|      null|      null|           null|\n",
      "|     1088| 68|     M|2102-03-05 00:00:00|      null|      null|           null|\n",
      "+---------+---+------+-------------------+----------+----------+---------------+\n",
      "only showing top 5 rows\n",
      "\n"
     ]
    }
   ],
   "source": [
    "df_mimic.show(5)"
   ]
  },
  {
   "cell_type": "code",
   "execution_count": 18,
   "metadata": {},
   "outputs": [],
   "source": [
    "#Age diag\n",
    "Age_T2d_First =F.round((F.col(\"F_T2D_Diag\").cast(\"long\") - F.col(\"birth_date\").cast(\"long\"))/(365*60*60*24), 3)\n",
    "Age_Ad_First =F.round((F.col(\"F_ALZ_Diag\").cast(\"long\") - F.col(\"birth_date\").cast(\"long\"))/(365*60*60*24), 3)\n"
   ]
  },
  {
   "cell_type": "code",
   "execution_count": 19,
   "metadata": {},
   "outputs": [],
   "source": [
    "df_mimic=df_mimic.withColumn(\"Age_T2d_First\",Age_T2d_First).withColumn(\"Age_Ad_First\",Age_Ad_First)\n"
   ]
  },
  {
   "cell_type": "code",
   "execution_count": 21,
   "metadata": {},
   "outputs": [],
   "source": [
    "df1_mimic=df_mimic.select(['person_id','gender', 'Age_T2d_First', 'Age_Ad_First','T2D_OR_AD_FIRST'])"
   ]
  },
  {
   "cell_type": "code",
   "execution_count": 23,
   "metadata": {},
   "outputs": [
    {
     "name": "stdout",
     "output_type": "stream",
     "text": [
      "+---------+------+-------------+------------+---------------+\n",
      "|person_id|gender|Age_T2d_First|Age_Ad_First|T2D_OR_AD_FIRST|\n",
      "+---------+------+-------------+------------+---------------+\n",
      "|      148|     F|         null|        null|           null|\n",
      "|      463|     F|         null|        null|           null|\n",
      "|      471|     F|         null|        null|           null|\n",
      "|      833|     M|         null|        null|           null|\n",
      "|     1088|     M|         null|        null|           null|\n",
      "|     1238|     F|         null|        null|           null|\n",
      "|     1342|     F|         null|        null|           null|\n",
      "|     1580|     F|         null|        null|           null|\n",
      "|     1591|     M|         null|        null|           null|\n",
      "|     1645|     F|         null|        null|           null|\n",
      "|     1829|     M|       53.854|        null|           null|\n",
      "|     1959|     F|         null|        null|           null|\n",
      "|     2122|     M|         null|        null|           null|\n",
      "|     2142|     M|         null|        null|           null|\n",
      "|     2366|     F|         null|        null|           null|\n",
      "|     2659|     M|         null|        null|           null|\n",
      "|     3175|     F|         null|        null|           null|\n",
      "|     3794|     F|         null|        null|           null|\n",
      "|     3918|     M|         null|        null|           null|\n",
      "|     3997|     M|         null|        null|           null|\n",
      "|     4101|     M|        60.32|        null|           null|\n",
      "|     4101|     M|        60.32|        null|           null|\n",
      "|     4519|     M|         null|        null|           null|\n",
      "|     4818|     F|         null|        null|           null|\n",
      "|     4900|     M|       60.187|        null|           null|\n",
      "|     4900|     M|       60.187|        null|           null|\n",
      "|     4935|     M|       62.466|        null|           null|\n",
      "|     5156|     M|         null|        null|           null|\n",
      "|     5300|     M|         null|        null|           null|\n",
      "|     5518|     M|         null|        null|           null|\n",
      "|     5803|     M|         null|        null|           null|\n",
      "|     6336|     M|         null|        null|           null|\n",
      "|     6357|     F|         null|        null|           null|\n",
      "|     6397|     F|       76.549|        null|           null|\n",
      "|     6466|     M|       75.712|        null|           null|\n",
      "|     6466|     M|       75.712|        null|           null|\n",
      "|     6466|     M|       75.712|        null|           null|\n",
      "|     6620|     M|        76.44|        null|           null|\n",
      "|     6654|     M|       61.365|        null|           null|\n",
      "|     6658|     F|         null|        null|           null|\n",
      "|     7240|     F|         null|        null|           null|\n",
      "|     7253|     F|         null|        null|           null|\n",
      "|     7253|     F|         null|        null|           null|\n",
      "|     7340|     F|       46.334|        null|           null|\n",
      "|     7554|     M|       77.638|        null|           null|\n",
      "|     7554|     M|       77.638|        null|           null|\n",
      "|     7754|     F|         null|        null|           null|\n",
      "|     7833|     F|         null|        null|           null|\n",
      "|     7880|     M|         null|        null|           null|\n",
      "|     7982|     M|         null|        null|           null|\n",
      "+---------+------+-------------+------------+---------------+\n",
      "only showing top 50 rows\n",
      "\n"
     ]
    }
   ],
   "source": [
    "df1_mimic.show(50)"
   ]
  },
  {
   "cell_type": "code",
   "execution_count": 24,
   "metadata": {},
   "outputs": [],
   "source": [
    "df_new_mimic=df_mimic.select(['Age_T2d_First', 'Age_Ad_First'])"
   ]
  },
  {
   "cell_type": "code",
   "execution_count": 25,
   "metadata": {},
   "outputs": [],
   "source": [
    "df1_new_mimic=df_new_mimic.filter(df_mimic.Age_T2d_First<=100 )"
   ]
  },
  {
   "cell_type": "code",
   "execution_count": 26,
   "metadata": {},
   "outputs": [
    {
     "data": {
      "text/plain": [
       "<matplotlib.legend.Legend at 0x23ad8fc6148>"
      ]
     },
     "execution_count": 26,
     "metadata": {},
     "output_type": "execute_result"
    },
    {
     "data": {
      "image/png": "[encoded data removed]",
      "text/plain": [
       "<Figure size 432x288 with 1 Axes>"
      ]
     },
     "metadata": {
      "needs_background": "light"
     },
     "output_type": "display_data"
    }
   ],
   "source": [
    "#histogram of age of T2D and age of AD in one graph\n",
    "\n",
    "from pyspark_dist_explore import hist\n",
    "fig, ax = plt.subplots()\n",
    "hist(ax, df1_new_mimic, bins = 20, color=['green','red'])\n",
    "ax.set_ylabel('Frequencies')\n",
    "ax.set_xlabel('AGE')\n",
    "ax.set_title('Histogram')\n",
    "ax.legend(prop={'size': 10})"
   ]
  },
  {
   "cell_type": "code",
   "execution_count": 27,
   "metadata": {},
   "outputs": [],
   "source": [
    "df2_new_mimic=df_mimic.select(['gender','Age_T2d_First', 'Age_Ad_First'])"
   ]
  },
  {
   "cell_type": "code",
   "execution_count": 31,
   "metadata": {},
   "outputs": [
    {
     "data": {
      "text/plain": [
       "([<matplotlib.axis.XTick at 0x23ad9177248>,\n",
       "  <matplotlib.axis.XTick at 0x23ad91fa2c8>],\n",
       " <a list of 2 Text xticklabel objects>)"
      ]
     },
     "execution_count": 31,
     "metadata": {},
     "output_type": "execute_result"
    },
    {
     "data": {
      "image/png": "[encoded data removed]",
      "text/plain": [
       "<Figure size 432x288 with 1 Axes>"
      ]
     },
     "metadata": {
      "needs_background": "light"
     },
     "output_type": "display_data"
    }
   ],
   "source": [
    "import numpy as np\n",
    "responses = df2_new_mimic.groupBy('gender').count().collect()\n",
    "categories = [i[0] for i in responses]\n",
    "counts = [i[1] for i in responses]\n",
    " \n",
    "ind = np.array(range(len(categories)))\n",
    "width = 0.35\n",
    "plt.bar(ind, counts, width=width, color='b')\n",
    "\n",
    "plt.ylabel('counts')\n",
    "plt.title('gender')\n",
    "plt.xticks(ind + width/2., categories)"
   ]
  },
  {
   "cell_type": "code",
   "execution_count": 32,
   "metadata": {},
   "outputs": [],
   "source": [
    "df3_mimic=df2_new_mimic.filter(df2_new_mimic.Age_T2d_First.isNotNull() & df2_new_mimic.Age_Ad_First.isNotNull())"
   ]
  },
  {
   "cell_type": "code",
   "execution_count": 33,
   "metadata": {},
   "outputs": [
    {
     "name": "stdout",
     "output_type": "stream",
     "text": [
      "+------+-------------+------------+\n",
      "|gender|Age_T2d_First|Age_Ad_First|\n",
      "+------+-------------+------------+\n",
      "|     F|        65.99|      66.488|\n",
      "|     F|        65.99|      66.488|\n",
      "|     M|       72.232|      72.232|\n",
      "|     F|       88.919|      88.919|\n",
      "|     M|       78.748|      78.748|\n",
      "+------+-------------+------------+\n",
      "only showing top 5 rows\n",
      "\n"
     ]
    }
   ],
   "source": [
    "df3_mimic.show(5)"
   ]
  },
  {
   "cell_type": "code",
   "execution_count": 34,
   "metadata": {},
   "outputs": [
    {
     "data": {
      "text/plain": [
       "([<matplotlib.axis.XTick at 0x23ad9111888>,\n",
       "  <matplotlib.axis.XTick at 0x23ad9248548>],\n",
       " <a list of 2 Text xticklabel objects>)"
      ]
     },
     "execution_count": 34,
     "metadata": {},
     "output_type": "execute_result"
    },
    {
     "data": {
      "image/png": "[encoded data removed]",
      "text/plain": [
       "<Figure size 432x288 with 1 Axes>"
      ]
     },
     "metadata": {
      "needs_background": "light"
     },
     "output_type": "display_data"
    }
   ],
   "source": [
    "import numpy as np\n",
    "responses = df3_mimic.groupBy('gender').count().collect()\n",
    "categories = [i[0] for i in responses]\n",
    "counts = [i[1] for i in responses]\n",
    " \n",
    "ind = np.array(range(len(categories)))\n",
    "width = 0.35\n",
    "plt.bar(ind, counts, width=width, color='b')\n",
    "\n",
    "plt.ylabel('counts')\n",
    "plt.title('gender')\n",
    "plt.xticks(ind + width/2., categories)"
   ]
  },
  {
   "cell_type": "markdown",
   "metadata": {},
   "source": [
    "# the analysis of this table with respect to gender and T2D age , AD age"
   ]
  },
  {
   "cell_type": "code",
   "execution_count": 35,
   "metadata": {},
   "outputs": [
    {
     "data": {
      "text/plain": [
       "12184"
      ]
     },
     "execution_count": 35,
     "metadata": {},
     "output_type": "execute_result"
    }
   ],
   "source": [
    "#T2D_age_total count\n",
    "T2D_age_total=df2_new_mimic.filter(df2_new_mimic.Age_T2d_First. isNotNull()).count()\n",
    "T2D_age_total"
   ]
  },
  {
   "cell_type": "code",
   "execution_count": 36,
   "metadata": {},
   "outputs": [
    {
     "name": "stdout",
     "output_type": "stream",
     "text": [
      "+------+-----+\n",
      "|gender|count|\n",
      "+------+-----+\n",
      "|     F| 5228|\n",
      "|     M| 6956|\n",
      "+------+-----+\n",
      "\n"
     ]
    }
   ],
   "source": [
    "#count T2D_age_total by gender\n",
    "T2D_age_total_byGender=df2_new_mimic.filter(df2_new_mimic.Age_T2d_First. isNotNull()).groupby([\"gender\"]).count().show()"
   ]
  },
  {
   "cell_type": "code",
   "execution_count": 37,
   "metadata": {},
   "outputs": [
    {
     "data": {
      "text/plain": [
       "600"
      ]
     },
     "execution_count": 37,
     "metadata": {},
     "output_type": "execute_result"
    }
   ],
   "source": [
    "#AD_age_total count\n",
    "AD_age_total=df2_new_mimic.filter(df2_new_mimic.Age_Ad_First. isNotNull()).count()\n",
    "AD_age_total"
   ]
  },
  {
   "cell_type": "code",
   "execution_count": 38,
   "metadata": {},
   "outputs": [
    {
     "name": "stdout",
     "output_type": "stream",
     "text": [
      "+------+-----+\n",
      "|gender|count|\n",
      "+------+-----+\n",
      "|     F|  348|\n",
      "|     M|  252|\n",
      "+------+-----+\n",
      "\n"
     ]
    }
   ],
   "source": [
    "#count AD_age_total by gender\n",
    "AD_age_total_byGender=df2_new_mimic.filter(df2_new_mimic.Age_Ad_First. isNotNull()).groupby([\"gender\"]).count().show()"
   ]
  },
  {
   "cell_type": "code",
   "execution_count": 39,
   "metadata": {},
   "outputs": [],
   "source": [
    "df2_mimic=df1_mimic.filter(df1_mimic.Age_T2d_First.isNotNull() & df1_mimic.Age_Ad_First.isNotNull())"
   ]
  },
  {
   "cell_type": "code",
   "execution_count": 40,
   "metadata": {},
   "outputs": [
    {
     "name": "stdout",
     "output_type": "stream",
     "text": [
      "+---------+------+-------------+------------+---------------+\n",
      "|person_id|gender|Age_T2d_First|Age_Ad_First|T2D_OR_AD_FIRST|\n",
      "+---------+------+-------------+------------+---------------+\n",
      "|    23706|     F|        65.99|      66.488|         -0.497|\n",
      "|    23706|     F|        65.99|      66.488|         -0.497|\n",
      "|     6597|     M|       72.232|      72.232|            0.0|\n",
      "|    64798|     F|       88.919|      88.919|            0.0|\n",
      "|    79229|     M|       78.748|      78.748|            0.0|\n",
      "|    45684|     F|       69.736|      69.736|            0.0|\n",
      "|     7169|     F|       85.743|      85.743|            0.0|\n",
      "|      876|     F|       87.353|      87.353|            0.0|\n",
      "|    11059|     F|       84.062|      84.062|            0.0|\n",
      "|    43738|     F|       72.994|      72.994|            0.0|\n",
      "+---------+------+-------------+------------+---------------+\n",
      "only showing top 10 rows\n",
      "\n"
     ]
    }
   ],
   "source": [
    "df2_mimic.show(10)"
   ]
  },
  {
   "cell_type": "markdown",
   "metadata": {},
   "source": [
    "# histogram of age of T2D and age of AD "
   ]
  },
  {
   "cell_type": "code",
   "execution_count": 46,
   "metadata": {},
   "outputs": [],
   "source": [
    "df2_mimic_new=df2_mimic.select(['Age_T2d_First', 'Age_Ad_First']).filter(df_mimic.Age_T2d_First<=100 )"
   ]
  },
  {
   "cell_type": "code",
   "execution_count": 47,
   "metadata": {},
   "outputs": [
    {
     "data": {
      "text/plain": [
       "<matplotlib.legend.Legend at 0x23ad943d6c8>"
      ]
     },
     "execution_count": 47,
     "metadata": {},
     "output_type": "execute_result"
    },
    {
     "data": {
      "image/png": "[encoded data removed]",
      "text/plain": [
       "<Figure size 432x288 with 1 Axes>"
      ]
     },
     "metadata": {
      "needs_background": "light"
     },
     "output_type": "display_data"
    }
   ],
   "source": [
    "#histogram of age of T2D and age of AD in one graph\n",
    "\n",
    "from pyspark_dist_explore import hist\n",
    "fig, ax = plt.subplots()\n",
    "hist(ax, df2_mimic_new, bins = 20, color=['green','red'])\n",
    "ax.set_ylabel('Frequencies')\n",
    "ax.set_xlabel('AGE')\n",
    "ax.set_title('Histogram')\n",
    "ax.legend(prop={'size': 10})"
   ]
  },
  {
   "cell_type": "code",
   "execution_count": 48,
   "metadata": {},
   "outputs": [
    {
     "name": "stdout",
     "output_type": "stream",
     "text": [
      "+---------+------+-------------+------------+---------------+\n",
      "|person_id|gender|Age_T2d_First|Age_Ad_First|T2D_OR_AD_FIRST|\n",
      "+---------+------+-------------+------------+---------------+\n",
      "|    23706|     F|        65.99|      66.488|         -0.497|\n",
      "|    23706|     F|        65.99|      66.488|         -0.497|\n",
      "|     6597|     M|       72.232|      72.232|            0.0|\n",
      "|    64798|     F|       88.919|      88.919|            0.0|\n",
      "|    79229|     M|       78.748|      78.748|            0.0|\n",
      "|    45684|     F|       69.736|      69.736|            0.0|\n",
      "|     7169|     F|       85.743|      85.743|            0.0|\n",
      "|      876|     F|       87.353|      87.353|            0.0|\n",
      "|    11059|     F|       84.062|      84.062|            0.0|\n",
      "|    43738|     F|       72.994|      72.994|            0.0|\n",
      "+---------+------+-------------+------------+---------------+\n",
      "only showing top 10 rows\n",
      "\n"
     ]
    }
   ],
   "source": [
    "df2_mimic.show(10)"
   ]
  },
  {
   "cell_type": "code",
   "execution_count": 55,
   "metadata": {},
   "outputs": [
    {
     "data": {
      "text/plain": [
       "168"
      ]
     },
     "execution_count": 55,
     "metadata": {},
     "output_type": "execute_result"
    }
   ],
   "source": [
    "#Total person having T2D or AD \n",
    "df2_mimic.count()"
   ]
  },
  {
   "cell_type": "code",
   "execution_count": 56,
   "metadata": {},
   "outputs": [
    {
     "name": "stdout",
     "output_type": "stream",
     "text": [
      "+------+-----+\n",
      "|gender|count|\n",
      "+------+-----+\n",
      "|     F|  103|\n",
      "|     M|   65|\n",
      "+------+-----+\n",
      "\n"
     ]
    }
   ],
   "source": [
    "#Total person having T2D or AD by gender\n",
    "df2_mimic.groupby([\"gender\"]).count().show()"
   ]
  },
  {
   "cell_type": "code",
   "execution_count": 49,
   "metadata": {},
   "outputs": [
    {
     "data": {
      "text/plain": [
       "36"
      ]
     },
     "execution_count": 49,
     "metadata": {},
     "output_type": "execute_result"
    }
   ],
   "source": [
    "#T2D first Diag\n",
    "df2_mimic.filter(F.col(\"T2D_OR_AD_FIRST\") < 0).count()"
   ]
  },
  {
   "cell_type": "code",
   "execution_count": 50,
   "metadata": {},
   "outputs": [
    {
     "data": {
      "text/plain": [
       "4"
      ]
     },
     "execution_count": 50,
     "metadata": {},
     "output_type": "execute_result"
    }
   ],
   "source": [
    "#AD first Diag\n",
    "df2_mimic.filter(F.col(\"T2D_OR_AD_FIRST\") > 0).count()"
   ]
  },
  {
   "cell_type": "code",
   "execution_count": 51,
   "metadata": {},
   "outputs": [
    {
     "data": {
      "text/plain": [
       "128"
      ]
     },
     "execution_count": 51,
     "metadata": {},
     "output_type": "execute_result"
    }
   ],
   "source": [
    "#T2D and AD at the same time\n",
    "df2_mimic.filter(F.col(\"T2D_OR_AD_FIRST\") == 0).count()"
   ]
  }
 ],
 "metadata": {
  "kernelspec": {
   "display_name": "Python 3",
   "language": "python",
   "name": "python3"
  },
  "language_info": {
   "codemirror_mode": {
    "name": "ipython",
    "version": 3
   },
   "file_extension": ".py",
   "mimetype": "text/x-python",
   "name": "python",
   "nbconvert_exporter": "python",
   "pygments_lexer": "ipython3",
   "version": "3.7.6"
  }
 },
 "nbformat": 4,
 "nbformat_minor": 4
}
