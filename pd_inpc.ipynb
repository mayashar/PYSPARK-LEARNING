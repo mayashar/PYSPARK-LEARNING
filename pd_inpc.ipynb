{
 "cells": [
  {
   "cell_type": "markdown",
   "metadata": {},
   "source": [
    "PLEASE COMMENT SUGGESTIONS AFTER PANDAS TO MOVE AHEAD"
   ]
  },
  {
   "cell_type": "code",
   "execution_count": 1,
   "metadata": {},
   "outputs": [
    {
     "name": "stdout",
     "output_type": "stream",
     "text": [
      "+---------+---------+------+---------+----------------+-------------------+------+-------------------+-----------+-------------------+-------------------+---------+-------------------+-------+--------------+-------------------+------------+-------------------+----------------------+---------------------+---------------------+---------------------+-------------------+---------------+\n",
      "|person_id|INDEX_AGE|GENDER|ETHNICITY|            RACE|         BIRTH_DATE|diagRL|         F_T2D_Diag|F_GEST_Diag|         F_T1D_Diag|         F_CVD_Diag|F_LD_Diag|          F_KD_Diag|HBA1Cct|Ct_AlzDiagCode|       F_AlzDiagDay|S_AlzDiagDay|       L_AlzDiagDay|Ct_AlzDementiaDiagCode|F_AlzDementia_DiagDay|S_AlzDementia_DiagDay|L_AlzDementia_DiagDay|       F_Neuro_Diag|F_NeuroDiag_Age|\n",
      "+---------+---------+------+---------+----------------+-------------------+------+-------------------+-----------+-------------------+-------------------+---------+-------------------+-------+--------------+-------------------+------------+-------------------+----------------------+---------------------+---------------------+---------------------+-------------------+---------------+\n",
      "|     1238|       53|     F|    other|african_american|1950-10-06 00:00:00| 22.41|2001-04-07 00:00:00|       null|               null|               null|     null|1996-12-11 00:00:00|   null|          null|               null|        null|               null|                     1|  2017-04-14 00:00:00|                 null|  2017-04-14 00:00:00|2017-04-14 00:00:00|          66.57|\n",
      "|     1342|       89|     F|    other|african_american|1920-04-19 00:00:00| 20.55|1997-11-03 00:00:00|       null|2001-04-03 00:00:00|1996-11-17 00:00:00|     null|               null|   null|             1|2016-10-28 00:00:00|        null|2016-10-28 00:00:00|                     2|  2011-06-25 00:00:00|  2012-05-06 00:00:00|  2016-10-28 00:00:00|2011-06-25 00:00:00|          91.24|\n",
      "|     1645|       82|     M|    other|african_american|1928-05-07 00:00:00| 11.94|1999-12-21 00:00:00|       null|2010-12-04 00:00:00|2011-11-02 00:00:00|     null|2011-11-12 00:00:00|      7|          null|               null|        null|               null|                     1|  2011-07-13 00:00:00|  2011-07-15 00:00:00|  2011-07-15 00:00:00|2011-07-13 00:00:00|          83.24|\n",
      "|     2366|       60|     F|    other|african_american|1948-10-29 00:00:00| 13.33|1996-06-19 00:00:00|       null|1999-06-03 00:00:00|2009-06-10 00:00:00|     null|2009-05-03 00:00:00|      2|          null|               null|        null|               null|                     1|  2009-09-12 00:00:00|                 null|  2009-09-12 00:00:00|2009-09-12 00:00:00|          60.91|\n",
      "|     2659|       82|     M|    other|           white|1926-12-31 00:00:00| 15.55|2003-04-23 00:00:00|       null|               null|2009-06-27 00:00:00|     null|2012-03-16 00:00:00|      1|          null|               null|        null|               null|                     2|  2012-03-16 00:00:00|  2012-03-30 00:00:00|  2012-12-18 00:00:00|2012-03-16 00:00:00|          85.27|\n",
      "+---------+---------+------+---------+----------------+-------------------+------+-------------------+-----------+-------------------+-------------------+---------+-------------------+-------+--------------+-------------------+------------+-------------------+----------------------+---------------------+---------------------+---------------------+-------------------+---------------+\n",
      "only showing top 5 rows\n",
      "\n"
     ]
    }
   ],
   "source": [
    "# Reading the csv file into the dataframe\n",
    "df = spark.read.csv(\"inpc.csv\", header='true', inferSchema='true')\n",
    "df.show(5)"
   ]
  },
  {
   "cell_type": "code",
   "execution_count": 2,
   "metadata": {},
   "outputs": [
    {
     "name": "stdout",
     "output_type": "stream",
     "text": [
      "root\n",
      " |-- person_id: integer (nullable = true)\n",
      " |-- INDEX_AGE: integer (nullable = true)\n",
      " |-- GENDER: string (nullable = true)\n",
      " |-- ETHNICITY: string (nullable = true)\n",
      " |-- RACE: string (nullable = true)\n",
      " |-- BIRTH_DATE: timestamp (nullable = true)\n",
      " |-- diagRL: double (nullable = true)\n",
      " |-- F_T2D_Diag: timestamp (nullable = true)\n",
      " |-- F_GEST_Diag: timestamp (nullable = true)\n",
      " |-- F_T1D_Diag: timestamp (nullable = true)\n",
      " |-- F_CVD_Diag: timestamp (nullable = true)\n",
      " |-- F_LD_Diag: timestamp (nullable = true)\n",
      " |-- F_KD_Diag: timestamp (nullable = true)\n",
      " |-- HBA1Cct: integer (nullable = true)\n",
      " |-- Ct_AlzDiagCode: integer (nullable = true)\n",
      " |-- F_AlzDiagDay: timestamp (nullable = true)\n",
      " |-- S_AlzDiagDay: timestamp (nullable = true)\n",
      " |-- L_AlzDiagDay: timestamp (nullable = true)\n",
      " |-- Ct_AlzDementiaDiagCode: integer (nullable = true)\n",
      " |-- F_AlzDementia_DiagDay: timestamp (nullable = true)\n",
      " |-- S_AlzDementia_DiagDay: timestamp (nullable = true)\n",
      " |-- L_AlzDementia_DiagDay: timestamp (nullable = true)\n",
      " |-- F_Neuro_Diag: timestamp (nullable = true)\n",
      " |-- F_NeuroDiag_Age: double (nullable = true)\n",
      "\n"
     ]
    }
   ],
   "source": [
    "# Printing the schema of the dataset\n",
    "df.printSchema()"
   ]
  },
  {
   "cell_type": "code",
   "execution_count": 3,
   "metadata": {},
   "outputs": [
    {
     "name": "stdout",
     "output_type": "stream",
     "text": [
      "+---------+------+----------------+-------------------+-------------------+-------------------+---------------------+\n",
      "|person_id|GENDER|            RACE|         BIRTH_DATE|         F_T2D_Diag|       F_AlzDiagDay|F_AlzDementia_DiagDay|\n",
      "+---------+------+----------------+-------------------+-------------------+-------------------+---------------------+\n",
      "|     1238|     F|african_american|1950-10-06 00:00:00|2001-04-07 00:00:00|               null|  2017-04-14 00:00:00|\n",
      "|     1342|     F|african_american|1920-04-19 00:00:00|1997-11-03 00:00:00|2016-10-28 00:00:00|  2011-06-25 00:00:00|\n",
      "|     1645|     M|african_american|1928-05-07 00:00:00|1999-12-21 00:00:00|               null|  2011-07-13 00:00:00|\n",
      "|     2366|     F|african_american|1948-10-29 00:00:00|1996-06-19 00:00:00|               null|  2009-09-12 00:00:00|\n",
      "|     2659|     M|           white|1926-12-31 00:00:00|2003-04-23 00:00:00|               null|  2012-03-16 00:00:00|\n",
      "|     3918|     F|african_american|1942-03-31 00:00:00|               null|               null|  2017-02-05 01:32:00|\n",
      "|     4101|     M|african_american|1937-01-14 00:00:00|1997-04-10 00:00:00|               null|  2011-08-25 00:00:00|\n",
      "|     5803|     F|           white|1924-03-06 00:00:00|2013-06-05 00:00:00|               null|  2013-02-22 00:00:00|\n",
      "|     6654|     F|african_american|1939-04-08 00:00:00|2015-07-08 00:00:00|               null|  2017-04-10 00:00:00|\n",
      "|    12046|     F|           white|1957-01-03 00:00:00|2005-04-02 00:00:00|               null|  2012-12-24 00:00:00|\n",
      "|    12799|     F|           other|1940-05-22 00:00:00|2003-10-25 00:00:00|2013-01-05 00:00:00|  2012-12-17 00:00:00|\n",
      "|    13289|     M|           white|1980-10-05 00:00:00|2011-12-18 00:00:00|               null|  2004-09-07 00:00:00|\n",
      "|    13623|     M|           white|1939-10-11 00:00:00|               null|               null|  2017-10-15 00:00:00|\n",
      "|    13840|     F|           white|1967-02-08 00:00:00|2009-04-27 00:00:00|               null|  2015-02-07 00:00:00|\n",
      "|    15727|     M|           white|1951-01-07 00:00:00|2004-11-01 00:00:00|               null|  2010-07-07 00:00:00|\n",
      "|    20683|     F|           other|1954-08-27 00:00:00|2004-11-13 00:00:00|               null|  2011-12-05 00:00:00|\n",
      "|    20735|     F|           white|1925-05-11 00:00:00|2012-08-11 00:00:00|               null|  2013-09-24 00:00:00|\n",
      "|    24171|     F|           white|1936-03-01 00:00:00|2001-03-14 00:00:00|               null|  2013-07-20 00:00:00|\n",
      "|    24347|     F|           other|1949-05-14 00:00:00|2007-04-08 00:00:00|               null|  2010-09-07 00:00:00|\n",
      "|    28577|     F|african_american|1942-08-20 00:00:00|               null|               null|  2011-08-01 00:00:00|\n",
      "+---------+------+----------------+-------------------+-------------------+-------------------+---------------------+\n",
      "only showing top 20 rows\n",
      "\n"
     ]
    }
   ],
   "source": [
    "df_temp=df.select(\"person_id\",\"GENDER\",\"RACE\",\"BIRTH_DATE\",\"F_T2D_Diag\",\"F_AlzDiagDay\",\"F_AlzDementia_DiagDay\")\n",
    "df_temp.show()"
   ]
  },
  {
   "cell_type": "code",
   "execution_count": 5,
   "metadata": {},
   "outputs": [
    {
     "data": {
      "text/plain": [
       "50392"
      ]
     },
     "execution_count": 5,
     "metadata": {},
     "output_type": "execute_result"
    }
   ],
   "source": [
    "df_temp.count()"
   ]
  },
  {
   "cell_type": "code",
   "execution_count": 24,
   "metadata": {},
   "outputs": [
    {
     "name": "stdout",
     "output_type": "stream",
     "text": [
      "+------+-----+\n",
      "|GENDER|count|\n",
      "+------+-----+\n",
      "|     F|29649|\n",
      "|     M|20740|\n",
      "|     U|    3|\n",
      "+------+-----+\n",
      "\n"
     ]
    }
   ],
   "source": [
    "df_temp.groupby([\"GENDER\"]).count().show()"
   ]
  },
  {
   "cell_type": "markdown",
   "metadata": {},
   "source": [
    "COUNTING FOR TYPE 2 DIABETES"
   ]
  },
  {
   "cell_type": "code",
   "execution_count": 13,
   "metadata": {},
   "outputs": [
    {
     "data": {
      "text/plain": [
       "43558"
      ]
     },
     "execution_count": 13,
     "metadata": {},
     "output_type": "execute_result"
    }
   ],
   "source": [
    "df_temp.filter(df_temp.F_T2D_Diag. isNotNull()).count()"
   ]
  },
  {
   "cell_type": "code",
   "execution_count": 14,
   "metadata": {},
   "outputs": [
    {
     "name": "stdout",
     "output_type": "stream",
     "text": [
      "+------+-----+\n",
      "|GENDER|count|\n",
      "+------+-----+\n",
      "|     F|25697|\n",
      "|     M|17858|\n",
      "|     U|    3|\n",
      "+------+-----+\n",
      "\n"
     ]
    }
   ],
   "source": [
    "df_temp.filter(df_temp.F_T2D_Diag. isNotNull()).groupby([\"GENDER\"]).count().show()"
   ]
  },
  {
   "cell_type": "markdown",
   "metadata": {},
   "source": [
    "COUNTING FOR ALZHEIMER'S DISEASE"
   ]
  },
  {
   "cell_type": "code",
   "execution_count": 16,
   "metadata": {},
   "outputs": [
    {
     "data": {
      "text/plain": [
       "5340"
      ]
     },
     "execution_count": 16,
     "metadata": {},
     "output_type": "execute_result"
    }
   ],
   "source": [
    "df_temp.filter(df_temp.F_AlzDiagDay.isNotNull()).count()"
   ]
  },
  {
   "cell_type": "code",
   "execution_count": 18,
   "metadata": {},
   "outputs": [
    {
     "name": "stdout",
     "output_type": "stream",
     "text": [
      "+------+-----+\n",
      "|GENDER|count|\n",
      "+------+-----+\n",
      "|     F| 3309|\n",
      "|     M| 2031|\n",
      "+------+-----+\n",
      "\n"
     ]
    }
   ],
   "source": [
    "df_temp.filter(df_temp.F_AlzDiagDay. isNotNull()).groupby([\"GENDER\"]).count().show()"
   ]
  },
  {
   "cell_type": "markdown",
   "metadata": {},
   "source": [
    "COUNTING FOR ALZHEIMER'S DISEASE WITH DEMENTIA"
   ]
  },
  {
   "cell_type": "code",
   "execution_count": 19,
   "metadata": {},
   "outputs": [
    {
     "data": {
      "text/plain": [
       "49482"
      ]
     },
     "execution_count": 19,
     "metadata": {},
     "output_type": "execute_result"
    }
   ],
   "source": [
    "df_temp.filter(df_temp.F_AlzDementia_DiagDay.isNotNull()).count()"
   ]
  },
  {
   "cell_type": "code",
   "execution_count": 20,
   "metadata": {},
   "outputs": [
    {
     "name": "stdout",
     "output_type": "stream",
     "text": [
      "+------+-----+\n",
      "|GENDER|count|\n",
      "+------+-----+\n",
      "|     F|29086|\n",
      "|     M|20393|\n",
      "|     U|    3|\n",
      "+------+-----+\n",
      "\n"
     ]
    }
   ],
   "source": [
    "df_temp.filter(df_temp.F_AlzDementia_DiagDay. isNotNull()).groupby([\"GENDER\"]).count().show()"
   ]
  },
  {
   "cell_type": "code",
   "execution_count": 76,
   "metadata": {},
   "outputs": [
    {
     "data": {
      "text/plain": [
       "(50392, 29)"
      ]
     },
     "execution_count": 76,
     "metadata": {},
     "output_type": "execute_result"
    }
   ],
   "source": [
    "#count row and column\n",
    "def shape(self):\n",
    "    return (self.count(), len(self.columns))\n",
    "shape(df)"
   ]
  },
  {
   "cell_type": "code",
   "execution_count": 77,
   "metadata": {},
   "outputs": [],
   "source": [
    "from pyspark.sql.functions import rank, col, unix_timestamp, from_unixtime, to_timestamp\n",
    "from pyspark.sql import functions as F\n",
    "timeFmt = \"yyyy-MM-dd\"\n",
    "\n",
    "#Age of T2D diagnosed:\n",
    "age_of_T2D_diag = F.round((unix_timestamp('F_T2D_Diag', \"yyyy-MM-dd HH:mm:ss\") - unix_timestamp('BIRTH_DATE', \"yyyy-MM-dd HH:mm:ss\"))/(365*60*60*24), 2)\n",
    "df = df.withColumn(\"Age_T2D_Diag\", age_of_T2D_diag)\n",
    " \n",
    "#year of alzheimer's diagnosed:\n",
    "year_of_ad_diag = F.round((unix_timestamp('S_AlzDiagDay', \"yyyy-MM-dd HH:mm:ss\") - unix_timestamp('F_AlzDiagDay', \"yyyy-MM-dd HH:mm:ss\"))/(365*60*60*24), 2)\n",
    "df = df.withColumn(\"Year_AD_Diag\", year_of_ad_diag)\n",
    "\n",
    "#year of alzheimer with dementia diagnosed:\n",
    "Year_AD_Dem_Diag =F.round((unix_timestamp('S_AlzDementia_DiagDay', \"yyyy-MM-dd HH:mm:ss\") - unix_timestamp('F_AlzDementia_DiagDay', \"yyyy-MM-dd HH:mm:ss\"))/(365*60*60*24), 2)\n",
    "df = df.withColumn(\"Year_AD_Dem_Diag\", Year_AD_Dem_Diag)\n",
    "\n",
    "#Age of alzheimer diagnosed:\n",
    "age_of_ad_diag = F.round((unix_timestamp('F_AlzDiagDay', \"yyyy-MM-dd HH:mm:ss\") - unix_timestamp('BIRTH_DATE', \"yyyy-MM-dd HH:mm:ss\"))/(365*60*60*24), 2)\n",
    "df = df.withColumn(\"Age_AD_Diag\", age_of_ad_diag)\n",
    " \n",
    "#Age of alzheimer with dementia diagnosed:\n",
    "age_of_ad_with_dm_diag = F.round((unix_timestamp('F_AlzDementia_DiagDay', \"yyyy-MM-dd HH:mm:ss\") - unix_timestamp('BIRTH_DATE', \"yyyy-MM-dd HH:mm:ss\"))/(365*60*60*24), 2)\n",
    "df = df.withColumn(\"Age_AD_Dem_Diag\", age_of_ad_with_dm_diag)"
   ]
  },
  {
   "cell_type": "code",
   "execution_count": 78,
   "metadata": {},
   "outputs": [
    {
     "name": "stdout",
     "output_type": "stream",
     "text": [
      "Number of people with no Alzheimers at all 5340\n"
     ]
    }
   ],
   "source": [
    "#No AD at all\n",
    "no_ad_diag=df.where(col(\"F_AlzDiagDay\").isNotNull()).count()\n",
    "print(\"Number of people with no Alzheimers at all\",no_ad_diag)\n"
   ]
  },
  {
   "cell_type": "code",
   "execution_count": 79,
   "metadata": {},
   "outputs": [
    {
     "name": "stdout",
     "output_type": "stream",
     "text": [
      "Number of people with Alzheimers 45052\n"
     ]
    }
   ],
   "source": [
    "#Total diagnosed with alzheimer\n",
    "all_ad_diag=df.where(col(\"F_AlzDiagDay\").isNull()).count()\n",
    "print(\"Number of people with Alzheimers\",all_ad_diag)"
   ]
  },
  {
   "cell_type": "code",
   "execution_count": 80,
   "metadata": {},
   "outputs": [
    {
     "name": "stdout",
     "output_type": "stream",
     "text": [
      "Number of people with T2D 6834\n"
     ]
    }
   ],
   "source": [
    "#Total diagnosed with T2D\n",
    "all_T2D_diag=df.where(col(\"F_T2D_Diag\").isNull()).count()\n",
    "print(\"Number of people with T2D\",all_T2D_diag)"
   ]
  },
  {
   "cell_type": "code",
   "execution_count": 81,
   "metadata": {},
   "outputs": [],
   "source": [
    "df1=df.select(\"GENDER\",\"Age_T2D_Diag\",\"Age_AD_Diag\",\"Age_AD_Dem_Diag\")"
   ]
  },
  {
   "cell_type": "code",
   "execution_count": 87,
   "metadata": {},
   "outputs": [],
   "source": [
    "#removing null values\n",
    "#df_new=df1.na.drop()"
   ]
  },
  {
   "cell_type": "code",
   "execution_count": 82,
   "metadata": {},
   "outputs": [
    {
     "name": "stdout",
     "output_type": "stream",
     "text": [
      "+------+------------+-----------+---------------+\n",
      "|GENDER|Age_T2D_Diag|Age_AD_Diag|Age_AD_Dem_Diag|\n",
      "+------+------------+-----------+---------------+\n",
      "|     F|       50.54|       null|          66.57|\n",
      "|     F|       77.59|      96.59|          91.24|\n",
      "|     M|       71.67|       null|          83.24|\n",
      "|     F|       47.67|       null|          60.91|\n",
      "|     M|       76.36|       null|          85.27|\n",
      "|     F|        null|       null|           74.9|\n",
      "|     M|       60.28|       null|          74.66|\n",
      "|     F|       89.31|       null|          89.03|\n",
      "|     F|        76.3|       null|          78.06|\n",
      "|     F|       48.28|       null|          56.01|\n",
      "|     F|       63.47|      72.67|          72.62|\n",
      "|     M|       31.22|       null|          23.94|\n",
      "|     M|        null|       null|          78.07|\n",
      "|     F|       42.24|       null|          48.03|\n",
      "|     M|       53.85|       null|          59.54|\n",
      "|     F|       50.25|       null|          57.31|\n",
      "|     F|       87.31|       null|          88.43|\n",
      "|     F|       65.08|       null|          77.44|\n",
      "|     F|       57.94|       null|          61.36|\n",
      "|     F|        null|       null|          68.99|\n",
      "+------+------------+-----------+---------------+\n",
      "only showing top 20 rows\n",
      "\n"
     ]
    }
   ],
   "source": [
    "df1.show()"
   ]
  },
  {
   "cell_type": "code",
   "execution_count": 83,
   "metadata": {},
   "outputs": [],
   "source": [
    "pd_new=df1.toPandas()"
   ]
  },
  {
   "cell_type": "code",
   "execution_count": 84,
   "metadata": {},
   "outputs": [
    {
     "data": {
      "text/html": [
       "<div>\n",
       "<style scoped>\n",
       "    .dataframe tbody tr th:only-of-type {\n",
       "        vertical-align: middle;\n",
       "    }\n",
       "\n",
       "    .dataframe tbody tr th {\n",
       "        vertical-align: top;\n",
       "    }\n",
       "\n",
       "    .dataframe thead th {\n",
       "        text-align: right;\n",
       "    }\n",
       "</style>\n",
       "<table border=\"1\" class=\"dataframe\">\n",
       "  <thead>\n",
       "    <tr style=\"text-align: right;\">\n",
       "      <th></th>\n",
       "      <th>GENDER</th>\n",
       "      <th>Age_T2D_Diag</th>\n",
       "      <th>Age_AD_Diag</th>\n",
       "      <th>Age_AD_Dem_Diag</th>\n",
       "    </tr>\n",
       "  </thead>\n",
       "  <tbody>\n",
       "    <tr>\n",
       "      <th>0</th>\n",
       "      <td>F</td>\n",
       "      <td>50.54</td>\n",
       "      <td>NaN</td>\n",
       "      <td>66.57</td>\n",
       "    </tr>\n",
       "    <tr>\n",
       "      <th>1</th>\n",
       "      <td>F</td>\n",
       "      <td>77.59</td>\n",
       "      <td>96.59</td>\n",
       "      <td>91.24</td>\n",
       "    </tr>\n",
       "    <tr>\n",
       "      <th>2</th>\n",
       "      <td>M</td>\n",
       "      <td>71.67</td>\n",
       "      <td>NaN</td>\n",
       "      <td>83.24</td>\n",
       "    </tr>\n",
       "    <tr>\n",
       "      <th>3</th>\n",
       "      <td>F</td>\n",
       "      <td>47.67</td>\n",
       "      <td>NaN</td>\n",
       "      <td>60.91</td>\n",
       "    </tr>\n",
       "    <tr>\n",
       "      <th>4</th>\n",
       "      <td>M</td>\n",
       "      <td>76.36</td>\n",
       "      <td>NaN</td>\n",
       "      <td>85.27</td>\n",
       "    </tr>\n",
       "    <tr>\n",
       "      <th>...</th>\n",
       "      <td>...</td>\n",
       "      <td>...</td>\n",
       "      <td>...</td>\n",
       "      <td>...</td>\n",
       "    </tr>\n",
       "    <tr>\n",
       "      <th>50387</th>\n",
       "      <td>F</td>\n",
       "      <td>NaN</td>\n",
       "      <td>NaN</td>\n",
       "      <td>33.84</td>\n",
       "    </tr>\n",
       "    <tr>\n",
       "      <th>50388</th>\n",
       "      <td>M</td>\n",
       "      <td>NaN</td>\n",
       "      <td>NaN</td>\n",
       "      <td>69.64</td>\n",
       "    </tr>\n",
       "    <tr>\n",
       "      <th>50389</th>\n",
       "      <td>M</td>\n",
       "      <td>NaN</td>\n",
       "      <td>NaN</td>\n",
       "      <td>82.22</td>\n",
       "    </tr>\n",
       "    <tr>\n",
       "      <th>50390</th>\n",
       "      <td>F</td>\n",
       "      <td>NaN</td>\n",
       "      <td>NaN</td>\n",
       "      <td>76.15</td>\n",
       "    </tr>\n",
       "    <tr>\n",
       "      <th>50391</th>\n",
       "      <td>F</td>\n",
       "      <td>78.04</td>\n",
       "      <td>NaN</td>\n",
       "      <td>79.31</td>\n",
       "    </tr>\n",
       "  </tbody>\n",
       "</table>\n",
       "<p>50392 rows × 4 columns</p>\n",
       "</div>"
      ],
      "text/plain": [
       "      GENDER  Age_T2D_Diag  Age_AD_Diag  Age_AD_Dem_Diag\n",
       "0          F         50.54          NaN            66.57\n",
       "1          F         77.59        96.59            91.24\n",
       "2          M         71.67          NaN            83.24\n",
       "3          F         47.67          NaN            60.91\n",
       "4          M         76.36          NaN            85.27\n",
       "...      ...           ...          ...              ...\n",
       "50387      F           NaN          NaN            33.84\n",
       "50388      M           NaN          NaN            69.64\n",
       "50389      M           NaN          NaN            82.22\n",
       "50390      F           NaN          NaN            76.15\n",
       "50391      F         78.04          NaN            79.31\n",
       "\n",
       "[50392 rows x 4 columns]"
      ]
     },
     "execution_count": 84,
     "metadata": {},
     "output_type": "execute_result"
    }
   ],
   "source": [
    "pd_new"
   ]
  },
  {
   "cell_type": "code",
   "execution_count": 87,
   "metadata": {},
   "outputs": [
    {
     "data": {
      "image/png": "[encoded data removed]",
      "text/plain": [
       "<Figure size 720x720 with 1 Axes>"
      ]
     },
     "metadata": {
      "needs_background": "light"
     },
     "output_type": "display_data"
    }
   ],
   "source": [
    "import numpy as np       \n",
    "from matplotlib import pylab\n",
    "import matplotlib.pyplot as plt   \n",
    "fig, ax=plt.subplots(figsize=(10,10))\n",
    "ax.plot(pd_new.index,pd_new['Age_T2D_Diag'],marker='v',linestyle='None',color='r',label='Age of type 2 diabetes diagnosed')\n",
    "ax.plot(pd_new.index,pd_new['Age_AD_Diag'],marker='v',linestyle='None',color='b',label='Age of alzheimer diagnosed')\n",
    "ax.plot(pd_new.index,pd_new['Age_AD_Dem_Diag'],marker='v',linestyle='None',color='g',label='Age of alzheimer with dementia diagnosed')\n",
    "\n",
    "plt.legend(loc=\"center\")\n",
    "ax.set_xlabel(\"Number of People\")\n",
    "ax.set_ylabel(\"Age\")\n",
    "\n",
    "plt.show()"
   ]
  },
  {
   "cell_type": "code",
   "execution_count": 38,
   "metadata": {},
   "outputs": [],
   "source": [
    "import numpy as np\n",
    "import pandas as pd\n",
    "import matplotlib.pyplot as plt\n",
    "import seaborn as sns"
   ]
  },
  {
   "cell_type": "code",
   "execution_count": 88,
   "metadata": {},
   "outputs": [
    {
     "data": {
      "image/png": "[encoded data removed]",
      "text/plain": [
       "<Figure size 432x288 with 1 Axes>"
      ]
     },
     "metadata": {
      "needs_background": "light"
     },
     "output_type": "display_data"
    }
   ],
   "source": [
    "pd_new.groupby('GENDER').mean().plot(kind='bar').legend(bbox_to_anchor=(1.0, 1.0))\n",
    "\n",
    "plt.show()"
   ]
  },
  {
   "cell_type": "code",
   "execution_count": 89,
   "metadata": {},
   "outputs": [
    {
     "data": {
      "text/plain": [
       "array([[<matplotlib.axes._subplots.AxesSubplot object at 0x000001B7CB403B80>]],\n",
       "      dtype=object)"
      ]
     },
     "execution_count": 89,
     "metadata": {},
     "output_type": "execute_result"
    },
    {
     "data": {
      "image/png": "[encoded data removed]",
      "text/plain": [
       "<Figure size 864x576 with 1 Axes>"
      ]
     },
     "metadata": {
      "needs_background": "light"
     },
     "output_type": "display_data"
    }
   ],
   "source": [
    "pd_new.hist(column='Age_T2D_Diag', bins=25, grid=False, figsize=(12,8), color='#86bf91', zorder=2, rwidth=0.9)"
   ]
  },
  {
   "cell_type": "code",
   "execution_count": 49,
   "metadata": {},
   "outputs": [
    {
     "data": {
      "text/plain": [
       "array([[<matplotlib.axes._subplots.AxesSubplot object at 0x000001B7CB430A00>]],\n",
       "      dtype=object)"
      ]
     },
     "execution_count": 49,
     "metadata": {},
     "output_type": "execute_result"
    },
    {
     "data": {
      "image/png": "[encoded data removed]",
      "text/plain": [
       "<Figure size 864x576 with 1 Axes>"
      ]
     },
     "metadata": {
      "needs_background": "light"
     },
     "output_type": "display_data"
    }
   ],
   "source": [
    "pd_new.hist(column='Age_AD_Diag', bins=25, grid=False, figsize=(12,8), color='#86bf91', zorder=2, rwidth=0.9)"
   ]
  },
  {
   "cell_type": "code",
   "execution_count": 50,
   "metadata": {},
   "outputs": [
    {
     "data": {
      "text/plain": [
       "array([[<matplotlib.axes._subplots.AxesSubplot object at 0x000001B7CB152850>]],\n",
       "      dtype=object)"
      ]
     },
     "execution_count": 50,
     "metadata": {},
     "output_type": "execute_result"
    },
    {
     "data": {
      "image/png": "[encoded data removed]",
      "text/plain": [
       "<Figure size 864x576 with 1 Axes>"
      ]
     },
     "metadata": {
      "needs_background": "light"
     },
     "output_type": "display_data"
    }
   ],
   "source": [
    "pd_new.hist(column='Age_AD_Dem_Diag', bins=25, grid=False, figsize=(12,8), color='#86bf91', zorder=2, rwidth=0.9)"
   ]
  },
  {
   "cell_type": "code",
   "execution_count": 65,
   "metadata": {},
   "outputs": [
    {
     "name": "stdout",
     "output_type": "stream",
     "text": [
      "+------+-------------------+\n",
      "|GENDER|       F_AlzDiagDay|\n",
      "+------+-------------------+\n",
      "|     F|2016-10-28 00:00:00|\n",
      "|     F|2013-01-05 00:00:00|\n",
      "|     F|2015-12-29 00:00:00|\n",
      "|     M|2016-03-31 00:00:00|\n",
      "|     M|2018-08-09 00:00:00|\n",
      "|     M|2017-04-30 00:00:00|\n",
      "|     M|2016-11-10 00:00:00|\n",
      "|     M|2016-02-08 00:00:00|\n",
      "|     M|2017-10-20 00:00:00|\n",
      "|     F|2016-01-23 00:00:00|\n",
      "|     M|2016-09-25 22:44:00|\n",
      "|     F|2016-09-20 00:00:00|\n",
      "|     F|2017-09-20 00:01:00|\n",
      "|     M|2016-12-29 00:00:00|\n",
      "|     M|2019-01-28 08:33:55|\n",
      "|     F|2015-01-16 00:00:00|\n",
      "|     F|2009-03-19 00:00:00|\n",
      "|     F|2014-12-16 00:00:00|\n",
      "|     F|2014-12-05 00:00:00|\n",
      "|     F|2009-02-25 00:00:00|\n",
      "+------+-------------------+\n",
      "only showing top 20 rows\n",
      "\n"
     ]
    }
   ],
   "source": [
    "#Date of First AD diagnosed vs gender by removing null values\n",
    "F_AD_df=df[['GENDER', 'F_AlzDiagDay']] \n",
    "F_AD_df_new=F_AD_df.na.drop()\n",
    "F_AD_df_new.show()\n"
   ]
  },
  {
   "cell_type": "code",
   "execution_count": 66,
   "metadata": {},
   "outputs": [
    {
     "data": {
      "text/plain": [
       "5340"
      ]
     },
     "execution_count": 66,
     "metadata": {},
     "output_type": "execute_result"
    }
   ],
   "source": [
    "#total number F_AD diagnosed\n",
    "F_AD_df_new.count()"
   ]
  },
  {
   "cell_type": "code",
   "execution_count": 67,
   "metadata": {},
   "outputs": [
    {
     "name": "stdout",
     "output_type": "stream",
     "text": [
      "+------+-----+\n",
      "|GENDER|count|\n",
      "+------+-----+\n",
      "|     F| 3309|\n",
      "|     M| 2031|\n",
      "+------+-----+\n",
      "\n"
     ]
    }
   ],
   "source": [
    "#counting by male and female\n",
    "F_AD_df_new.groupby([\"GENDER\"]).count().show()"
   ]
  },
  {
   "cell_type": "code",
   "execution_count": 68,
   "metadata": {},
   "outputs": [
    {
     "name": "stdout",
     "output_type": "stream",
     "text": [
      "+------+-----------+\n",
      "|GENDER|Age_AD_Diag|\n",
      "+------+-----------+\n",
      "|     F|      96.59|\n",
      "|     F|      72.67|\n",
      "|     F|      72.83|\n",
      "|     M|      74.39|\n",
      "|     M|      82.28|\n",
      "|     M|      74.43|\n",
      "|     M|      84.97|\n",
      "|     M|      79.58|\n",
      "|     M|      63.62|\n",
      "|     F|      93.07|\n",
      "|     M|      78.25|\n",
      "|     F|      68.54|\n",
      "|     F|      91.67|\n",
      "|     M|      88.35|\n",
      "|     M|       73.1|\n",
      "|     F|      76.02|\n",
      "|     F|      77.71|\n",
      "|     F|      61.55|\n",
      "|     F|      88.58|\n",
      "|     F|      78.69|\n",
      "+------+-----------+\n",
      "only showing top 20 rows\n",
      "\n"
     ]
    }
   ],
   "source": [
    "#Age of AD diagnosed vs gender by removing null values\n",
    "Age_AD_df=df[['GENDER', 'Age_AD_Diag']] \n",
    "Age_AD_df_new=Age_AD_df.na.drop()\n",
    "Age_AD_df_new.show()"
   ]
  },
  {
   "cell_type": "code",
   "execution_count": 69,
   "metadata": {},
   "outputs": [
    {
     "data": {
      "text/plain": [
       "5340"
      ]
     },
     "execution_count": 69,
     "metadata": {},
     "output_type": "execute_result"
    }
   ],
   "source": [
    "#total number of Age of AD diagnosed\n",
    "Age_AD_df_new.count()\n"
   ]
  },
  {
   "cell_type": "code",
   "execution_count": 70,
   "metadata": {},
   "outputs": [
    {
     "name": "stdout",
     "output_type": "stream",
     "text": [
      "+------+-----+\n",
      "|GENDER|count|\n",
      "+------+-----+\n",
      "|     F| 3309|\n",
      "|     M| 2031|\n",
      "+------+-----+\n",
      "\n"
     ]
    }
   ],
   "source": [
    "#counting by male and female\n",
    "Age_AD_df_new.groupby([\"GENDER\"]).count().show()"
   ]
  },
  {
   "cell_type": "code",
   "execution_count": 71,
   "metadata": {},
   "outputs": [
    {
     "name": "stdout",
     "output_type": "stream",
     "text": [
      "+------+---------------+\n",
      "|GENDER|Age_AD_Dem_Diag|\n",
      "+------+---------------+\n",
      "|     F|          66.57|\n",
      "|     F|          91.24|\n",
      "|     M|          83.24|\n",
      "|     F|          60.91|\n",
      "|     M|          85.27|\n",
      "|     F|           74.9|\n",
      "|     M|          74.66|\n",
      "|     F|          89.03|\n",
      "|     F|          78.06|\n",
      "|     F|          56.01|\n",
      "|     F|          72.62|\n",
      "|     M|          23.94|\n",
      "|     M|          78.07|\n",
      "|     F|          48.03|\n",
      "|     M|          59.54|\n",
      "|     F|          57.31|\n",
      "|     F|          88.43|\n",
      "|     F|          77.44|\n",
      "|     F|          61.36|\n",
      "|     F|          68.99|\n",
      "+------+---------------+\n",
      "only showing top 20 rows\n",
      "\n"
     ]
    }
   ],
   "source": [
    "#Age of AD with Dem diagnosed vs gender by removing null values\n",
    "Age_AD_Dem_df=df1[['GENDER', 'Age_AD_Dem_Diag']] \n",
    "Age_AD_Dem_df_new=Age_AD_Dem_df.na.drop()\n",
    "Age_AD_Dem_df_new.show()"
   ]
  },
  {
   "cell_type": "code",
   "execution_count": 72,
   "metadata": {},
   "outputs": [
    {
     "data": {
      "text/plain": [
       "49482"
      ]
     },
     "execution_count": 72,
     "metadata": {},
     "output_type": "execute_result"
    }
   ],
   "source": [
    "#total number of Age of AD with Dem diagnosed\n",
    "Age_AD_Dem_df_new.count()\n"
   ]
  },
  {
   "cell_type": "code",
   "execution_count": 73,
   "metadata": {},
   "outputs": [
    {
     "name": "stdout",
     "output_type": "stream",
     "text": [
      "+------+-----+\n",
      "|GENDER|count|\n",
      "+------+-----+\n",
      "|     F|29086|\n",
      "|     M|20393|\n",
      "|     U|    3|\n",
      "+------+-----+\n",
      "\n"
     ]
    }
   ],
   "source": [
    "#counting by male and female\n",
    "Age_AD_Dem_df_new.groupby([\"GENDER\"]).count().show()"
   ]
  }
 ],
 "metadata": {
  "kernelspec": {
   "display_name": "Python 3",
   "language": "python",
   "name": "python3"
  },
  "language_info": {
   "codemirror_mode": {
    "name": "ipython",
    "version": 3
   },
   "file_extension": ".py",
   "mimetype": "text/x-python",
   "name": "python",
   "nbconvert_exporter": "python",
   "pygments_lexer": "ipython3",
   "version": "3.8.2"
  }
 },
 "nbformat": 4,
 "nbformat_minor": 4
}
