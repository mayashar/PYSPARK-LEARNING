{
 "cells": [
  {
   "cell_type": "markdown",
   "metadata": {},
   "source": [
    "# Importing Necessary Libraries"
   ]
  },
  {
   "cell_type": "code",
   "execution_count": 30,
   "metadata": {},
   "outputs": [],
   "source": [
    "# importing essential libraries\n",
    "#importing libraries required\n",
    "\n",
    "import findspark\n",
    "findspark.init()\n",
    "import pyspark # Call this only after findspark.init()\n",
    "from pyspark.context import SparkContext\n",
    "from pyspark.sql.session import SparkSession\n",
    "\n",
    "sc = SparkContext.getOrCreate()\n",
    "spark = SparkSession(sc)\n",
    "from pyspark.sql import Row\n",
    "from pyspark.sql.types import *\n",
    "from pyspark.sql.functions import sum\n",
    "import pandas as pd\n",
    "import numpy as np\n",
    "import matplotlib.pyplot as plt\n",
    "from pyspark.sql.functions import rank, col, unix_timestamp, from_unixtime, to_timestamp\n",
    "from pyspark.sql import functions as F\n",
    "import seaborn as sns\n",
    "timeFmt = \"yyyy-MM-dd\"\n",
    "from pyspark.sql.functions import *"
   ]
  },
  {
   "cell_type": "markdown",
   "metadata": {},
   "source": [
    "# Loading and Exploring Dataset\n"
   ]
  },
  {
   "cell_type": "code",
   "execution_count": 2,
   "metadata": {},
   "outputs": [
    {
     "data": {
      "text/plain": [
       "pyspark.sql.dataframe.DataFrame"
      ]
     },
     "execution_count": 2,
     "metadata": {},
     "output_type": "execute_result"
    }
   ],
   "source": [
    "#Reading Raw dataset\n",
    "raw_data = spark.read.csv('crx.data', header = 'true', inferSchema='true')\n",
    "type(raw_data)"
   ]
  },
  {
   "cell_type": "code",
   "execution_count": 3,
   "metadata": {},
   "outputs": [
    {
     "name": "stdout",
     "output_type": "stream",
     "text": [
      "(689, 16)\n"
     ]
    }
   ],
   "source": [
    "\n",
    "# Number of Rows and Columns in the raw dataset\n",
    "print((raw_data.count(), len(raw_data.columns)))"
   ]
  },
  {
   "cell_type": "code",
   "execution_count": 4,
   "metadata": {},
   "outputs": [
    {
     "name": "stdout",
     "output_type": "stream",
     "text": [
      "root\n",
      " |-- b: string (nullable = true)\n",
      " |-- 30.83: string (nullable = true)\n",
      " |-- 02: double (nullable = true)\n",
      " |-- u: string (nullable = true)\n",
      " |-- g4: string (nullable = true)\n",
      " |-- w: string (nullable = true)\n",
      " |-- v: string (nullable = true)\n",
      " |-- 1.25: double (nullable = true)\n",
      " |-- t8: string (nullable = true)\n",
      " |-- t9: string (nullable = true)\n",
      " |-- 01: integer (nullable = true)\n",
      " |-- f: string (nullable = true)\n",
      " |-- g12: string (nullable = true)\n",
      " |-- 00202: string (nullable = true)\n",
      " |-- 014: integer (nullable = true)\n",
      " |-- +: string (nullable = true)\n",
      "\n"
     ]
    }
   ],
   "source": [
    "raw_data.printSchema()"
   ]
  },
  {
   "cell_type": "markdown",
   "metadata": {},
   "source": [
    "Initially, there were no attribute names in the dataset. In order to get a clear and easier picture of the project, we assigned names to each column value by checking its data and code book from the UCI repository. \n",
    "\n",
    "**Dataset source:** http://archive.ics.uci.edu/ml/machine-learning-databases/credit-screening/\n",
    "\n",
    "From the above link, we obtained the data and codebook from the respective files mentioned below- \n",
    "\n",
    "1.   Dataset (Raw data) : crx.data\n",
    "2.   Dataset (CodeBook) : crx.names\n",
    "\n",
    "* We also referred this Rpubs blog of Ryan Kuhn for reference : http://rstudio-pubs-static.s3.amazonaws.com/73039_9946de135c0a49daa7a0a9eda4a67a72.html\n",
    "\n"
   ]
  },
  {
   "cell_type": "code",
   "execution_count": 5,
   "metadata": {},
   "outputs": [
    {
     "data": {
      "text/plain": [
       "pyspark.sql.dataframe.DataFrame"
      ]
     },
     "execution_count": 5,
     "metadata": {},
     "output_type": "execute_result"
    }
   ],
   "source": [
    "# Reading dataset as data\n",
    "data = spark.read.csv('CC_data.csv', header = 'true', inferSchema='true')\n",
    "\n",
    "type(data)"
   ]
  },
  {
   "cell_type": "code",
   "execution_count": 6,
   "metadata": {},
   "outputs": [
    {
     "name": "stdout",
     "output_type": "stream",
     "text": [
      "(690, 16)\n"
     ]
    }
   ],
   "source": [
    "# Number of Rows and Columns in the dataset\n",
    "print((data.count(), len(data.columns)))"
   ]
  },
  {
   "cell_type": "code",
   "execution_count": 7,
   "metadata": {},
   "outputs": [
    {
     "name": "stdout",
     "output_type": "stream",
     "text": [
      "root\n",
      " |-- Gender: string (nullable = true)\n",
      " |-- Age: string (nullable = true)\n",
      " |-- Debt: double (nullable = true)\n",
      " |-- Married: string (nullable = true)\n",
      " |-- BankCustomer: string (nullable = true)\n",
      " |-- EducationLevel: string (nullable = true)\n",
      " |-- Ethnicity: string (nullable = true)\n",
      " |-- YearsEmployed: double (nullable = true)\n",
      " |-- PriorDefault: string (nullable = true)\n",
      " |-- Employed: string (nullable = true)\n",
      " |-- CreditScore: integer (nullable = true)\n",
      " |-- DriversLicense: string (nullable = true)\n",
      " |-- Citizen: string (nullable = true)\n",
      " |-- ZipCode: string (nullable = true)\n",
      " |-- Income: integer (nullable = true)\n",
      " |-- Approved: string (nullable = true)\n",
      "\n"
     ]
    }
   ],
   "source": [
    "data.printSchema()"
   ]
  },
  {
   "cell_type": "code",
   "execution_count": 8,
   "metadata": {},
   "outputs": [
    {
     "data": {
      "text/plain": [
       "['Gender',\n",
       " 'Age',\n",
       " 'Debt',\n",
       " 'Married',\n",
       " 'BankCustomer',\n",
       " 'EducationLevel',\n",
       " 'Ethnicity',\n",
       " 'YearsEmployed',\n",
       " 'PriorDefault',\n",
       " 'Employed',\n",
       " 'CreditScore',\n",
       " 'DriversLicense',\n",
       " 'Citizen',\n",
       " 'ZipCode',\n",
       " 'Income',\n",
       " 'Approved']"
      ]
     },
     "execution_count": 8,
     "metadata": {},
     "output_type": "execute_result"
    }
   ],
   "source": [
    "data.columns"
   ]
  },
  {
   "cell_type": "markdown",
   "metadata": {},
   "source": [
    "This dataset may have some missing values or different data types so has to preprocess to prepare for machine learning ahed."
   ]
  },
  {
   "cell_type": "markdown",
   "metadata": {},
   "source": [
    "# Data Preprocessing and Cleaning"
   ]
  },
  {
   "cell_type": "code",
   "execution_count": 9,
   "metadata": {},
   "outputs": [],
   "source": [
    "# Taking feature variables : here variables DriversLicense and ZipCode seem no use so not selected.\n",
    "feature_data=data.select('Gender','Age', 'Debt', 'Married', 'BankCustomer', 'EducationLevel', 'Ethnicity','YearsEmployed',\\\n",
    " 'PriorDefault', 'Employed', 'CreditScore', 'Citizen', 'Income', 'Approved')"
   ]
  },
  {
   "cell_type": "code",
   "execution_count": 10,
   "metadata": {},
   "outputs": [
    {
     "data": {
      "text/plain": [
       "DataFrame[Gender: string, Age: string, Debt: double, Married: string, BankCustomer: string, EducationLevel: string, Ethnicity: string, YearsEmployed: double, PriorDefault: string, Employed: string, CreditScore: int, Citizen: string, Income: int, Approved: string]"
      ]
     },
     "execution_count": 10,
     "metadata": {},
     "output_type": "execute_result"
    }
   ],
   "source": [
    "feature_data"
   ]
  },
  {
   "cell_type": "code",
   "execution_count": 11,
   "metadata": {},
   "outputs": [
    {
     "name": "stdout",
     "output_type": "stream",
     "text": [
      "root\n",
      " |-- Gender: string (nullable = true)\n",
      " |-- Age: string (nullable = true)\n",
      " |-- Debt: double (nullable = true)\n",
      " |-- Married: string (nullable = true)\n",
      " |-- BankCustomer: string (nullable = true)\n",
      " |-- EducationLevel: string (nullable = true)\n",
      " |-- Ethnicity: string (nullable = true)\n",
      " |-- YearsEmployed: double (nullable = true)\n",
      " |-- PriorDefault: string (nullable = true)\n",
      " |-- Employed: string (nullable = true)\n",
      " |-- CreditScore: integer (nullable = true)\n",
      " |-- Citizen: string (nullable = true)\n",
      " |-- Income: integer (nullable = true)\n",
      " |-- Approved: string (nullable = true)\n",
      "\n"
     ]
    }
   ],
   "source": [
    "feature_data.printSchema()"
   ]
  },
  {
   "cell_type": "code",
   "execution_count": 12,
   "metadata": {},
   "outputs": [
    {
     "data": {
      "text/plain": [
       "([<matplotlib.axis.XTick at 0x247135f9910>,\n",
       "  <matplotlib.axis.XTick at 0x247135f98e0>],\n",
       " [Text(0, 0, '+'), Text(0, 0, '-')])"
      ]
     },
     "execution_count": 12,
     "metadata": {},
     "output_type": "execute_result"
    },
    {
     "data": {
      "image/png": "[encoded data removed]",
      "text/plain": [
       "<Figure size 432x288 with 1 Axes>"
      ]
     },
     "metadata": {
      "needs_background": "light"
     },
     "output_type": "display_data"
    }
   ],
   "source": [
    "# Here Approved is reposnse variable and hence checking group by approval \n",
    "import numpy as np\n",
    "responses = feature_data.groupBy('Approved').count().collect()\n",
    "categories = [i[0] for i in responses]\n",
    "counts = [i[1] for i in responses]\n",
    " \n",
    "ind = np.array(range(len(categories)))\n",
    "width = 0.35\n",
    "plt.bar(ind, counts, width=width, color='g')\n",
    " \n",
    "plt.ylabel('counts')\n",
    "plt.title('Approved')\n",
    "plt.xticks(ind + width/2., categories)"
   ]
  },
  {
   "cell_type": "code",
   "execution_count": 13,
   "metadata": {},
   "outputs": [],
   "source": [
    "# Convert Age datatype from string to integer\n",
    "from pyspark.sql.types import IntegerType\n",
    "feature_data = feature_data.withColumn(\"Age\", feature_data[\"Age\"].cast(IntegerType()))\n"
   ]
  },
  {
   "cell_type": "code",
   "execution_count": 14,
   "metadata": {},
   "outputs": [
    {
     "name": "stdout",
     "output_type": "stream",
     "text": [
      "root\n",
      " |-- Gender: string (nullable = true)\n",
      " |-- Age: integer (nullable = true)\n",
      " |-- Debt: double (nullable = true)\n",
      " |-- Married: string (nullable = true)\n",
      " |-- BankCustomer: string (nullable = true)\n",
      " |-- EducationLevel: string (nullable = true)\n",
      " |-- Ethnicity: string (nullable = true)\n",
      " |-- YearsEmployed: double (nullable = true)\n",
      " |-- PriorDefault: string (nullable = true)\n",
      " |-- Employed: string (nullable = true)\n",
      " |-- CreditScore: integer (nullable = true)\n",
      " |-- Citizen: string (nullable = true)\n",
      " |-- Income: integer (nullable = true)\n",
      " |-- Approved: string (nullable = true)\n",
      "\n"
     ]
    }
   ],
   "source": [
    "feature_data.printSchema()"
   ]
  },
  {
   "cell_type": "code",
   "execution_count": 50,
   "metadata": {},
   "outputs": [
    {
     "data": {
      "text/html": [
       "<div>\n",
       "<style scoped>\n",
       "    .dataframe tbody tr th:only-of-type {\n",
       "        vertical-align: middle;\n",
       "    }\n",
       "\n",
       "    .dataframe tbody tr th {\n",
       "        vertical-align: top;\n",
       "    }\n",
       "\n",
       "    .dataframe thead th {\n",
       "        text-align: right;\n",
       "    }\n",
       "</style>\n",
       "<table border=\"1\" class=\"dataframe\">\n",
       "  <thead>\n",
       "    <tr style=\"text-align: right;\">\n",
       "      <th></th>\n",
       "      <th>0</th>\n",
       "      <th>1</th>\n",
       "      <th>2</th>\n",
       "      <th>3</th>\n",
       "      <th>4</th>\n",
       "    </tr>\n",
       "  </thead>\n",
       "  <tbody>\n",
       "    <tr>\n",
       "      <th>summary</th>\n",
       "      <td>count</td>\n",
       "      <td>mean</td>\n",
       "      <td>stddev</td>\n",
       "      <td>min</td>\n",
       "      <td>max</td>\n",
       "    </tr>\n",
       "    <tr>\n",
       "      <th>Debt</th>\n",
       "      <td>690</td>\n",
       "      <td>4.7587246376811585</td>\n",
       "      <td>4.978163248528541</td>\n",
       "      <td>0.0</td>\n",
       "      <td>28.0</td>\n",
       "    </tr>\n",
       "    <tr>\n",
       "      <th>YearsEmployed</th>\n",
       "      <td>690</td>\n",
       "      <td>2.2234057971014476</td>\n",
       "      <td>3.346513359278135</td>\n",
       "      <td>0.0</td>\n",
       "      <td>28.5</td>\n",
       "    </tr>\n",
       "    <tr>\n",
       "      <th>CreditScore</th>\n",
       "      <td>690</td>\n",
       "      <td>2.4</td>\n",
       "      <td>4.862940034226994</td>\n",
       "      <td>0</td>\n",
       "      <td>67</td>\n",
       "    </tr>\n",
       "    <tr>\n",
       "      <th>Income</th>\n",
       "      <td>690</td>\n",
       "      <td>1017.3855072463768</td>\n",
       "      <td>5210.102598302688</td>\n",
       "      <td>0</td>\n",
       "      <td>100000</td>\n",
       "    </tr>\n",
       "  </tbody>\n",
       "</table>\n",
       "</div>"
      ],
      "text/plain": [
       "                   0                   1                  2    3       4\n",
       "summary        count                mean             stddev  min     max\n",
       "Debt             690  4.7587246376811585  4.978163248528541  0.0    28.0\n",
       "YearsEmployed    690  2.2234057971014476  3.346513359278135  0.0    28.5\n",
       "CreditScore      690                 2.4  4.862940034226994    0      67\n",
       "Income           690  1017.3855072463768  5210.102598302688    0  100000"
      ]
     },
     "execution_count": 50,
     "metadata": {},
     "output_type": "execute_result"
    }
   ],
   "source": [
    "numeric_features= [t[0] for t in data.dtypes if t[1] == 'int'or t[1] == 'double']\n",
    "data.select(numeric_features).describe().toPandas().transpose()"
   ]
  },
  {
   "cell_type": "code",
   "execution_count": 51,
   "metadata": {},
   "outputs": [
    {
     "data": {
      "image/png": "[encoded data removed]",
      "text/plain": [
       "<Figure size 576x576 with 16 Axes>"
      ]
     },
     "metadata": {
      "needs_background": "light"
     },
     "output_type": "display_data"
    }
   ],
   "source": [
    "import pandas as pd\n",
    "from pandas.plotting import scatter_matrix\n",
    "\n",
    "numeric_data = data.select(numeric_features).toPandas()\n",
    "\n",
    "axs = pd.plotting.scatter_matrix(numeric_data, figsize=(8, 8), marker='0', diagonal='kde');\n",
    "\n",
    "# Rotate axis labels and remove axis ticks\n",
    "n = len(numeric_data.columns)\n",
    "for i in range(n):\n",
    "    v = axs[i, 0]\n",
    "    v.yaxis.label.set_rotation(0)\n",
    "    v.yaxis.label.set_ha('right')\n",
    "    v.set_yticks(())\n",
    "    h = axs[n-1, i]\n",
    "    h.xaxis.label.set_rotation(90)\n",
    "    h.set_xticks(())"
   ]
  },
  {
   "cell_type": "markdown",
   "metadata": {},
   "source": [
    "# HANDLING MISSING VALUES"
   ]
  },
  {
   "cell_type": "code",
   "execution_count": 17,
   "metadata": {},
   "outputs": [
    {
     "name": "stdout",
     "output_type": "stream",
     "text": [
      "+------+---+------+-------+------------+--------------+---------+-------------+------------+--------+-----------+-------+------+--------+\n",
      "|Gender|Age|  Debt|Married|BankCustomer|EducationLevel|Ethnicity|YearsEmployed|PriorDefault|Employed|CreditScore|Citizen|Income|Approved|\n",
      "+------+---+------+-------+------------+--------------+---------+-------------+------------+--------+-----------+-------+------+--------+\n",
      "|     b| 30|   0.0|      u|           g|             w|        v|         1.25|           t|       t|          1|      g|     0|       +|\n",
      "|     a| 58|  4.46|      u|           g|             q|        h|         3.04|           t|       t|          6|      g|   560|       +|\n",
      "|     a| 24|   0.5|      u|           g|             q|        h|          1.5|           t|       f|          0|      g|   824|       +|\n",
      "|     b| 27|  1.54|      u|           g|             w|        v|         3.75|           t|       t|          5|      g|     3|       +|\n",
      "|     b| 20| 5.625|      u|           g|             w|        v|         1.71|           t|       f|          0|      s|     0|       +|\n",
      "|     b| 32|   4.0|      u|           g|             m|        v|          2.5|           t|       f|          0|      g|     0|       +|\n",
      "|     b| 33|  1.04|      u|           g|             r|        h|          6.5|           t|       f|          0|      g| 31285|       +|\n",
      "|     a| 22|11.585|      u|           g|            cc|        v|         0.04|           t|       f|          0|      g|  1349|       +|\n",
      "|     b| 54|   0.5|      y|           p|             k|        h|         3.96|           t|       f|          0|      g|   314|       +|\n",
      "|     b| 42| 4.915|      y|           p|             w|        v|        3.165|           t|       f|          0|      g|  1442|       +|\n",
      "|     b| 22|  0.83|      u|           g|             c|        h|        2.165|           f|       f|          0|      g|     0|       +|\n",
      "|     b| 29| 1.835|      u|           g|             c|        h|        4.335|           t|       f|          0|      g|   200|       +|\n",
      "|     a| 38|   6.0|      u|           g|             k|        v|          1.0|           t|       f|          0|      g|     0|       +|\n",
      "|     b| 48|  6.04|      u|           g|             k|        v|         0.04|           f|       f|          0|      g|  2690|       +|\n",
      "|     a| 45|  10.5|      u|           g|             q|        v|          5.0|           t|       t|          7|      g|     0|       +|\n",
      "|     b| 36| 4.415|      y|           p|             k|        v|         0.25|           t|       t|         10|      g|     0|       +|\n",
      "|     b| 28| 0.875|      u|           g|             m|        v|         0.96|           t|       t|          3|      g|     0|       +|\n",
      "|     a| 23| 5.875|      u|           g|             q|        v|         3.17|           t|       t|         10|      g|   245|       +|\n",
      "|     b| 21|  0.25|      u|           g|             d|        h|        0.665|           t|       f|          0|      g|     0|       +|\n",
      "|     a| 19| 8.585|      u|           g|            cc|        h|         0.75|           t|       t|          7|      g|     0|       +|\n",
      "+------+---+------+-------+------------+--------------+---------+-------------+------------+--------+-----------+-------+------+--------+\n",
      "only showing top 20 rows\n",
      "\n"
     ]
    }
   ],
   "source": [
    "#initial checking\n",
    "feature_data.show()"
   ]
  },
  {
   "cell_type": "code",
   "execution_count": 34,
   "metadata": {},
   "outputs": [
    {
     "name": "stdout",
     "output_type": "stream",
     "text": [
      "+------+---+----+-------+------------+--------------+---------+-------------+------------+--------+-----------+-------+------+--------+\n",
      "|Gender|Age|Debt|Married|BankCustomer|EducationLevel|Ethnicity|YearsEmployed|PriorDefault|Employed|CreditScore|Citizen|Income|Approved|\n",
      "+------+---+----+-------+------------+--------------+---------+-------------+------------+--------+-----------+-------+------+--------+\n",
      "|     0| 12|   0|      0|           0|             0|        0|            0|           0|       0|          0|      0|     0|       0|\n",
      "+------+---+----+-------+------------+--------------+---------+-------------+------------+--------+-----------+-------+------+--------+\n",
      "\n"
     ]
    }
   ],
   "source": [
    "from pyspark.sql.functions import isnan, when, count, col\n",
    "feature_data.select([count(when(isnan(c) | col(c).isNull(), c)).alias(c) for c in feature_data.columns]).show()"
   ]
  },
  {
   "cell_type": "code",
   "execution_count": 35,
   "metadata": {},
   "outputs": [
    {
     "name": "stdout",
     "output_type": "stream",
     "text": [
      "root\n",
      " |-- Gender: string (nullable = true)\n",
      " |-- Age: integer (nullable = true)\n",
      " |-- Debt: double (nullable = true)\n",
      " |-- Married: string (nullable = true)\n",
      " |-- BankCustomer: string (nullable = true)\n",
      " |-- EducationLevel: string (nullable = true)\n",
      " |-- Ethnicity: string (nullable = true)\n",
      " |-- YearsEmployed: double (nullable = true)\n",
      " |-- PriorDefault: string (nullable = true)\n",
      " |-- Employed: string (nullable = true)\n",
      " |-- CreditScore: integer (nullable = true)\n",
      " |-- Citizen: string (nullable = true)\n",
      " |-- Income: integer (nullable = true)\n",
      " |-- Approved: string (nullable = true)\n",
      "\n"
     ]
    }
   ],
   "source": [
    "feature_data.printSchema()"
   ]
  },
  {
   "cell_type": "code",
   "execution_count": 37,
   "metadata": {},
   "outputs": [],
   "source": [
    "def fill_with_mean(df, exclude=set()): \n",
    "    stats = df.agg(*(\n",
    "     avg(c).alias(c) for c in df.columns if c not in exclude \n",
    "    )) \n",
    "    return df.na.fill(stats.first().asDict()) \n",
    "\n",
    "feature_data=fill_with_mean(feature_data, [\"Gender\", \"Married\", \"Ethnicity\",\"BankCustomer\",\"EducationLevel\",\"PriorDefault\",\\\n",
    "                                          \"Employed\",\"Citizen\",\"Approved\"])"
   ]
  },
  {
   "cell_type": "markdown",
   "metadata": {},
   "source": [
    "### checking dataframe"
   ]
  },
  {
   "cell_type": "code",
   "execution_count": 38,
   "metadata": {},
   "outputs": [
    {
     "name": "stdout",
     "output_type": "stream",
     "text": [
      "+------+---+------+-------+------------+--------------+---------+-------------+------------+--------+-----------+-------+------+--------+\n",
      "|Gender|Age|  Debt|Married|BankCustomer|EducationLevel|Ethnicity|YearsEmployed|PriorDefault|Employed|CreditScore|Citizen|Income|Approved|\n",
      "+------+---+------+-------+------------+--------------+---------+-------------+------------+--------+-----------+-------+------+--------+\n",
      "|     b| 30|   0.0|      u|           g|             w|        v|         1.25|           t|       t|          1|      g|     0|       +|\n",
      "|     a| 58|  4.46|      u|           g|             q|        h|         3.04|           t|       t|          6|      g|   560|       +|\n",
      "|     a| 24|   0.5|      u|           g|             q|        h|          1.5|           t|       f|          0|      g|   824|       +|\n",
      "|     b| 27|  1.54|      u|           g|             w|        v|         3.75|           t|       t|          5|      g|     3|       +|\n",
      "|     b| 20| 5.625|      u|           g|             w|        v|         1.71|           t|       f|          0|      s|     0|       +|\n",
      "|     b| 32|   4.0|      u|           g|             m|        v|          2.5|           t|       f|          0|      g|     0|       +|\n",
      "|     b| 33|  1.04|      u|           g|             r|        h|          6.5|           t|       f|          0|      g| 31285|       +|\n",
      "|     a| 22|11.585|      u|           g|            cc|        v|         0.04|           t|       f|          0|      g|  1349|       +|\n",
      "|     b| 54|   0.5|      y|           p|             k|        h|         3.96|           t|       f|          0|      g|   314|       +|\n",
      "|     b| 42| 4.915|      y|           p|             w|        v|        3.165|           t|       f|          0|      g|  1442|       +|\n",
      "|     b| 22|  0.83|      u|           g|             c|        h|        2.165|           f|       f|          0|      g|     0|       +|\n",
      "|     b| 29| 1.835|      u|           g|             c|        h|        4.335|           t|       f|          0|      g|   200|       +|\n",
      "|     a| 38|   6.0|      u|           g|             k|        v|          1.0|           t|       f|          0|      g|     0|       +|\n",
      "|     b| 48|  6.04|      u|           g|             k|        v|         0.04|           f|       f|          0|      g|  2690|       +|\n",
      "|     a| 45|  10.5|      u|           g|             q|        v|          5.0|           t|       t|          7|      g|     0|       +|\n",
      "|     b| 36| 4.415|      y|           p|             k|        v|         0.25|           t|       t|         10|      g|     0|       +|\n",
      "|     b| 28| 0.875|      u|           g|             m|        v|         0.96|           t|       t|          3|      g|     0|       +|\n",
      "|     a| 23| 5.875|      u|           g|             q|        v|         3.17|           t|       t|         10|      g|   245|       +|\n",
      "|     b| 21|  0.25|      u|           g|             d|        h|        0.665|           t|       f|          0|      g|     0|       +|\n",
      "|     a| 19| 8.585|      u|           g|            cc|        h|         0.75|           t|       t|          7|      g|     0|       +|\n",
      "+------+---+------+-------+------------+--------------+---------+-------------+------------+--------+-----------+-------+------+--------+\n",
      "only showing top 20 rows\n",
      "\n"
     ]
    }
   ],
   "source": [
    "feature_data.show()"
   ]
  },
  {
   "cell_type": "markdown",
   "metadata": {},
   "source": [
    "### checking specific columns"
   ]
  },
  {
   "cell_type": "code",
   "execution_count": 39,
   "metadata": {},
   "outputs": [
    {
     "name": "stdout",
     "output_type": "stream",
     "text": [
      "+---+------+-------------+-----------+------+\n",
      "|Age|  Debt|YearsEmployed|CreditScore|Income|\n",
      "+---+------+-------------+-----------+------+\n",
      "| 30|   0.0|         1.25|          1|     0|\n",
      "| 58|  4.46|         3.04|          6|   560|\n",
      "| 24|   0.5|          1.5|          0|   824|\n",
      "| 27|  1.54|         3.75|          5|     3|\n",
      "| 20| 5.625|         1.71|          0|     0|\n",
      "| 32|   4.0|          2.5|          0|     0|\n",
      "| 33|  1.04|          6.5|          0| 31285|\n",
      "| 22|11.585|         0.04|          0|  1349|\n",
      "| 54|   0.5|         3.96|          0|   314|\n",
      "| 42| 4.915|        3.165|          0|  1442|\n",
      "| 22|  0.83|        2.165|          0|     0|\n",
      "| 29| 1.835|        4.335|          0|   200|\n",
      "| 38|   6.0|          1.0|          0|     0|\n",
      "| 48|  6.04|         0.04|          0|  2690|\n",
      "| 45|  10.5|          5.0|          7|     0|\n",
      "| 36| 4.415|         0.25|         10|     0|\n",
      "| 28| 0.875|         0.96|          3|     0|\n",
      "| 23| 5.875|         3.17|         10|   245|\n",
      "| 21|  0.25|        0.665|          0|     0|\n",
      "| 19| 8.585|         0.75|          7|     0|\n",
      "+---+------+-------------+-----------+------+\n",
      "only showing top 20 rows\n",
      "\n"
     ]
    }
   ],
   "source": [
    "feature_data.select('Age','Debt','YearsEmployed','CreditScore','Income').show()"
   ]
  },
  {
   "cell_type": "code",
   "execution_count": 40,
   "metadata": {},
   "outputs": [
    {
     "data": {
      "text/plain": [
       "[('Gender', 'string'),\n",
       " ('Age', 'int'),\n",
       " ('Debt', 'double'),\n",
       " ('Married', 'string'),\n",
       " ('BankCustomer', 'string'),\n",
       " ('EducationLevel', 'string'),\n",
       " ('Ethnicity', 'string'),\n",
       " ('YearsEmployed', 'double'),\n",
       " ('PriorDefault', 'string'),\n",
       " ('Employed', 'string'),\n",
       " ('CreditScore', 'int'),\n",
       " ('Citizen', 'string'),\n",
       " ('Income', 'int'),\n",
       " ('Approved', 'string')]"
      ]
     },
     "execution_count": 40,
     "metadata": {},
     "output_type": "execute_result"
    }
   ],
   "source": [
    "feature_data.dtypes"
   ]
  },
  {
   "cell_type": "code",
   "execution_count": 44,
   "metadata": {},
   "outputs": [
    {
     "name": "stdout",
     "output_type": "stream",
     "text": [
      "+--------+-----+\n",
      "|Approved|count|\n",
      "+--------+-----+\n",
      "|       +|  307|\n",
      "|       -|  383|\n",
      "+--------+-----+\n",
      "\n"
     ]
    }
   ],
   "source": [
    "#Counting Response variable 'Approved' by grouping\n",
    "feature_data.groupBy('Approved').count().show()"
   ]
  },
  {
   "cell_type": "markdown",
   "metadata": {},
   "source": [
    "## **FEATURE ENGINEERING**"
   ]
  },
  {
   "cell_type": "code",
   "execution_count": 45,
   "metadata": {},
   "outputs": [],
   "source": [
    "from pyspark.ml.feature import OneHotEncoder, StringIndexer, VectorAssembler\n",
    "\n",
    "categoricalColumns = ['Gender', 'Married','BankCustomer','EducationLevel','Ethnicity','PriorDefault','Employed','Citizen']\n",
    "stages = []\n",
    "\n",
    "for categoricalCol in categoricalColumns:\n",
    "    stringIndexer = StringIndexer(inputCol = categoricalCol, outputCol = categoricalCol + 'Index')\n",
    "    encoder = OneHotEncoder(inputCols=[stringIndexer.getOutputCol()], outputCols=[categoricalCol + \"classVec\"])\n",
    "    stages += [stringIndexer, encoder]\n",
    "\n",
    "label_stringIdx = StringIndexer(inputCol = 'Approved', outputCol = 'label')\n",
    "stages += [label_stringIdx]\n",
    "\n",
    "numericCols = ['Age','Debt','YearsEmployed','Income','CreditScore']\n",
    "assemblerInputs = [c + \"classVec\" for c in categoricalColumns] + numericCols\n",
    "assembler = VectorAssembler(inputCols=assemblerInputs, outputCol=\"features\")\n",
    "stages += [assembler]"
   ]
  },
  {
   "cell_type": "code",
   "execution_count": 47,
   "metadata": {},
   "outputs": [
    {
     "name": "stdout",
     "output_type": "stream",
     "text": [
      "root\n",
      " |-- label: double (nullable = false)\n",
      " |-- features: vector (nullable = true)\n",
      " |-- Gender: string (nullable = true)\n",
      " |-- Age: integer (nullable = true)\n",
      " |-- Debt: double (nullable = false)\n",
      " |-- Married: string (nullable = true)\n",
      " |-- BankCustomer: string (nullable = true)\n",
      " |-- EducationLevel: string (nullable = true)\n",
      " |-- Ethnicity: string (nullable = true)\n",
      " |-- YearsEmployed: double (nullable = false)\n",
      " |-- PriorDefault: string (nullable = true)\n",
      " |-- Employed: string (nullable = true)\n",
      " |-- CreditScore: integer (nullable = true)\n",
      " |-- Citizen: string (nullable = true)\n",
      " |-- Income: integer (nullable = true)\n",
      " |-- Approved: string (nullable = true)\n",
      "\n"
     ]
    }
   ],
   "source": [
    "from pyspark.ml import Pipeline\n",
    "cols = feature_data.columns\n",
    "pipeline = Pipeline(stages = stages)\n",
    "pipelineModel = pipeline.fit(feature_data)\n",
    "feature_data = pipelineModel.transform(feature_data)\n",
    "selectedCols = ['label', 'features'] + cols\n",
    "feature_data =feature_data.select(selectedCols)\n",
    "feature_data.printSchema()"
   ]
  },
  {
   "cell_type": "markdown",
   "metadata": {},
   "source": [
    "## **MACHINE LEARNING USING SPARK ML ON THE PIPELINED MODEL**"
   ]
  },
  {
   "cell_type": "code",
   "execution_count": 48,
   "metadata": {},
   "outputs": [
    {
     "name": "stdout",
     "output_type": "stream",
     "text": [
      "Training Dataset Count: 496\n",
      "Test Dataset Count: 194\n"
     ]
    }
   ],
   "source": [
    "train, test = feature_data.randomSplit([0.7, 0.3], seed = 2018)\n",
    "print(\"Training Dataset Count: \" + str(train.count()))\n",
    "print(\"Test Dataset Count: \" + str(test.count()))"
   ]
  },
  {
   "cell_type": "markdown",
   "metadata": {},
   "source": [
    "## **LOGISTIC REGRESSION CLASSIFIER**\n",
    "\n",
    "Parameters : maxIter = 10"
   ]
  },
  {
   "cell_type": "code",
   "execution_count": 49,
   "metadata": {},
   "outputs": [],
   "source": [
    "from pyspark.ml.classification import LogisticRegression\n",
    "lr = LogisticRegression(featuresCol = 'features', labelCol = 'label', maxIter=10)\n",
    "lrModel = lr.fit(train)"
   ]
  },
  {
   "cell_type": "markdown",
   "metadata": {},
   "source": [
    "# Make predictions on test data using the transform() method."
   ]
  },
  {
   "cell_type": "code",
   "execution_count": 52,
   "metadata": {},
   "outputs": [],
   "source": [
    "predictions = lrModel.transform(test)"
   ]
  },
  {
   "cell_type": "code",
   "execution_count": 53,
   "metadata": {},
   "outputs": [
    {
     "name": "stdout",
     "output_type": "stream",
     "text": [
      "+-----+----------+--------------------+\n",
      "|label|prediction|         probability|\n",
      "+-----+----------+--------------------+\n",
      "|  0.0|       0.0|[0.51529946280474...|\n",
      "|  0.0|       0.0|[0.98433195494441...|\n",
      "|  0.0|       0.0|[0.98111914466831...|\n",
      "|  0.0|       0.0|[0.97249778160124...|\n",
      "|  0.0|       0.0|[0.98108865056166...|\n",
      "|  0.0|       0.0|[0.97673447406735...|\n",
      "|  0.0|       0.0|[0.94504229229576...|\n",
      "|  0.0|       0.0|[0.96951595586128...|\n",
      "|  0.0|       0.0|[0.94698634702972...|\n",
      "|  0.0|       0.0|[0.94955909726587...|\n",
      "|  0.0|       1.0|[0.24499487398879...|\n",
      "|  0.0|       1.0|[0.22614953884802...|\n",
      "|  0.0|       0.0|[0.97169433253970...|\n",
      "|  0.0|       0.0|[0.98266814321995...|\n",
      "|  0.0|       1.0|[0.23008325369991...|\n",
      "|  0.0|       0.0|[0.81809537061133...|\n",
      "|  0.0|       1.0|[0.21006586065053...|\n",
      "|  0.0|       0.0|[0.98184681893566...|\n",
      "|  0.0|       0.0|[0.98480404713327...|\n",
      "|  0.0|       0.0|[0.98690201621376...|\n",
      "+-----+----------+--------------------+\n",
      "only showing top 20 rows\n",
      "\n"
     ]
    }
   ],
   "source": [
    "selected = predictions.select(\"label\",\"prediction\", \"probability\")\n",
    "selected.show(20)"
   ]
  },
  {
   "cell_type": "code",
   "execution_count": 54,
   "metadata": {},
   "outputs": [
    {
     "name": "stdout",
     "output_type": "stream",
     "text": [
      "Test Area Under ROC curve:  0.8816419860627166\n"
     ]
    }
   ],
   "source": [
    "from pyspark.ml.evaluation import BinaryClassificationEvaluator\n",
    "\n",
    "evaluator = BinaryClassificationEvaluator()\n",
    "print('Test Area Under ROC curve: ', evaluator.evaluate(predictions))"
   ]
  },
  {
   "cell_type": "markdown",
   "metadata": {},
   "source": [
    "# **Confusion matrix for logistic regression model**"
   ]
  },
  {
   "cell_type": "code",
   "execution_count": 55,
   "metadata": {},
   "outputs": [
    {
     "name": "stdout",
     "output_type": "stream",
     "text": [
      "+-----+------------+\n",
      "|label|count(label)|\n",
      "+-----+------------+\n",
      "|  0.0|         112|\n",
      "|  1.0|          82|\n",
      "+-----+------------+\n",
      "\n",
      "+----------+-----------------+\n",
      "|prediction|count(prediction)|\n",
      "+----------+-----------------+\n",
      "|       0.0|              100|\n",
      "|       1.0|               94|\n",
      "+----------+-----------------+\n",
      "\n"
     ]
    }
   ],
   "source": [
    "cm = predictions.select(\"label\", \"prediction\")\n",
    "cm.groupby('label').agg({'label': 'count'}).show()\n",
    "cm.groupby('prediction').agg({'prediction': 'count'}).show()"
   ]
  },
  {
   "cell_type": "code",
   "execution_count": 56,
   "metadata": {},
   "outputs": [
    {
     "name": "stdout",
     "output_type": "stream",
     "text": [
      "Model accuracy: 83.505%\n"
     ]
    }
   ],
   "source": [
    "def accuracy_m(model): \n",
    "    predictions = model.transform(test)\n",
    "    cm = predictions.select(\"label\", \"prediction\")\n",
    "    acc = cm.filter(cm.label == cm.prediction).count() / cm.count()\n",
    "    print(\"Model accuracy: %.3f%%\" % (acc * 100)) \n",
    "accuracy_m(model = lrModel)"
   ]
  },
  {
   "cell_type": "markdown",
   "metadata": {},
   "source": [
    "# CROSS VALIDATION ON THE TEST SET FOR LOG REG MODEL"
   ]
  },
  {
   "cell_type": "code",
   "execution_count": 57,
   "metadata": {},
   "outputs": [
    {
     "name": "stdout",
     "output_type": "stream",
     "text": [
      "Test Area Under ROC for k=5 CV : 0.8981925087108018\n"
     ]
    }
   ],
   "source": [
    "from pyspark.ml.tuning import ParamGridBuilder, CrossValidator\n",
    "\n",
    "# Create ParamGrid for Cross Validation\n",
    "paramGrid = (ParamGridBuilder()\n",
    "             .addGrid(lr.regParam, [0.01, 0.5, 2.0])\n",
    "             .addGrid(lr.elasticNetParam, [0.0, 0.5, 1.0])\n",
    "             .addGrid(lr.maxIter, [1, 5, 10])\n",
    "             .build())\n",
    "\n",
    "cv = CrossValidator(estimator=lr, estimatorParamMaps=paramGrid, evaluator=evaluator, numFolds=10)\n",
    "\n",
    "cvModel = cv.fit(train)\n",
    "predictions2 = cvModel.transform(test)\n",
    "print('Test Area Under ROC for k=5 CV :', evaluator.evaluate(predictions2))"
   ]
  },
  {
   "cell_type": "code",
   "execution_count": 58,
   "metadata": {},
   "outputs": [
    {
     "name": "stdout",
     "output_type": "stream",
     "text": [
      "Model accuracy for logistic regression model on test data with k=5 CV: 84.021%\n"
     ]
    }
   ],
   "source": [
    "def accuracy_m(model): \n",
    "    predictions = model.transform(test)\n",
    "    cm = predictions.select(\"label\", \"prediction\")\n",
    "    acc = cm.filter(cm.label == cm.prediction).count() / cm.count()\n",
    "    print(\"Model accuracy for logistic regression model on test data with k=5 CV: %.3f%%\" % (acc * 100)) \n",
    "accuracy_m(model = cvModel)"
   ]
  },
  {
   "cell_type": "markdown",
   "metadata": {},
   "source": [
    "# **DECISION TREE CLASSIFIER**"
   ]
  },
  {
   "cell_type": "code",
   "execution_count": 59,
   "metadata": {},
   "outputs": [
    {
     "name": "stdout",
     "output_type": "stream",
     "text": [
      "+-----+----------+--------------------+\n",
      "|label|prediction|         probability|\n",
      "+-----+----------+--------------------+\n",
      "|  0.0|       1.0|[0.19305019305019...|\n",
      "|  0.0|       0.0|[0.94420600858369...|\n",
      "|  0.0|       0.0|[0.94420600858369...|\n",
      "|  0.0|       0.0|[0.94420600858369...|\n",
      "|  0.0|       0.0|[0.94420600858369...|\n",
      "+-----+----------+--------------------+\n",
      "only showing top 5 rows\n",
      "\n"
     ]
    }
   ],
   "source": [
    "from pyspark.ml.classification import DecisionTreeClassifier\n",
    "\n",
    "dt = DecisionTreeClassifier(featuresCol = 'features', labelCol = 'label', maxDepth = 3)\n",
    "dtModel = dt.fit(train)\n",
    "predictions = dtModel.transform(test)\n",
    "predictions.select('label', 'prediction', 'probability').show(5)"
   ]
  },
  {
   "cell_type": "code",
   "execution_count": 60,
   "metadata": {},
   "outputs": [
    {
     "name": "stdout",
     "output_type": "stream",
     "text": [
      "Test Area Under ROC curve for DT classifier :  0.8325348432055749\n"
     ]
    }
   ],
   "source": [
    "from pyspark.ml.evaluation import BinaryClassificationEvaluator\n",
    "\n",
    "evaluator = BinaryClassificationEvaluator()\n",
    "print('Test Area Under ROC curve for DT classifier : ', evaluator.evaluate(predictions))"
   ]
  },
  {
   "cell_type": "markdown",
   "metadata": {},
   "source": [
    "# **Confusion matrix for Decision tree classifier model**"
   ]
  },
  {
   "cell_type": "code",
   "execution_count": 61,
   "metadata": {},
   "outputs": [
    {
     "name": "stdout",
     "output_type": "stream",
     "text": [
      "+-----+------------+\n",
      "|label|count(label)|\n",
      "+-----+------------+\n",
      "|  0.0|         112|\n",
      "|  1.0|          82|\n",
      "+-----+------------+\n",
      "\n",
      "+----------+-----------------+\n",
      "|prediction|count(prediction)|\n",
      "+----------+-----------------+\n",
      "|       0.0|               92|\n",
      "|       1.0|              102|\n",
      "+----------+-----------------+\n",
      "\n"
     ]
    }
   ],
   "source": [
    "cm = predictions.select(\"label\", \"prediction\")\n",
    "cm.groupby('label').agg({'label': 'count'}).show()\n",
    "cm.groupby('prediction').agg({'prediction': 'count'}).show()"
   ]
  },
  {
   "cell_type": "code",
   "execution_count": 62,
   "metadata": {},
   "outputs": [
    {
     "name": "stdout",
     "output_type": "stream",
     "text": [
      "Model accuracy for DT classifier: 82.474%\n"
     ]
    }
   ],
   "source": [
    "def accuracy_m(model): \n",
    "    predictions = model.transform(test)\n",
    "    cm = predictions.select(\"label\", \"prediction\")\n",
    "    acc = cm.filter(cm.label == cm.prediction).count() / cm.count()\n",
    "    print(\"Model accuracy for DT classifier: %.3f%%\" % (acc * 100)) \n",
    "accuracy_m(model = dtModel)"
   ]
  },
  {
   "cell_type": "markdown",
   "metadata": {},
   "source": [
    "# **ENSEMBLE OF DECISION TREES : RANDOM FOREST CLASSIFIER**"
   ]
  },
  {
   "cell_type": "code",
   "execution_count": 63,
   "metadata": {},
   "outputs": [
    {
     "name": "stdout",
     "output_type": "stream",
     "text": [
      "+-----+----------+--------------------+\n",
      "|label|prediction|         probability|\n",
      "+-----+----------+--------------------+\n",
      "|  0.0|       1.0|[0.38651198006637...|\n",
      "|  0.0|       0.0|[0.91815067665532...|\n",
      "|  0.0|       0.0|[0.90262705112203...|\n",
      "|  0.0|       0.0|[0.79096045921938...|\n",
      "|  0.0|       0.0|[0.92451319711358...|\n",
      "|  0.0|       0.0|[0.90482789297354...|\n",
      "|  0.0|       0.0|[0.77892907839145...|\n",
      "|  0.0|       0.0|[0.72662446367865...|\n",
      "|  0.0|       0.0|[0.76521087639485...|\n",
      "|  0.0|       0.0|[0.87628713770520...|\n",
      "+-----+----------+--------------------+\n",
      "only showing top 10 rows\n",
      "\n"
     ]
    }
   ],
   "source": [
    "from pyspark.ml.classification import RandomForestClassifier\n",
    "\n",
    "rf = RandomForestClassifier(featuresCol = 'features', labelCol = 'label')\n",
    "rfModel = rf.fit(train)\n",
    "predictions = rfModel.transform(test)\n",
    "predictions.select('label','prediction', 'probability').show(10)"
   ]
  },
  {
   "cell_type": "code",
   "execution_count": 64,
   "metadata": {},
   "outputs": [
    {
     "name": "stdout",
     "output_type": "stream",
     "text": [
      "Test Area Under ROC curve for RF classifier :  0.9151241289198598\n"
     ]
    }
   ],
   "source": [
    "from pyspark.ml.evaluation import BinaryClassificationEvaluator\n",
    "\n",
    "evaluator = BinaryClassificationEvaluator()\n",
    "print('Test Area Under ROC curve for RF classifier : ', evaluator.evaluate(predictions))"
   ]
  },
  {
   "cell_type": "markdown",
   "metadata": {},
   "source": [
    "# **Confusion matrix for random forest classifier model**"
   ]
  },
  {
   "cell_type": "code",
   "execution_count": 65,
   "metadata": {},
   "outputs": [
    {
     "name": "stdout",
     "output_type": "stream",
     "text": [
      "+-----+------------+\n",
      "|label|count(label)|\n",
      "+-----+------------+\n",
      "|  0.0|         112|\n",
      "|  1.0|          82|\n",
      "+-----+------------+\n",
      "\n",
      "+----------+-----------------+\n",
      "|prediction|count(prediction)|\n",
      "+----------+-----------------+\n",
      "|       0.0|               99|\n",
      "|       1.0|               95|\n",
      "+----------+-----------------+\n",
      "\n"
     ]
    }
   ],
   "source": [
    "cm = predictions.select(\"label\", \"prediction\")\n",
    "cm.groupby('label').agg({'label': 'count'}).show()\n",
    "cm.groupby('prediction').agg({'prediction': 'count'}).show()"
   ]
  },
  {
   "cell_type": "code",
   "execution_count": 66,
   "metadata": {},
   "outputs": [
    {
     "name": "stdout",
     "output_type": "stream",
     "text": [
      "Model accuracy for RF classifier: 84.021%\n"
     ]
    }
   ],
   "source": [
    "def accuracy_m(model): \n",
    "    predictions = model.transform(test)\n",
    "    cm = predictions.select(\"label\", \"prediction\")\n",
    "    acc = cm.filter(cm.label == cm.prediction).count() / cm.count()\n",
    "    print(\"Model accuracy for RF classifier: %.3f%%\" % (acc * 100)) \n",
    "accuracy_m(model = rfModel)"
   ]
  },
  {
   "cell_type": "markdown",
   "metadata": {},
   "source": [
    "# EXTRACTING FEATURE IMPORTANCE FROM RANDOM FOREST CLASSIFIER"
   ]
  },
  {
   "cell_type": "code",
   "execution_count": 69,
   "metadata": {},
   "outputs": [],
   "source": [
    "def ExtractFeatureImp(featureImp, dataset, featuresCol):\n",
    "    list_extract = []\n",
    "    for i in dataset.schema[featuresCol].metadata[\"ml_attr\"][\"attrs\"]:\n",
    "        list_extract = list_extract + dataset.schema[featuresCol].metadata[\"ml_attr\"][\"attrs\"][i]\n",
    "    varlist = pd.DataFrame(list_extract)\n",
    "    varlist['score'] = varlist['idx'].apply(lambda x: featureImp[x])\n",
    "    return(varlist.sort_values('score', ascending = False))"
   ]
  },
  {
   "cell_type": "code",
   "execution_count": 71,
   "metadata": {},
   "outputs": [
    {
     "data": {
      "text/html": [
       "<div>\n",
       "<style scoped>\n",
       "    .dataframe tbody tr th:only-of-type {\n",
       "        vertical-align: middle;\n",
       "    }\n",
       "\n",
       "    .dataframe tbody tr th {\n",
       "        vertical-align: top;\n",
       "    }\n",
       "\n",
       "    .dataframe thead th {\n",
       "        text-align: right;\n",
       "    }\n",
       "</style>\n",
       "<table border=\"1\" class=\"dataframe\">\n",
       "  <thead>\n",
       "    <tr style=\"text-align: right;\">\n",
       "      <th></th>\n",
       "      <th>idx</th>\n",
       "      <th>name</th>\n",
       "      <th>score</th>\n",
       "    </tr>\n",
       "  </thead>\n",
       "  <tbody>\n",
       "    <tr>\n",
       "      <th>36</th>\n",
       "      <td>31</td>\n",
       "      <td>PriorDefaultclassVec_t</td>\n",
       "      <td>0.438786</td>\n",
       "    </tr>\n",
       "    <tr>\n",
       "      <th>4</th>\n",
       "      <td>39</td>\n",
       "      <td>CreditScore</td>\n",
       "      <td>0.118015</td>\n",
       "    </tr>\n",
       "    <tr>\n",
       "      <th>3</th>\n",
       "      <td>38</td>\n",
       "      <td>Income</td>\n",
       "      <td>0.106397</td>\n",
       "    </tr>\n",
       "    <tr>\n",
       "      <th>2</th>\n",
       "      <td>37</td>\n",
       "      <td>YearsEmployed</td>\n",
       "      <td>0.081513</td>\n",
       "    </tr>\n",
       "    <tr>\n",
       "      <th>37</th>\n",
       "      <td>32</td>\n",
       "      <td>EmployedclassVec_f</td>\n",
       "      <td>0.044710</td>\n",
       "    </tr>\n",
       "    <tr>\n",
       "      <th>0</th>\n",
       "      <td>35</td>\n",
       "      <td>Age</td>\n",
       "      <td>0.036086</td>\n",
       "    </tr>\n",
       "    <tr>\n",
       "      <th>1</th>\n",
       "      <td>36</td>\n",
       "      <td>Debt</td>\n",
       "      <td>0.031889</td>\n",
       "    </tr>\n",
       "    <tr>\n",
       "      <th>8</th>\n",
       "      <td>3</td>\n",
       "      <td>MarriedclassVec_y</td>\n",
       "      <td>0.028392</td>\n",
       "    </tr>\n",
       "    <tr>\n",
       "      <th>30</th>\n",
       "      <td>25</td>\n",
       "      <td>EthnicityclassVec_ff</td>\n",
       "      <td>0.016085</td>\n",
       "    </tr>\n",
       "    <tr>\n",
       "      <th>18</th>\n",
       "      <td>13</td>\n",
       "      <td>EducationLevelclassVec_ff</td>\n",
       "      <td>0.010080</td>\n",
       "    </tr>\n",
       "  </tbody>\n",
       "</table>\n",
       "</div>"
      ],
      "text/plain": [
       "    idx                       name     score\n",
       "36   31     PriorDefaultclassVec_t  0.438786\n",
       "4    39                CreditScore  0.118015\n",
       "3    38                     Income  0.106397\n",
       "2    37              YearsEmployed  0.081513\n",
       "37   32         EmployedclassVec_f  0.044710\n",
       "0    35                        Age  0.036086\n",
       "1    36                       Debt  0.031889\n",
       "8     3          MarriedclassVec_y  0.028392\n",
       "30   25       EthnicityclassVec_ff  0.016085\n",
       "18   13  EducationLevelclassVec_ff  0.010080"
      ]
     },
     "execution_count": 71,
     "metadata": {},
     "output_type": "execute_result"
    }
   ],
   "source": [
    "result = ExtractFeatureImp(rfModel.featureImportances, feature_data, \"features\").head(10)\n",
    "result"
   ]
  },
  {
   "cell_type": "code",
   "execution_count": 76,
   "metadata": {},
   "outputs": [],
   "source": [
    "df=feature_data\n",
    "df2 = rfModel.transform(df)"
   ]
  },
  {
   "cell_type": "code",
   "execution_count": 77,
   "metadata": {},
   "outputs": [],
   "source": [
    "from pyspark.ml.feature import VectorSlicer\n",
    "from pyspark.ml.linalg import Vectors\n",
    "from pyspark.sql.types import Row\n",
    "\n",
    "varlist = ExtractFeatureImp(rfModel.featureImportances,df, \"features\")\n",
    "varidx = [x for x in varlist['idx'][0:10]]\n",
    "varidx\n",
    "slicer = VectorSlicer(inputCol=\"features\", outputCol=\"features2\", indices=varidx)\n",
    "\n",
    "df3 = slicer.transform(df2)\n",
    "\n",
    "df3 = df3.drop('rawPrediction', 'probability', 'prediction')\n",
    "rf2 = RandomForestClassifier(labelCol=\"label\", featuresCol=\"features2\", seed = 8464,\n",
    "                            numTrees=10, cacheNodeIds = True, subsamplingRate = 0.7)\n",
    "mod2 = rf2.fit(df3)\n",
    "pred = mod2.transform(df3)"
   ]
  },
  {
   "cell_type": "code",
   "execution_count": 78,
   "metadata": {},
   "outputs": [
    {
     "name": "stdout",
     "output_type": "stream",
     "text": [
      "+-----+--------------------+------+---+----+-------+------------+--------------+---------+-------------+------------+--------+-----------+-------+------+--------+--------------------+--------------------+--------------------+----------+\n",
      "|label|            features|Gender|Age|Debt|Married|BankCustomer|EducationLevel|Ethnicity|YearsEmployed|PriorDefault|Employed|CreditScore|Citizen|Income|Approved|           features2|       rawPrediction|         probability|prediction|\n",
      "+-----+--------------------+------+---+----+-------+------------+--------------+---------+-------------+------------+--------+-----------+-------+------+--------+--------------------+--------------------+--------------------+----------+\n",
      "|  1.0|(40,[0,2,5,10,22,...|     b| 30| 0.0|      u|           g|             w|        v|         1.25|           t|       t|          1|      g|     0|       +|(10,[0,1,3,5],[1....|[2.27073847280242...|[0.22707384728024...|       1.0|\n",
      "|  1.0|(40,[1,2,5,9,23,3...|     a| 58|4.46|      u|           g|             q|        h|         3.04|           t|       t|          6|      g|   560|       +|(10,[0,1,2,3,5,6]...|[0.37776921188662...|[0.03777692118866...|       1.0|\n",
      "+-----+--------------------+------+---+----+-------+------------+--------------+---------+-------------+------------+--------+-----------+-------+------+--------+--------------------+--------------------+--------------------+----------+\n",
      "only showing top 2 rows\n",
      "\n"
     ]
    }
   ],
   "source": [
    "pred.show(2)"
   ]
  },
  {
   "cell_type": "markdown",
   "metadata": {},
   "source": [
    "# **GRADIENT BOOST TREE CLASSIFIER**"
   ]
  },
  {
   "cell_type": "code",
   "execution_count": 79,
   "metadata": {},
   "outputs": [
    {
     "name": "stdout",
     "output_type": "stream",
     "text": [
      "+-----+----------+--------------------+\n",
      "|label|prediction|         probability|\n",
      "+-----+----------+--------------------+\n",
      "|  0.0|       1.0|[0.20410224456997...|\n",
      "|  0.0|       0.0|[0.93446173542760...|\n",
      "|  0.0|       0.0|[0.93446173542760...|\n",
      "|  0.0|       0.0|[0.91734245490929...|\n",
      "|  0.0|       0.0|[0.91702720378284...|\n",
      "|  0.0|       0.0|[0.93763266801187...|\n",
      "|  0.0|       0.0|[0.90861207384237...|\n",
      "|  0.0|       0.0|[0.91734245490929...|\n",
      "|  0.0|       0.0|[0.93471546073715...|\n",
      "|  0.0|       0.0|[0.93446173542760...|\n",
      "+-----+----------+--------------------+\n",
      "only showing top 10 rows\n",
      "\n"
     ]
    }
   ],
   "source": [
    "from pyspark.ml.classification import GBTClassifier\n",
    "\n",
    "gbt = GBTClassifier(maxIter=10)\n",
    "gbtModel = gbt.fit(train)\n",
    "predictions = gbtModel.transform(test)\n",
    "predictions.select('label','prediction', 'probability').show(10)"
   ]
  },
  {
   "cell_type": "code",
   "execution_count": 80,
   "metadata": {},
   "outputs": [
    {
     "name": "stdout",
     "output_type": "stream",
     "text": [
      "Test Area Under ROC curve for GBT classifier :  0.8974303135888501\n"
     ]
    }
   ],
   "source": [
    "from pyspark.ml.evaluation import BinaryClassificationEvaluator\n",
    "\n",
    "evaluator = BinaryClassificationEvaluator()\n",
    "print('Test Area Under ROC curve for GBT classifier : ', evaluator.evaluate(predictions))"
   ]
  },
  {
   "cell_type": "code",
   "execution_count": 81,
   "metadata": {},
   "outputs": [
    {
     "name": "stdout",
     "output_type": "stream",
     "text": [
      "+-----+------------+\n",
      "|label|count(label)|\n",
      "+-----+------------+\n",
      "|  0.0|         112|\n",
      "|  1.0|          82|\n",
      "+-----+------------+\n",
      "\n",
      "+----------+-----------------+\n",
      "|prediction|count(prediction)|\n",
      "+----------+-----------------+\n",
      "|       0.0|              101|\n",
      "|       1.0|               93|\n",
      "+----------+-----------------+\n",
      "\n"
     ]
    }
   ],
   "source": [
    "cm = predictions.select(\"label\", \"prediction\")\n",
    "cm.groupby('label').agg({'label': 'count'}).show()\n",
    "cm.groupby('prediction').agg({'prediction': 'count'}).show()"
   ]
  },
  {
   "cell_type": "code",
   "execution_count": 82,
   "metadata": {},
   "outputs": [
    {
     "name": "stdout",
     "output_type": "stream",
     "text": [
      "Model accuracy for GBT classifier: 84.021%\n"
     ]
    }
   ],
   "source": [
    "def accuracy_m(model): \n",
    "    predictions = model.transform(test)\n",
    "    cm = predictions.select(\"label\", \"prediction\")\n",
    "    acc = cm.filter(cm.label == cm.prediction).count() / cm.count()\n",
    "    print(\"Model accuracy for GBT classifier: %.3f%%\" % (acc * 100)) \n",
    "accuracy_m(model = gbtModel)"
   ]
  },
  {
   "cell_type": "markdown",
   "metadata": {},
   "source": [
    "# **FEATURE IMPORTANCE FROM THE TREE CLASSIFIERS**"
   ]
  },
  {
   "cell_type": "code",
   "execution_count": 83,
   "metadata": {},
   "outputs": [
    {
     "data": {
      "text/plain": [
       "SparseVector(40, {0: 0.0212, 2: 0.0391, 4: 0.0077, 8: 0.0237, 9: 0.033, 10: 0.0168, 11: 0.0043, 12: 0.004, 14: 0.0071, 15: 0.0111, 17: 0.0088, 18: 0.0012, 19: 0.0243, 20: 0.0047, 22: 0.0031, 24: 0.0224, 27: 0.0255, 31: 0.3585, 32: 0.0301, 33: 0.0079, 35: 0.1074, 36: 0.1251, 37: 0.043, 38: 0.0636, 39: 0.0065})"
      ]
     },
     "execution_count": 83,
     "metadata": {},
     "output_type": "execute_result"
    }
   ],
   "source": [
    "rfModel.featureImportances # Add this for report\n",
    "dtModel.featureImportances # Add this for report\n",
    "gbtModel.featureImportances # Add this for report"
   ]
  },
  {
   "cell_type": "code",
   "execution_count": 84,
   "metadata": {},
   "outputs": [
    {
     "data": {
      "text/html": [
       "<div>\n",
       "<style scoped>\n",
       "    .dataframe tbody tr th:only-of-type {\n",
       "        vertical-align: middle;\n",
       "    }\n",
       "\n",
       "    .dataframe tbody tr th {\n",
       "        vertical-align: top;\n",
       "    }\n",
       "\n",
       "    .dataframe thead th {\n",
       "        text-align: right;\n",
       "    }\n",
       "</style>\n",
       "<table border=\"1\" class=\"dataframe\">\n",
       "  <thead>\n",
       "    <tr style=\"text-align: right;\">\n",
       "      <th></th>\n",
       "      <th>idx</th>\n",
       "      <th>name</th>\n",
       "      <th>score</th>\n",
       "    </tr>\n",
       "  </thead>\n",
       "  <tbody>\n",
       "    <tr>\n",
       "      <th>36</th>\n",
       "      <td>31</td>\n",
       "      <td>PriorDefaultclassVec_t</td>\n",
       "      <td>0.969272</td>\n",
       "    </tr>\n",
       "    <tr>\n",
       "      <th>9</th>\n",
       "      <td>4</td>\n",
       "      <td>MarriedclassVec_?</td>\n",
       "      <td>0.027147</td>\n",
       "    </tr>\n",
       "    <tr>\n",
       "      <th>0</th>\n",
       "      <td>35</td>\n",
       "      <td>Age</td>\n",
       "      <td>0.003581</td>\n",
       "    </tr>\n",
       "    <tr>\n",
       "      <th>30</th>\n",
       "      <td>25</td>\n",
       "      <td>EthnicityclassVec_ff</td>\n",
       "      <td>0.000000</td>\n",
       "    </tr>\n",
       "  </tbody>\n",
       "</table>\n",
       "</div>"
      ],
      "text/plain": [
       "    idx                    name     score\n",
       "36   31  PriorDefaultclassVec_t  0.969272\n",
       "9     4       MarriedclassVec_?  0.027147\n",
       "0    35                     Age  0.003581\n",
       "30   25    EthnicityclassVec_ff  0.000000"
      ]
     },
     "execution_count": 84,
     "metadata": {},
     "output_type": "execute_result"
    }
   ],
   "source": [
    "f_imp = dtModel.featureImportances\n",
    "\n",
    "\n",
    "def ExtractFeatureImp(featureImp, dataset, featuresCol):\n",
    "    list_extract = []\n",
    "    for i in dataset.schema[featuresCol].metadata[\"ml_attr\"][\"attrs\"]:\n",
    "        list_extract = list_extract + dataset.schema[featuresCol].metadata[\"ml_attr\"][\"attrs\"][i]\n",
    "    varlist = pd.DataFrame(list_extract)\n",
    "    varlist['score'] = varlist['idx'].apply(lambda x: featureImp[x])\n",
    "    return(varlist.sort_values('score', ascending = False))\n",
    "\n",
    "\n",
    "result1 = ExtractFeatureImp(dtModel.featureImportances,df, \"features\").head(4)\n",
    "result1"
   ]
  },
  {
   "cell_type": "code",
   "execution_count": 85,
   "metadata": {},
   "outputs": [
    {
     "data": {
      "text/html": [
       "<div>\n",
       "<style scoped>\n",
       "    .dataframe tbody tr th:only-of-type {\n",
       "        vertical-align: middle;\n",
       "    }\n",
       "\n",
       "    .dataframe tbody tr th {\n",
       "        vertical-align: top;\n",
       "    }\n",
       "\n",
       "    .dataframe thead th {\n",
       "        text-align: right;\n",
       "    }\n",
       "</style>\n",
       "<table border=\"1\" class=\"dataframe\">\n",
       "  <thead>\n",
       "    <tr style=\"text-align: right;\">\n",
       "      <th></th>\n",
       "      <th>idx</th>\n",
       "      <th>name</th>\n",
       "      <th>score</th>\n",
       "    </tr>\n",
       "  </thead>\n",
       "  <tbody>\n",
       "    <tr>\n",
       "      <th>36</th>\n",
       "      <td>31</td>\n",
       "      <td>PriorDefaultclassVec_t</td>\n",
       "      <td>0.358505</td>\n",
       "    </tr>\n",
       "    <tr>\n",
       "      <th>1</th>\n",
       "      <td>36</td>\n",
       "      <td>Debt</td>\n",
       "      <td>0.125102</td>\n",
       "    </tr>\n",
       "    <tr>\n",
       "      <th>0</th>\n",
       "      <td>35</td>\n",
       "      <td>Age</td>\n",
       "      <td>0.107389</td>\n",
       "    </tr>\n",
       "    <tr>\n",
       "      <th>3</th>\n",
       "      <td>38</td>\n",
       "      <td>Income</td>\n",
       "      <td>0.063571</td>\n",
       "    </tr>\n",
       "    <tr>\n",
       "      <th>2</th>\n",
       "      <td>37</td>\n",
       "      <td>YearsEmployed</td>\n",
       "      <td>0.042958</td>\n",
       "    </tr>\n",
       "    <tr>\n",
       "      <th>7</th>\n",
       "      <td>2</td>\n",
       "      <td>MarriedclassVec_u</td>\n",
       "      <td>0.039103</td>\n",
       "    </tr>\n",
       "    <tr>\n",
       "      <th>14</th>\n",
       "      <td>9</td>\n",
       "      <td>EducationLevelclassVec_q</td>\n",
       "      <td>0.033031</td>\n",
       "    </tr>\n",
       "    <tr>\n",
       "      <th>37</th>\n",
       "      <td>32</td>\n",
       "      <td>EmployedclassVec_f</td>\n",
       "      <td>0.030115</td>\n",
       "    </tr>\n",
       "    <tr>\n",
       "      <th>32</th>\n",
       "      <td>27</td>\n",
       "      <td>EthnicityclassVec_j</td>\n",
       "      <td>0.025450</td>\n",
       "    </tr>\n",
       "    <tr>\n",
       "      <th>24</th>\n",
       "      <td>19</td>\n",
       "      <td>EducationLevelclassVec_e</td>\n",
       "      <td>0.024327</td>\n",
       "    </tr>\n",
       "  </tbody>\n",
       "</table>\n",
       "</div>"
      ],
      "text/plain": [
       "    idx                      name     score\n",
       "36   31    PriorDefaultclassVec_t  0.358505\n",
       "1    36                      Debt  0.125102\n",
       "0    35                       Age  0.107389\n",
       "3    38                    Income  0.063571\n",
       "2    37             YearsEmployed  0.042958\n",
       "7     2         MarriedclassVec_u  0.039103\n",
       "14    9  EducationLevelclassVec_q  0.033031\n",
       "37   32        EmployedclassVec_f  0.030115\n",
       "32   27       EthnicityclassVec_j  0.025450\n",
       "24   19  EducationLevelclassVec_e  0.024327"
      ]
     },
     "execution_count": 85,
     "metadata": {},
     "output_type": "execute_result"
    }
   ],
   "source": [
    "f_imp = gbtModel.featureImportances\n",
    "\n",
    "\n",
    "def ExtractFeatureImp(featureImp, dataset, featuresCol):\n",
    "    list_extract = []\n",
    "    for i in dataset.schema[featuresCol].metadata[\"ml_attr\"][\"attrs\"]:\n",
    "        list_extract = list_extract + dataset.schema[featuresCol].metadata[\"ml_attr\"][\"attrs\"][i]\n",
    "    varlist = pd.DataFrame(list_extract)\n",
    "    varlist['score'] = varlist['idx'].apply(lambda x: featureImp[x])\n",
    "    return(varlist.sort_values('score', ascending = False))\n",
    "\n",
    "\n",
    "result2 = ExtractFeatureImp(gbtModel.featureImportances,df, \"features\").head(10)\n",
    "result2"
   ]
  },
  {
   "cell_type": "code",
   "execution_count": 86,
   "metadata": {},
   "outputs": [
    {
     "data": {
      "text/html": [
       "<div>\n",
       "<style scoped>\n",
       "    .dataframe tbody tr th:only-of-type {\n",
       "        vertical-align: middle;\n",
       "    }\n",
       "\n",
       "    .dataframe tbody tr th {\n",
       "        vertical-align: top;\n",
       "    }\n",
       "\n",
       "    .dataframe thead th {\n",
       "        text-align: right;\n",
       "    }\n",
       "</style>\n",
       "<table border=\"1\" class=\"dataframe\">\n",
       "  <thead>\n",
       "    <tr style=\"text-align: right;\">\n",
       "      <th></th>\n",
       "      <th>idx</th>\n",
       "      <th>name</th>\n",
       "      <th>score</th>\n",
       "    </tr>\n",
       "  </thead>\n",
       "  <tbody>\n",
       "    <tr>\n",
       "      <th>36</th>\n",
       "      <td>31</td>\n",
       "      <td>PriorDefaultclassVec_t</td>\n",
       "      <td>0.438786</td>\n",
       "    </tr>\n",
       "    <tr>\n",
       "      <th>4</th>\n",
       "      <td>39</td>\n",
       "      <td>CreditScore</td>\n",
       "      <td>0.118015</td>\n",
       "    </tr>\n",
       "    <tr>\n",
       "      <th>3</th>\n",
       "      <td>38</td>\n",
       "      <td>Income</td>\n",
       "      <td>0.106397</td>\n",
       "    </tr>\n",
       "    <tr>\n",
       "      <th>2</th>\n",
       "      <td>37</td>\n",
       "      <td>YearsEmployed</td>\n",
       "      <td>0.081513</td>\n",
       "    </tr>\n",
       "    <tr>\n",
       "      <th>37</th>\n",
       "      <td>32</td>\n",
       "      <td>EmployedclassVec_f</td>\n",
       "      <td>0.044710</td>\n",
       "    </tr>\n",
       "    <tr>\n",
       "      <th>0</th>\n",
       "      <td>35</td>\n",
       "      <td>Age</td>\n",
       "      <td>0.036086</td>\n",
       "    </tr>\n",
       "    <tr>\n",
       "      <th>1</th>\n",
       "      <td>36</td>\n",
       "      <td>Debt</td>\n",
       "      <td>0.031889</td>\n",
       "    </tr>\n",
       "    <tr>\n",
       "      <th>8</th>\n",
       "      <td>3</td>\n",
       "      <td>MarriedclassVec_y</td>\n",
       "      <td>0.028392</td>\n",
       "    </tr>\n",
       "    <tr>\n",
       "      <th>30</th>\n",
       "      <td>25</td>\n",
       "      <td>EthnicityclassVec_ff</td>\n",
       "      <td>0.016085</td>\n",
       "    </tr>\n",
       "    <tr>\n",
       "      <th>18</th>\n",
       "      <td>13</td>\n",
       "      <td>EducationLevelclassVec_ff</td>\n",
       "      <td>0.010080</td>\n",
       "    </tr>\n",
       "  </tbody>\n",
       "</table>\n",
       "</div>"
      ],
      "text/plain": [
       "    idx                       name     score\n",
       "36   31     PriorDefaultclassVec_t  0.438786\n",
       "4    39                CreditScore  0.118015\n",
       "3    38                     Income  0.106397\n",
       "2    37              YearsEmployed  0.081513\n",
       "37   32         EmployedclassVec_f  0.044710\n",
       "0    35                        Age  0.036086\n",
       "1    36                       Debt  0.031889\n",
       "8     3          MarriedclassVec_y  0.028392\n",
       "30   25       EthnicityclassVec_ff  0.016085\n",
       "18   13  EducationLevelclassVec_ff  0.010080"
      ]
     },
     "execution_count": 86,
     "metadata": {},
     "output_type": "execute_result"
    }
   ],
   "source": [
    "f_imp = rfModel.featureImportances\n",
    "\n",
    "\n",
    "def ExtractFeatureImp(featureImp, dataset, featuresCol):\n",
    "    list_extract = []\n",
    "    for i in dataset.schema[featuresCol].metadata[\"ml_attr\"][\"attrs\"]:\n",
    "        list_extract = list_extract + dataset.schema[featuresCol].metadata[\"ml_attr\"][\"attrs\"][i]\n",
    "    varlist = pd.DataFrame(list_extract)\n",
    "    varlist['score'] = varlist['idx'].apply(lambda x: featureImp[x])\n",
    "    return(varlist.sort_values('score', ascending = False))\n",
    "\n",
    "\n",
    "result3 = ExtractFeatureImp(rfModel.featureImportances,df, \"features\").head(10)\n",
    "result3"
   ]
  },
  {
   "cell_type": "code",
   "execution_count": 87,
   "metadata": {},
   "outputs": [],
   "source": [
    "merged_df = pd.concat([result1, result2, result3])"
   ]
  },
  {
   "cell_type": "markdown",
   "metadata": {},
   "source": [
    "# FINAL LIST OF BEST FEATURES OBTAINED FROM ALL THE TREE CLASSIFIERS"
   ]
  },
  {
   "cell_type": "code",
   "execution_count": 88,
   "metadata": {},
   "outputs": [
    {
     "data": {
      "text/html": [
       "<div>\n",
       "<style scoped>\n",
       "    .dataframe tbody tr th:only-of-type {\n",
       "        vertical-align: middle;\n",
       "    }\n",
       "\n",
       "    .dataframe tbody tr th {\n",
       "        vertical-align: top;\n",
       "    }\n",
       "\n",
       "    .dataframe thead th {\n",
       "        text-align: right;\n",
       "    }\n",
       "</style>\n",
       "<table border=\"1\" class=\"dataframe\">\n",
       "  <thead>\n",
       "    <tr style=\"text-align: right;\">\n",
       "      <th></th>\n",
       "      <th>idx</th>\n",
       "      <th>name</th>\n",
       "      <th>score</th>\n",
       "    </tr>\n",
       "  </thead>\n",
       "  <tbody>\n",
       "    <tr>\n",
       "      <th>36</th>\n",
       "      <td>31</td>\n",
       "      <td>PriorDefaultclassVec_t</td>\n",
       "      <td>0.969272</td>\n",
       "    </tr>\n",
       "    <tr>\n",
       "      <th>36</th>\n",
       "      <td>31</td>\n",
       "      <td>PriorDefaultclassVec_t</td>\n",
       "      <td>0.438786</td>\n",
       "    </tr>\n",
       "    <tr>\n",
       "      <th>36</th>\n",
       "      <td>31</td>\n",
       "      <td>PriorDefaultclassVec_t</td>\n",
       "      <td>0.358505</td>\n",
       "    </tr>\n",
       "    <tr>\n",
       "      <th>1</th>\n",
       "      <td>36</td>\n",
       "      <td>Debt</td>\n",
       "      <td>0.125102</td>\n",
       "    </tr>\n",
       "    <tr>\n",
       "      <th>4</th>\n",
       "      <td>39</td>\n",
       "      <td>CreditScore</td>\n",
       "      <td>0.118015</td>\n",
       "    </tr>\n",
       "    <tr>\n",
       "      <th>0</th>\n",
       "      <td>35</td>\n",
       "      <td>Age</td>\n",
       "      <td>0.107389</td>\n",
       "    </tr>\n",
       "    <tr>\n",
       "      <th>3</th>\n",
       "      <td>38</td>\n",
       "      <td>Income</td>\n",
       "      <td>0.106397</td>\n",
       "    </tr>\n",
       "    <tr>\n",
       "      <th>2</th>\n",
       "      <td>37</td>\n",
       "      <td>YearsEmployed</td>\n",
       "      <td>0.081513</td>\n",
       "    </tr>\n",
       "    <tr>\n",
       "      <th>3</th>\n",
       "      <td>38</td>\n",
       "      <td>Income</td>\n",
       "      <td>0.063571</td>\n",
       "    </tr>\n",
       "    <tr>\n",
       "      <th>37</th>\n",
       "      <td>32</td>\n",
       "      <td>EmployedclassVec_f</td>\n",
       "      <td>0.044710</td>\n",
       "    </tr>\n",
       "  </tbody>\n",
       "</table>\n",
       "</div>"
      ],
      "text/plain": [
       "    idx                    name     score\n",
       "36   31  PriorDefaultclassVec_t  0.969272\n",
       "36   31  PriorDefaultclassVec_t  0.438786\n",
       "36   31  PriorDefaultclassVec_t  0.358505\n",
       "1    36                    Debt  0.125102\n",
       "4    39             CreditScore  0.118015\n",
       "0    35                     Age  0.107389\n",
       "3    38                  Income  0.106397\n",
       "2    37           YearsEmployed  0.081513\n",
       "3    38                  Income  0.063571\n",
       "37   32      EmployedclassVec_f  0.044710"
      ]
     },
     "execution_count": 88,
     "metadata": {},
     "output_type": "execute_result"
    }
   ],
   "source": [
    "merged_df.sort_values(by='score', ascending=False).head(10)"
   ]
  }
 ],
 "metadata": {
  "kernelspec": {
   "display_name": "Python 3",
   "language": "python",
   "name": "python3"
  },
  "language_info": {
   "codemirror_mode": {
    "name": "ipython",
    "version": 3
   },
   "file_extension": ".py",
   "mimetype": "text/x-python",
   "name": "python",
   "nbconvert_exporter": "python",
   "pygments_lexer": "ipython3",
   "version": "3.8.3"
  }
 },
 "nbformat": 4,
 "nbformat_minor": 4
}
