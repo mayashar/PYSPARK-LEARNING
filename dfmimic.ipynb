{
 "cells": [
  {
   "cell_type": "markdown",
   "metadata": {},
   "source": [
    "PLEASE COMMENT AFTER PANDAS AND LET ME KNOW HOW TO MOVE FORWARD NOW. I AM ON THE WAY TO GET BETTER VISUALIZATION BUT NEED SUGGETIONS AS WELL. THANKS"
   ]
  },
  {
   "cell_type": "code",
   "execution_count": 1,
   "metadata": {},
   "outputs": [
    {
     "name": "stdout",
     "output_type": "stream",
     "text": [
      "+---------+---+-------+-----+-----+------+-----+------+-------------------+-------------------+----------+---------+-------------------+-------------------+----------+\n",
      "|person_id|age|paramCT|gpiCT|ndcCT|ahfsCT|medCT|gender|         birth_date|         F_T2D_Diag|F_T1D_Diag|F_LD_Diag|          F_KD_Diag|         F_CVD_Diag|F_ALZ_Diag|\n",
      "+---------+---+-------+-----+-----+------+-----+------+-------------------+-------------------+----------+---------+-------------------+-------------------+----------+\n",
      "|        2|  0|     47|    2|    2|     2|    2|     M|2138-07-17 00:00:00|               null|      null|     null|               null|               null|      null|\n",
      "|        3| 76|   1509| null| null|  null| null|     M|2025-04-11 00:00:00|               null|      null|     null|               null|2101-10-20 19:08:00|      null|\n",
      "|        4| 47|   1606|   52|   52|    52|   52|     F|2143-05-12 00:00:00|               null|      null|     null|               null|               null|      null|\n",
      "|        5|  0|     19| null| null|  null| null|     M|2103-02-02 00:00:00|               null|      null|     null|               null|               null|      null|\n",
      "|        6| 65|   1156|  123|  123|   123|  123|     F|2109-06-21 00:00:00|               null|      null|     null|2175-05-30 07:15:00|2175-05-30 07:15:00|      null|\n",
      "|        7|  0|     28| null| null|  null| null|     F|2121-05-23 00:00:00|               null|      null|     null|               null|               null|      null|\n",
      "|        8|  0|     35|    2|    2|     2|    2|     M|2117-11-20 00:00:00|               null|      null|     null|               null|               null|      null|\n",
      "|        9| 41|    393|   60|   60|    60|   60|     M|2108-01-26 00:00:00|               null|      null|     null|               null|2149-11-09 13:06:00|      null|\n",
      "|       10|  0|     52|    6|    6|     6|    6|     F|2103-06-28 00:00:00|               null|      null|     null|               null|               null|      null|\n",
      "|       11| 50|    731|   75|   75|    75|   75|     F|2128-02-22 00:00:00|               null|      null|     null|               null|               null|      null|\n",
      "|       12| 72|    773|   77|   77|    77|   77|     M|2032-03-24 00:00:00|               null|      null|     null|               null|               null|      null|\n",
      "|       13| 39|    660|   76|   76|    76|   76|     F|2127-02-27 00:00:00|2167-01-08 18:43:00|      null|     null|               null|               null|      null|\n",
      "|       16|  0|     27| null| null|  null| null|     M|2178-02-03 00:00:00|               null|      null|     null|               null|               null|      null|\n",
      "|       17| 47|    692|  103|  103|   103|  103|     F|2087-07-14 00:00:00|               null|      null|     null|               null|               null|      null|\n",
      "|       18| 50|    261|   31|   31|    31|   31|     M|2116-11-29 00:00:00|2167-10-02 11:18:00|      null|     null|               null|               null|      null|\n",
      "|       19|300|    138|   31|   31|    31|   31|     M|1808-08-04 23:15:22|               null|      null|     null|               null|               null|      null|\n",
      "|       20| 75|    333|   53|   53|    53|   53|     F|2107-06-13 00:00:00|2183-04-28 09:45:00|      null|     null|               null|               null|      null|\n",
      "|       21| 87|   1382|  193|  193|   193|  193|     M|2047-04-04 00:00:00|2134-09-11 12:17:00|      null|     null|2134-09-11 12:17:00|2134-09-11 12:17:00|      null|\n",
      "|       22| 64|     86| null| null|  null| null|     F|2131-05-07 00:00:00|               null|      null|     null|               null|               null|      null|\n",
      "|       23| 75|    440|  111|  111|   111|  111|     M|2082-07-17 00:00:00|               null|      null|     null|               null|               null|      null|\n",
      "+---------+---+-------+-----+-----+------+-----+------+-------------------+-------------------+----------+---------+-------------------+-------------------+----------+\n",
      "only showing top 20 rows\n",
      "\n",
      "root\n",
      " |-- person_id: integer (nullable = true)\n",
      " |-- age: integer (nullable = true)\n",
      " |-- paramCT: integer (nullable = true)\n",
      " |-- gpiCT: integer (nullable = true)\n",
      " |-- ndcCT: integer (nullable = true)\n",
      " |-- ahfsCT: integer (nullable = true)\n",
      " |-- medCT: integer (nullable = true)\n",
      " |-- gender: string (nullable = true)\n",
      " |-- birth_date: timestamp (nullable = true)\n",
      " |-- F_T2D_Diag: timestamp (nullable = true)\n",
      " |-- F_T1D_Diag: timestamp (nullable = true)\n",
      " |-- F_LD_Diag: timestamp (nullable = true)\n",
      " |-- F_KD_Diag: timestamp (nullable = true)\n",
      " |-- F_CVD_Diag: timestamp (nullable = true)\n",
      " |-- F_ALZ_Diag: timestamp (nullable = true)\n",
      "\n"
     ]
    }
   ],
   "source": [
    "#Reading MIMIC data\n",
    "df = spark.read.csv(\"mimic.csv\", header='true', inferSchema='true')\n",
    "df.show()\n",
    "df.printSchema()"
   ]
  },
  {
   "cell_type": "code",
   "execution_count": 2,
   "metadata": {},
   "outputs": [
    {
     "data": {
      "text/plain": [
       "(52643, 15)"
      ]
     },
     "execution_count": 2,
     "metadata": {},
     "output_type": "execute_result"
    }
   ],
   "source": [
    "#count row and column to explore\n",
    "def shape(self):\n",
    "    return (self.count(), len(self.columns))\n",
    "shape(df)"
   ]
  },
  {
   "cell_type": "code",
   "execution_count": 4,
   "metadata": {},
   "outputs": [],
   "source": [
    "#Certain selected columns as required\n",
    "df1=df.select('age','gender','birth_date','F_T2D_Diag','F_T1D_Diag','F_LD_Diag','F_KD_Diag','F_CVD_Diag','F_ALZ_Diag')"
   ]
  },
  {
   "cell_type": "code",
   "execution_count": 5,
   "metadata": {},
   "outputs": [
    {
     "name": "stdout",
     "output_type": "stream",
     "text": [
      "+---+------+-------------------+-------------------+----------+---------+-------------------+-------------------+----------+\n",
      "|age|gender|         birth_date|         F_T2D_Diag|F_T1D_Diag|F_LD_Diag|          F_KD_Diag|         F_CVD_Diag|F_ALZ_Diag|\n",
      "+---+------+-------------------+-------------------+----------+---------+-------------------+-------------------+----------+\n",
      "|  0|     M|2138-07-17 00:00:00|               null|      null|     null|               null|               null|      null|\n",
      "| 76|     M|2025-04-11 00:00:00|               null|      null|     null|               null|2101-10-20 19:08:00|      null|\n",
      "| 47|     F|2143-05-12 00:00:00|               null|      null|     null|               null|               null|      null|\n",
      "|  0|     M|2103-02-02 00:00:00|               null|      null|     null|               null|               null|      null|\n",
      "| 65|     F|2109-06-21 00:00:00|               null|      null|     null|2175-05-30 07:15:00|2175-05-30 07:15:00|      null|\n",
      "|  0|     F|2121-05-23 00:00:00|               null|      null|     null|               null|               null|      null|\n",
      "|  0|     M|2117-11-20 00:00:00|               null|      null|     null|               null|               null|      null|\n",
      "| 41|     M|2108-01-26 00:00:00|               null|      null|     null|               null|2149-11-09 13:06:00|      null|\n",
      "|  0|     F|2103-06-28 00:00:00|               null|      null|     null|               null|               null|      null|\n",
      "| 50|     F|2128-02-22 00:00:00|               null|      null|     null|               null|               null|      null|\n",
      "| 72|     M|2032-03-24 00:00:00|               null|      null|     null|               null|               null|      null|\n",
      "| 39|     F|2127-02-27 00:00:00|2167-01-08 18:43:00|      null|     null|               null|               null|      null|\n",
      "|  0|     M|2178-02-03 00:00:00|               null|      null|     null|               null|               null|      null|\n",
      "| 47|     F|2087-07-14 00:00:00|               null|      null|     null|               null|               null|      null|\n",
      "| 50|     M|2116-11-29 00:00:00|2167-10-02 11:18:00|      null|     null|               null|               null|      null|\n",
      "|300|     M|1808-08-04 23:15:22|               null|      null|     null|               null|               null|      null|\n",
      "| 75|     F|2107-06-13 00:00:00|2183-04-28 09:45:00|      null|     null|               null|               null|      null|\n",
      "| 87|     M|2047-04-04 00:00:00|2134-09-11 12:17:00|      null|     null|2134-09-11 12:17:00|2134-09-11 12:17:00|      null|\n",
      "| 64|     F|2131-05-07 00:00:00|               null|      null|     null|               null|               null|      null|\n",
      "| 75|     M|2082-07-17 00:00:00|               null|      null|     null|               null|               null|      null|\n",
      "+---+------+-------------------+-------------------+----------+---------+-------------------+-------------------+----------+\n",
      "only showing top 20 rows\n",
      "\n"
     ]
    }
   ],
   "source": [
    "df1.show()"
   ]
  },
  {
   "cell_type": "code",
   "execution_count": 8,
   "metadata": {},
   "outputs": [
    {
     "data": {
      "text/plain": [
       "52643"
      ]
     },
     "execution_count": 8,
     "metadata": {},
     "output_type": "execute_result"
    }
   ],
   "source": [
    "df1.count()"
   ]
  },
  {
   "cell_type": "code",
   "execution_count": 9,
   "metadata": {},
   "outputs": [
    {
     "name": "stdout",
     "output_type": "stream",
     "text": [
      "+------+-----+\n",
      "|gender|count|\n",
      "+------+-----+\n",
      "|     F|23184|\n",
      "|     M|29459|\n",
      "+------+-----+\n",
      "\n"
     ]
    }
   ],
   "source": [
    "df1.groupby([\"gender\"]).count().show()"
   ]
  },
  {
   "cell_type": "markdown",
   "metadata": {},
   "source": [
    "COUNTING FOR TYPE 2 DIABETES"
   ]
  },
  {
   "cell_type": "code",
   "execution_count": 10,
   "metadata": {},
   "outputs": [
    {
     "data": {
      "text/plain": [
       "12184"
      ]
     },
     "execution_count": 10,
     "metadata": {},
     "output_type": "execute_result"
    }
   ],
   "source": [
    "df1.filter(df1.F_T2D_Diag. isNotNull()).count()"
   ]
  },
  {
   "cell_type": "code",
   "execution_count": 11,
   "metadata": {},
   "outputs": [
    {
     "name": "stdout",
     "output_type": "stream",
     "text": [
      "+------+-----+\n",
      "|gender|count|\n",
      "+------+-----+\n",
      "|     F| 5228|\n",
      "|     M| 6956|\n",
      "+------+-----+\n",
      "\n"
     ]
    }
   ],
   "source": [
    "df1.filter(df1.F_T2D_Diag. isNotNull()).groupby([\"gender\"]).count().show()"
   ]
  },
  {
   "cell_type": "markdown",
   "metadata": {},
   "source": [
    "COUNTING FOR TYPE 1 DIABETES"
   ]
  },
  {
   "cell_type": "code",
   "execution_count": 12,
   "metadata": {},
   "outputs": [
    {
     "data": {
      "text/plain": [
       "441"
      ]
     },
     "execution_count": 12,
     "metadata": {},
     "output_type": "execute_result"
    }
   ],
   "source": [
    "df1.filter(df1.F_T1D_Diag. isNotNull()).count()"
   ]
  },
  {
   "cell_type": "code",
   "execution_count": 13,
   "metadata": {},
   "outputs": [
    {
     "name": "stdout",
     "output_type": "stream",
     "text": [
      "+------+-----+\n",
      "|gender|count|\n",
      "+------+-----+\n",
      "|     F|  190|\n",
      "|     M|  251|\n",
      "+------+-----+\n",
      "\n"
     ]
    }
   ],
   "source": [
    "df1.filter(df1.F_T1D_Diag. isNotNull()).groupby([\"gender\"]).count().show()"
   ]
  },
  {
   "cell_type": "markdown",
   "metadata": {},
   "source": [
    "COUNTING FOR ALZHEIMER'S DISEASE\n",
    "\n"
   ]
  },
  {
   "cell_type": "code",
   "execution_count": 14,
   "metadata": {},
   "outputs": [
    {
     "data": {
      "text/plain": [
       "600"
      ]
     },
     "execution_count": 14,
     "metadata": {},
     "output_type": "execute_result"
    }
   ],
   "source": [
    "df1.filter(df1.F_ALZ_Diag. isNotNull()).count()"
   ]
  },
  {
   "cell_type": "code",
   "execution_count": 15,
   "metadata": {},
   "outputs": [
    {
     "name": "stdout",
     "output_type": "stream",
     "text": [
      "+------+-----+\n",
      "|gender|count|\n",
      "+------+-----+\n",
      "|     F|  348|\n",
      "|     M|  252|\n",
      "+------+-----+\n",
      "\n"
     ]
    }
   ],
   "source": [
    "df1.filter(df1.F_ALZ_Diag. isNotNull()).groupby([\"gender\"]).count().show()"
   ]
  },
  {
   "cell_type": "code",
   "execution_count": 31,
   "metadata": {},
   "outputs": [
    {
     "data": {
      "text/plain": [
       "Row(age=0, gender='M', birth_date=datetime.datetime(2138, 7, 17, 0, 0), F_T2D_Diag=None, F_T1D_Diag=None, F_LD_Diag=None, F_KD_Diag=None, F_CVD_Diag=None, F_ALZ_Diag=None, Age_T2D_Diag=None)"
      ]
     },
     "execution_count": 31,
     "metadata": {},
     "output_type": "execute_result"
    }
   ],
   "source": [
    "#Age of Type 2 Diabetes (T2D)diagnosed:\n",
    "from pyspark.sql.functions import rank, col, unix_timestamp, from_unixtime, to_timestamp\n",
    "from pyspark.sql import functions as F\n",
    "timeFmt = \"yyyy-MM-dd\"\n",
    "age_of_T2D_diag =F.round((F.col(\"F_T2D_Diag\").cast(\"long\") - F.col(\"birth_date\").cast(\"long\"))/(365*60*60*24), 3)\n",
    "df1=df1.withColumn(\"Age_T2D_Diag\", age_of_T2D_diag)\n",
    "df1.head()\n"
   ]
  },
  {
   "cell_type": "code",
   "execution_count": 32,
   "metadata": {},
   "outputs": [
    {
     "data": {
      "text/plain": [
       "Row(age=0, gender='M', birth_date=datetime.datetime(2138, 7, 17, 0, 0), F_T2D_Diag=None, F_T1D_Diag=None, F_LD_Diag=None, F_KD_Diag=None, F_CVD_Diag=None, F_ALZ_Diag=None, Age_T2D_Diag=None, Age_T1D_Diag=None)"
      ]
     },
     "execution_count": 32,
     "metadata": {},
     "output_type": "execute_result"
    }
   ],
   "source": [
    "#Age of TYpe one diabetes F_T1D_Diag diagnosed:\n",
    "age_of_T1D_diag=F.round((F.col(\"F_T1D_Diag\").cast(\"long\") - F.col(\"birth_date\").cast(\"long\"))/(365*60*60*24), 3)\n",
    "df1 = df1.withColumn(\"Age_T1D_Diag\", age_of_T1D_diag)\n",
    "df1.head()"
   ]
  },
  {
   "cell_type": "code",
   "execution_count": 33,
   "metadata": {},
   "outputs": [
    {
     "data": {
      "text/plain": [
       "Row(age=0, gender='M', birth_date=datetime.datetime(2138, 7, 17, 0, 0), F_T2D_Diag=None, F_T1D_Diag=None, F_LD_Diag=None, F_KD_Diag=None, F_CVD_Diag=None, F_ALZ_Diag=None, Age_T2D_Diag=None, Age_T1D_Diag=None, Age_F_LD_Diag=None)"
      ]
     },
     "execution_count": 33,
     "metadata": {},
     "output_type": "execute_result"
    }
   ],
   "source": [
    "#Age of F_LD_Diag diagnosed:\n",
    "age_of_LD_diag=F.round((F.col(\"F_LD_Diag\").cast(\"long\") - F.col(\"birth_date\").cast(\"long\"))/(365*60*60*24), 3)\n",
    "df1 = df1.withColumn(\"Age_F_LD_Diag\", age_of_LD_diag)\n",
    "df1.head()"
   ]
  },
  {
   "cell_type": "code",
   "execution_count": 34,
   "metadata": {},
   "outputs": [
    {
     "data": {
      "text/plain": [
       "Row(age=0, gender='M', birth_date=datetime.datetime(2138, 7, 17, 0, 0), F_T2D_Diag=None, F_T1D_Diag=None, F_LD_Diag=None, F_KD_Diag=None, F_CVD_Diag=None, F_ALZ_Diag=None, Age_T2D_Diag=None, Age_T1D_Diag=None, Age_F_LD_Diag=None, Age_F_KD_Diag=None)"
      ]
     },
     "execution_count": 34,
     "metadata": {},
     "output_type": "execute_result"
    }
   ],
   "source": [
    "#Age of F_KD_Diag diagnosed:\n",
    "age_of_KD_diag = F.round((F.col(\"F_KD_Diag\").cast(\"long\") - F.col(\"birth_date\").cast(\"long\"))/(365*60*60*24), 3)\n",
    "df1 = df1.withColumn(\"Age_F_KD_Diag\", age_of_KD_diag)\n",
    "df1.head()"
   ]
  },
  {
   "cell_type": "code",
   "execution_count": 35,
   "metadata": {},
   "outputs": [
    {
     "data": {
      "text/plain": [
       "Row(age=0, gender='M', birth_date=datetime.datetime(2138, 7, 17, 0, 0), F_T2D_Diag=None, F_T1D_Diag=None, F_LD_Diag=None, F_KD_Diag=None, F_CVD_Diag=None, F_ALZ_Diag=None, Age_T2D_Diag=None, Age_T1D_Diag=None, Age_F_LD_Diag=None, Age_F_KD_Diag=None, Age_F_CVD_Diag=None)"
      ]
     },
     "execution_count": 35,
     "metadata": {},
     "output_type": "execute_result"
    }
   ],
   "source": [
    "#Age of F_CVD_Diag diagnosed:\n",
    "age_of_CVD_diag = F.round((F.col(\"F_CVD_Diag\").cast(\"long\") - F.col(\"birth_date\").cast(\"long\"))/(365*60*60*24), 3)\n",
    "df1 = df1.withColumn(\"Age_F_CVD_Diag\", age_of_CVD_diag)\n",
    "df1.head()"
   ]
  },
  {
   "cell_type": "code",
   "execution_count": 36,
   "metadata": {},
   "outputs": [
    {
     "data": {
      "text/plain": [
       "Row(age=0, gender='M', birth_date=datetime.datetime(2138, 7, 17, 0, 0), F_T2D_Diag=None, F_T1D_Diag=None, F_LD_Diag=None, F_KD_Diag=None, F_CVD_Diag=None, F_ALZ_Diag=None, Age_T2D_Diag=None, Age_T1D_Diag=None, Age_F_LD_Diag=None, Age_F_KD_Diag=None, Age_F_CVD_Diag=None, Age_F_AD_Diag=None)"
      ]
     },
     "execution_count": 36,
     "metadata": {},
     "output_type": "execute_result"
    }
   ],
   "source": [
    "#Age of F_ALZ_Diag diagnosed:\n",
    "age_of_AD_diag = F.round((F.col(\"F_ALZ_Diag\").cast(\"long\") - F.col(\"birth_date\").cast(\"long\"))/(365*60*60*24), 3)\n",
    "df1 = df1.withColumn(\"Age_F_AD_Diag\", age_of_AD_diag)\n",
    "df1.head()\n"
   ]
  },
  {
   "cell_type": "code",
   "execution_count": 37,
   "metadata": {},
   "outputs": [
    {
     "name": "stdout",
     "output_type": "stream",
     "text": [
      "+---+------+-------------------+----------+----------+---------+---------+----------+----------+------------+------------+-------------+-------------+--------------+-------------+\n",
      "|age|gender|         birth_date|F_T2D_Diag|F_T1D_Diag|F_LD_Diag|F_KD_Diag|F_CVD_Diag|F_ALZ_Diag|Age_T2D_Diag|Age_T1D_Diag|Age_F_LD_Diag|Age_F_KD_Diag|Age_F_CVD_Diag|Age_F_AD_Diag|\n",
      "+---+------+-------------------+----------+----------+---------+---------+----------+----------+------------+------------+-------------+-------------+--------------+-------------+\n",
      "|  0|     M|2138-07-17 00:00:00|      null|      null|     null|     null|      null|      null|        null|        null|         null|         null|          null|         null|\n",
      "+---+------+-------------------+----------+----------+---------+---------+----------+----------+------------+------------+-------------+-------------+--------------+-------------+\n",
      "only showing top 1 row\n",
      "\n"
     ]
    }
   ],
   "source": [
    "df1.show(1)"
   ]
  },
  {
   "cell_type": "code",
   "execution_count": 39,
   "metadata": {},
   "outputs": [
    {
     "data": {
      "text/plain": [
       "DataFrame[age: int, gender: string, Age_T2D_Diag: double, Age_T1D_Diag: double, Age_F_AD_Diag: double, Age_F_CVD_Diag: double, Age_F_KD_Diag: double, Age_F_LD_Diag: double]"
      ]
     },
     "execution_count": 39,
     "metadata": {},
     "output_type": "execute_result"
    }
   ],
   "source": [
    "df1.select('age','gender','Age_T2D_Diag','Age_T1D_Diag','Age_F_AD_Diag','Age_F_CVD_Diag','Age_F_KD_Diag','Age_F_LD_Diag')"
   ]
  },
  {
   "cell_type": "code",
   "execution_count": 13,
   "metadata": {},
   "outputs": [],
   "source": [
    "#new Data Frame with selected columns\n",
    "df2=df1.select('age','gender','Age_T2D_Diag','Age_T1D_Diag','Age_F_AD_Diag','Age_F_CVD_Diag','Age_F_KD_Diag','Age_F_LD_Diag')"
   ]
  },
  {
   "cell_type": "code",
   "execution_count": 40,
   "metadata": {},
   "outputs": [
    {
     "name": "stdout",
     "output_type": "stream",
     "text": [
      "+---+------+------------+------------+-------------+--------------+-------------+-------------+\n",
      "|age|gender|Age_T2D_Diag|Age_T1D_Diag|Age_F_AD_Diag|Age_F_CVD_Diag|Age_F_KD_Diag|Age_F_LD_Diag|\n",
      "+---+------+------------+------------+-------------+--------------+-------------+-------------+\n",
      "|  0|     M|        null|        null|         null|          null|         null|         null|\n",
      "| 76|     M|        null|        null|         null|        76.578|         null|         null|\n",
      "| 47|     F|        null|        null|         null|          null|         null|         null|\n",
      "|  0|     M|        null|        null|         null|          null|         null|         null|\n",
      "| 65|     F|        null|        null|         null|        65.984|       65.984|         null|\n",
      "|  0|     F|        null|        null|         null|          null|         null|         null|\n",
      "|  0|     M|        null|        null|         null|          null|         null|         null|\n",
      "| 41|     M|        null|        null|         null|        41.818|         null|         null|\n",
      "|  0|     F|        null|        null|         null|          null|         null|         null|\n",
      "| 50|     F|        null|        null|         null|          null|         null|         null|\n",
      "| 72|     M|        null|        null|         null|          null|         null|         null|\n",
      "| 39|     F|      39.893|        null|         null|          null|         null|         null|\n",
      "|  0|     M|        null|        null|         null|          null|         null|         null|\n",
      "| 47|     F|        null|        null|         null|          null|         null|         null|\n",
      "| 50|     M|      50.875|        null|         null|          null|         null|         null|\n",
      "|300|     M|        null|        null|         null|          null|         null|         null|\n",
      "| 75|     F|      75.927|        null|         null|          null|         null|         null|\n",
      "| 87|     M|      87.497|        null|         null|        87.497|       87.497|         null|\n",
      "| 64|     F|        null|        null|         null|          null|         null|         null|\n",
      "| 75|     M|        null|        null|         null|          null|         null|         null|\n",
      "+---+------+------------+------------+-------------+--------------+-------------+-------------+\n",
      "only showing top 20 rows\n",
      "\n"
     ]
    }
   ],
   "source": [
    "df2.show()"
   ]
  },
  {
   "cell_type": "code",
   "execution_count": 43,
   "metadata": {},
   "outputs": [
    {
     "name": "stdout",
     "output_type": "stream",
     "text": [
      "+------+------------+------------+-------------+\n",
      "|gender|Age_T2D_Diag|Age_T1D_Diag|Age_F_AD_Diag|\n",
      "+------+------------+------------+-------------+\n",
      "|     M|        null|        null|         null|\n",
      "|     M|        null|        null|         null|\n",
      "|     F|        null|        null|         null|\n",
      "|     M|        null|        null|         null|\n",
      "|     F|        null|        null|         null|\n",
      "|     F|        null|        null|         null|\n",
      "|     M|        null|        null|         null|\n",
      "|     M|        null|        null|         null|\n",
      "|     F|        null|        null|         null|\n",
      "|     F|        null|        null|         null|\n",
      "|     M|        null|        null|         null|\n",
      "|     F|      39.893|        null|         null|\n",
      "|     M|        null|        null|         null|\n",
      "|     F|        null|        null|         null|\n",
      "|     M|      50.875|        null|         null|\n",
      "|     M|        null|        null|         null|\n",
      "|     F|      75.927|        null|         null|\n",
      "|     M|      87.497|        null|         null|\n",
      "|     F|        null|        null|         null|\n",
      "|     M|        null|        null|         null|\n",
      "+------+------------+------------+-------------+\n",
      "only showing top 20 rows\n",
      "\n"
     ]
    }
   ],
   "source": [
    "#selected columns\n",
    "new_data=df2[['gender','Age_T2D_Diag','Age_T1D_Diag','Age_F_AD_Diag']]\n",
    "#new_data_df=new_data.na.drop()\n",
    "#new_data_df.show()\n",
    "new_data.show()"
   ]
  },
  {
   "cell_type": "code",
   "execution_count": 44,
   "metadata": {},
   "outputs": [],
   "source": [
    "new_pd=new_data.toPandas()"
   ]
  },
  {
   "cell_type": "code",
   "execution_count": 45,
   "metadata": {},
   "outputs": [
    {
     "data": {
      "text/html": [
       "<div>\n",
       "<style scoped>\n",
       "    .dataframe tbody tr th:only-of-type {\n",
       "        vertical-align: middle;\n",
       "    }\n",
       "\n",
       "    .dataframe tbody tr th {\n",
       "        vertical-align: top;\n",
       "    }\n",
       "\n",
       "    .dataframe thead th {\n",
       "        text-align: right;\n",
       "    }\n",
       "</style>\n",
       "<table border=\"1\" class=\"dataframe\">\n",
       "  <thead>\n",
       "    <tr style=\"text-align: right;\">\n",
       "      <th></th>\n",
       "      <th>gender</th>\n",
       "      <th>Age_T2D_Diag</th>\n",
       "      <th>Age_T1D_Diag</th>\n",
       "      <th>Age_F_AD_Diag</th>\n",
       "    </tr>\n",
       "  </thead>\n",
       "  <tbody>\n",
       "    <tr>\n",
       "      <th>0</th>\n",
       "      <td>M</td>\n",
       "      <td>NaN</td>\n",
       "      <td>NaN</td>\n",
       "      <td>NaN</td>\n",
       "    </tr>\n",
       "    <tr>\n",
       "      <th>1</th>\n",
       "      <td>M</td>\n",
       "      <td>NaN</td>\n",
       "      <td>NaN</td>\n",
       "      <td>NaN</td>\n",
       "    </tr>\n",
       "    <tr>\n",
       "      <th>2</th>\n",
       "      <td>F</td>\n",
       "      <td>NaN</td>\n",
       "      <td>NaN</td>\n",
       "      <td>NaN</td>\n",
       "    </tr>\n",
       "    <tr>\n",
       "      <th>3</th>\n",
       "      <td>M</td>\n",
       "      <td>NaN</td>\n",
       "      <td>NaN</td>\n",
       "      <td>NaN</td>\n",
       "    </tr>\n",
       "    <tr>\n",
       "      <th>4</th>\n",
       "      <td>F</td>\n",
       "      <td>NaN</td>\n",
       "      <td>NaN</td>\n",
       "      <td>NaN</td>\n",
       "    </tr>\n",
       "    <tr>\n",
       "      <th>...</th>\n",
       "      <td>...</td>\n",
       "      <td>...</td>\n",
       "      <td>...</td>\n",
       "      <td>...</td>\n",
       "    </tr>\n",
       "    <tr>\n",
       "      <th>52638</th>\n",
       "      <td>M</td>\n",
       "      <td>NaN</td>\n",
       "      <td>NaN</td>\n",
       "      <td>NaN</td>\n",
       "    </tr>\n",
       "    <tr>\n",
       "      <th>52639</th>\n",
       "      <td>M</td>\n",
       "      <td>47.749</td>\n",
       "      <td>NaN</td>\n",
       "      <td>NaN</td>\n",
       "    </tr>\n",
       "    <tr>\n",
       "      <th>52640</th>\n",
       "      <td>F</td>\n",
       "      <td>NaN</td>\n",
       "      <td>NaN</td>\n",
       "      <td>NaN</td>\n",
       "    </tr>\n",
       "    <tr>\n",
       "      <th>52641</th>\n",
       "      <td>F</td>\n",
       "      <td>88.757</td>\n",
       "      <td>NaN</td>\n",
       "      <td>NaN</td>\n",
       "    </tr>\n",
       "    <tr>\n",
       "      <th>52642</th>\n",
       "      <td>F</td>\n",
       "      <td>64.023</td>\n",
       "      <td>NaN</td>\n",
       "      <td>NaN</td>\n",
       "    </tr>\n",
       "  </tbody>\n",
       "</table>\n",
       "<p>52643 rows × 4 columns</p>\n",
       "</div>"
      ],
      "text/plain": [
       "      gender  Age_T2D_Diag  Age_T1D_Diag  Age_F_AD_Diag\n",
       "0          M           NaN           NaN            NaN\n",
       "1          M           NaN           NaN            NaN\n",
       "2          F           NaN           NaN            NaN\n",
       "3          M           NaN           NaN            NaN\n",
       "4          F           NaN           NaN            NaN\n",
       "...      ...           ...           ...            ...\n",
       "52638      M           NaN           NaN            NaN\n",
       "52639      M        47.749           NaN            NaN\n",
       "52640      F           NaN           NaN            NaN\n",
       "52641      F        88.757           NaN            NaN\n",
       "52642      F        64.023           NaN            NaN\n",
       "\n",
       "[52643 rows x 4 columns]"
      ]
     },
     "execution_count": 45,
     "metadata": {},
     "output_type": "execute_result"
    }
   ],
   "source": [
    "new_pd"
   ]
  },
  {
   "cell_type": "code",
   "execution_count": 62,
   "metadata": {},
   "outputs": [
    {
     "data": {
      "image/png": "[encoded data removed]",
      "text/plain": [
       "<Figure size 720x720 with 1 Axes>"
      ]
     },
     "metadata": {
      "needs_background": "light"
     },
     "output_type": "display_data"
    }
   ],
   "source": [
    "import numpy as np       \n",
    "from matplotlib import pylab\n",
    "import matplotlib.pyplot as plt   \n",
    "fig, ax=plt.subplots(figsize=(10,10))\n",
    "ax.plot(new_pd.index,new_pd['Age_T2D_Diag'],marker='v',linestyle='None',color='g',label='Age of type 2 diabetes diagnosed')\n",
    "ax.plot(new_pd.index,new_pd['Age_T1D_Diag'],marker='v',linestyle='None',color='b',label='Age of type 1 diabetes diagnosed')\n",
    "ax.plot(new_pd.index,new_pd['Age_F_AD_Diag'],marker='v',linestyle='None',color='r',label='Age of first time alzheimer diagnosed')\n",
    "\n",
    "plt.legend(loc=\"center\")\n",
    "ax.set_xlabel(\"Number of People\")\n",
    "ax.set_ylabel(\"Age\")\n",
    "\n",
    "plt.show()"
   ]
  },
  {
   "cell_type": "code",
   "execution_count": 47,
   "metadata": {},
   "outputs": [],
   "source": [
    "import numpy as np\n",
    "import pandas as pd\n",
    "import matplotlib.pyplot as plt\n",
    "import seaborn as sns"
   ]
  },
  {
   "cell_type": "code",
   "execution_count": 48,
   "metadata": {},
   "outputs": [
    {
     "data": {
      "image/png": "[encoded data removed]",
      "text/plain": [
       "<Figure size 432x288 with 1 Axes>"
      ]
     },
     "metadata": {
      "needs_background": "light"
     },
     "output_type": "display_data"
    }
   ],
   "source": [
    "new_pd.groupby('gender').mean().plot(kind='bar').legend(bbox_to_anchor=(1.0, 1.0))\n",
    "\n",
    "plt.show()"
   ]
  },
  {
   "cell_type": "code",
   "execution_count": 61,
   "metadata": {},
   "outputs": [
    {
     "data": {
      "text/plain": [
       "gender            object\n",
       "Age_T2D_Diag     float64\n",
       "Age_T1D_Diag     float64\n",
       "Age_F_AD_Diag    float64\n",
       "dtype: object"
      ]
     },
     "execution_count": 61,
     "metadata": {},
     "output_type": "execute_result"
    }
   ],
   "source": [
    "new_pd.shape\n",
    "new_pd.dtypes"
   ]
  },
  {
   "cell_type": "code",
   "execution_count": 49,
   "metadata": {},
   "outputs": [
    {
     "data": {
      "text/plain": [
       "array([[<matplotlib.axes._subplots.AxesSubplot object at 0x000001F183183A30>]],\n",
       "      dtype=object)"
      ]
     },
     "execution_count": 49,
     "metadata": {},
     "output_type": "execute_result"
    },
    {
     "data": {
      "image/png": "[encoded data removed]",
      "text/plain": [
       "<Figure size 864x576 with 1 Axes>"
      ]
     },
     "metadata": {
      "needs_background": "light"
     },
     "output_type": "display_data"
    }
   ],
   "source": [
    "new_pd.hist(column='Age_T2D_Diag', bins=25, grid=False, figsize=(12,8), color='#86bf91', zorder=2, rwidth=0.9)\n"
   ]
  },
  {
   "cell_type": "code",
   "execution_count": 50,
   "metadata": {},
   "outputs": [
    {
     "data": {
      "text/plain": [
       "array([[<matplotlib.axes._subplots.AxesSubplot object at 0x000001F185694C40>]],\n",
       "      dtype=object)"
      ]
     },
     "execution_count": 50,
     "metadata": {},
     "output_type": "execute_result"
    },
    {
     "data": {
      "image/png": "[encoded data removed]",
      "text/plain": [
       "<Figure size 864x576 with 1 Axes>"
      ]
     },
     "metadata": {
      "needs_background": "light"
     },
     "output_type": "display_data"
    }
   ],
   "source": [
    "new_pd.hist(column='Age_T1D_Diag', bins=25, grid=False, figsize=(12,8), color='#86bf91', zorder=2, rwidth=0.9)\n"
   ]
  },
  {
   "cell_type": "code",
   "execution_count": 51,
   "metadata": {},
   "outputs": [
    {
     "name": "stdout",
     "output_type": "stream",
     "text": [
      "  gender  Age_T2D_Diag  Age_T1D_Diag  Age_F_AD_Diag\n",
      "0      M           NaN           NaN            NaN\n",
      "1      M           NaN           NaN            NaN\n",
      "2      F           NaN           NaN            NaN\n"
     ]
    }
   ],
   "source": [
    "print(new_pd.head(3))"
   ]
  },
  {
   "cell_type": "code",
   "execution_count": 52,
   "metadata": {
    "scrolled": true
   },
   "outputs": [
    {
     "name": "stdout",
     "output_type": "stream",
     "text": [
      "+------+------------+\n",
      "|gender|Age_T2D_Diag|\n",
      "+------+------------+\n",
      "|     F|      39.893|\n",
      "|     M|      50.875|\n",
      "|     F|      75.927|\n",
      "|     M|      87.497|\n",
      "|     M|      39.043|\n",
      "|     M|      74.434|\n",
      "|     F|      69.489|\n",
      "|     M|      68.975|\n",
      "|     F|      64.205|\n",
      "|     F|      87.153|\n",
      "|     F|      76.823|\n",
      "|     F|      65.585|\n",
      "|     F|      49.309|\n",
      "|     M|        56.2|\n",
      "|     M|      61.446|\n",
      "|     M|      50.974|\n",
      "|     M|      50.974|\n",
      "|     M|      74.752|\n",
      "|     M|      80.505|\n",
      "|     F|      68.075|\n",
      "+------+------------+\n",
      "only showing top 20 rows\n",
      "\n"
     ]
    }
   ],
   "source": [
    "# Age of Type 2 diabestes vs gender by removing null values\n",
    "T2D_df=df2[['gender', 'Age_T2D_Diag']] \n",
    "T2D_df_new=T2D_df.na.drop()\n",
    "T2D_df_new.show()\n"
   ]
  },
  {
   "cell_type": "code",
   "execution_count": 53,
   "metadata": {},
   "outputs": [
    {
     "data": {
      "text/plain": [
       "12184"
      ]
     },
     "execution_count": 53,
     "metadata": {},
     "output_type": "execute_result"
    }
   ],
   "source": [
    "#total number diagonosed type 2 diabetes\n",
    "T2D_df_new.count()"
   ]
  },
  {
   "cell_type": "code",
   "execution_count": 54,
   "metadata": {},
   "outputs": [
    {
     "name": "stdout",
     "output_type": "stream",
     "text": [
      "+------+-----+\n",
      "|gender|count|\n",
      "+------+-----+\n",
      "|     F| 5228|\n",
      "|     M| 6956|\n",
      "+------+-----+\n",
      "\n"
     ]
    }
   ],
   "source": [
    "#counting by male and female\n",
    "T2D_df_new.groupby([\"gender\"]).count().show()"
   ]
  },
  {
   "cell_type": "code",
   "execution_count": 55,
   "metadata": {},
   "outputs": [
    {
     "name": "stdout",
     "output_type": "stream",
     "text": [
      "+------+------------+\n",
      "|gender|Age_T1D_Diag|\n",
      "+------+------------+\n",
      "|     M|       64.48|\n",
      "|     F|      45.717|\n",
      "|     M|      59.999|\n",
      "|     M|      62.233|\n",
      "|     M|      62.233|\n",
      "|     M|      62.233|\n",
      "|     M|      62.233|\n",
      "|     F|      58.205|\n",
      "|     F|      58.205|\n",
      "|     M|       46.55|\n",
      "|     M|       46.55|\n",
      "|     M|       46.55|\n",
      "|     M|       46.55|\n",
      "|     M|      56.764|\n",
      "|     M|      44.284|\n",
      "|     M|      38.292|\n",
      "|     M|      38.292|\n",
      "|     F|      59.631|\n",
      "|     M|      53.672|\n",
      "|     F|      73.338|\n",
      "+------+------------+\n",
      "only showing top 20 rows\n",
      "\n"
     ]
    }
   ],
   "source": [
    "#Age of Type 1 diabestes vs gender by removing null values\n",
    "T1D_df=df2[['gender', 'Age_T1D_Diag']]\n",
    "T1D_df_new=T1D_df.na.drop()\n",
    "T1D_df_new.show()\n"
   ]
  },
  {
   "cell_type": "code",
   "execution_count": 56,
   "metadata": {},
   "outputs": [
    {
     "data": {
      "text/plain": [
       "441"
      ]
     },
     "execution_count": 56,
     "metadata": {},
     "output_type": "execute_result"
    }
   ],
   "source": [
    "#total number diagonosed type 1 diabetes\n",
    "T1D_df_new.count()"
   ]
  },
  {
   "cell_type": "code",
   "execution_count": 57,
   "metadata": {},
   "outputs": [
    {
     "name": "stdout",
     "output_type": "stream",
     "text": [
      "+------+-----+\n",
      "|gender|count|\n",
      "+------+-----+\n",
      "|     F|  190|\n",
      "|     M|  251|\n",
      "+------+-----+\n",
      "\n"
     ]
    }
   ],
   "source": [
    "#counting by male and female\n",
    "T1D_df_new.groupby([\"gender\"]).count().show()"
   ]
  },
  {
   "cell_type": "code",
   "execution_count": 58,
   "metadata": {},
   "outputs": [
    {
     "name": "stdout",
     "output_type": "stream",
     "text": [
      "+------+-------------+\n",
      "|gender|Age_F_AD_Diag|\n",
      "+------+-------------+\n",
      "|     F|       66.714|\n",
      "|     F|       84.211|\n",
      "|     M|       71.498|\n",
      "|     F|       83.728|\n",
      "|     F|       80.553|\n",
      "|     M|      300.202|\n",
      "|     F|      300.201|\n",
      "|     F|      300.201|\n",
      "|     F|       87.353|\n",
      "|     M|       84.443|\n",
      "|     F|       78.246|\n",
      "|     M|       69.988|\n",
      "|     M|       69.988|\n",
      "|     M|       80.429|\n",
      "|     F|        300.2|\n",
      "|     F|       74.652|\n",
      "|     F|      300.203|\n",
      "|     F|       72.199|\n",
      "|     M|       68.299|\n",
      "|     M|       68.299|\n",
      "+------+-------------+\n",
      "only showing top 20 rows\n",
      "\n"
     ]
    }
   ],
   "source": [
    "#Age_F_AD_Diag vs gender by removing null values \n",
    "FAD_df=df2[['gender', 'Age_F_AD_Diag']] \n",
    "FAD_df_new=FAD_df.na.drop()\n",
    "FAD_df_new.show()"
   ]
  },
  {
   "cell_type": "code",
   "execution_count": 59,
   "metadata": {},
   "outputs": [
    {
     "data": {
      "text/plain": [
       "600"
      ]
     },
     "execution_count": 59,
     "metadata": {},
     "output_type": "execute_result"
    }
   ],
   "source": [
    "#total number Age_F_AD_Diag\n",
    "FAD_df_new.count()"
   ]
  },
  {
   "cell_type": "code",
   "execution_count": 60,
   "metadata": {},
   "outputs": [
    {
     "name": "stdout",
     "output_type": "stream",
     "text": [
      "+------+-----+\n",
      "|gender|count|\n",
      "+------+-----+\n",
      "|     F|  348|\n",
      "|     M|  252|\n",
      "+------+-----+\n",
      "\n"
     ]
    }
   ],
   "source": [
    "#counting by male and female\n",
    "FAD_df_new.groupby([\"gender\"]).count().show()"
   ]
  }
 ],
 "metadata": {
  "kernelspec": {
   "display_name": "Python 3",
   "language": "python",
   "name": "python3"
  },
  "language_info": {
   "codemirror_mode": {
    "name": "ipython",
    "version": 3
   },
   "file_extension": ".py",
   "mimetype": "text/x-python",
   "name": "python",
   "nbconvert_exporter": "python",
   "pygments_lexer": "ipython3",
   "version": "3.8.2"
  }
 },
 "nbformat": 4,
 "nbformat_minor": 4
}
