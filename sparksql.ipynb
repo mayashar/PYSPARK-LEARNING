{
 "cells": [
  {
   "cell_type": "code",
   "execution_count": 1,
   "metadata": {
    "colab": {
     "base_uri": "https://localhost:8080/",
     "height": 468
    },
    "colab_type": "code",
    "id": "2zfXmWaBCut9",
    "outputId": "468bf932-4a1d-4d59-b036-18f144e7e976",
    "scrolled": true
   },
   "outputs": [
    {
     "name": "stdout",
     "output_type": "stream",
     "text": [
      "+----------+--------+-------+---------+------+---------+--------+-------+-------+-----+\n",
      "|      date|    time|   size|r_version|r_arch|     r_os| package|version|country|ip_id|\n",
      "+----------+--------+-------+---------+------+---------+--------+-------+-------+-----+\n",
      "|2012-10-01|00:30:13|  35165|   2.15.1|  i686|linux-gnu|quadprog|  1.5-4|     AU|    1|\n",
      "|2012-10-01|00:30:15| 212967|   2.15.1|  i686|linux-gnu|  lavaan|  0.5-9|     AU|    1|\n",
      "|2012-10-01|02:30:16| 167199|   2.15.1|x86_64|linux-gnu| formatR|    0.6|     US|    2|\n",
      "|2012-10-01|02:30:16|  21164|   2.15.1|x86_64|linux-gnu| stringr|  0.6.1|     US|    2|\n",
      "|2012-10-01|02:30:13|  11046|   2.15.1|x86_64|linux-gnu|evaluate|  0.4.2|     US|    2|\n",
      "|2012-10-01|02:30:13|  42294|   2.15.1|x86_64|linux-gnu|  digest|  0.5.2|     US|    2|\n",
      "|2012-10-01|02:30:16| 435407|   2.15.1|x86_64|linux-gnu|   knitr|    0.8|     US|    2|\n",
      "|2012-10-01|02:26:05| 326143|   2.15.1|  i686|linux-gnu|    mice|   2.13|     AU|    1|\n",
      "|2012-10-01|02:21:09| 119459|   2.15.1|  i686|linux-gnu| mitools|    2.2|     AU|    1|\n",
      "|2012-10-01|02:38:08| 868695|   2.15.0|x86_64|linux-gnu|   RCurl| 1.95-0|     US|    3|\n",
      "|2012-10-01|02:38:00|   8954|   2.15.0|x86_64|linux-gnu|  bitops|1.0-4.1|     US|    3|\n",
      "|2012-10-01|02:30:13| 368192|   2.15.1|x86_64|linux-gnu|    plyr|  1.7.1|     US|    2|\n",
      "|2012-10-01|02:13:48|1061394|   2.15.1|  i686|linux-gnu|  Amelia|  1.6.3|     AU|    1|\n",
      "|2012-10-01|02:37:34| 868687|   2.15.0|x86_64|linux-gnu|   RCurl| 1.95-0|     US|    3|\n",
      "|2012-10-01|04:06:10|   1023|       NA|    NA|       NA|      NA|     NA|     US|    4|\n",
      "|2012-10-01|08:17:26|2094435|   2.15.1|x86_64|linux-gnu|  mosaic|  0.6-2|     US|    2|\n",
      "|2012-10-01|08:29:01| 868687|   2.15.1|x86_64|linux-gnu|   RCurl| 1.95-0|     US|    2|\n",
      "|2012-10-01|08:28:54|2094449|   2.15.1|x86_64|linux-gnu|  mosaic|  0.6-2|     US|    2|\n",
      "|2012-10-01|08:17:33|   8954|   2.15.1|x86_64|linux-gnu|  bitops|1.0-4.1|     US|    2|\n",
      "|2012-10-01|08:17:34| 868687|   2.15.1|x86_64|linux-gnu|   RCurl| 1.95-0|     US|    2|\n",
      "+----------+--------+-------+---------+------+---------+--------+-------+-------+-----+\n",
      "only showing top 20 rows\n",
      "\n"
     ]
    }
   ],
   "source": [
    "#read file in dataframe\n",
    "df_csv = spark.read.csv(\"/Users/mayam/Desktop/h516lab/2012-10-01.csv\", header = 'true')\n",
    "df_csv.show()"
   ]
  },
  {
   "cell_type": "code",
   "execution_count": 2,
   "metadata": {},
   "outputs": [
    {
     "data": {
      "text/plain": [
       "159"
      ]
     },
     "execution_count": 2,
     "metadata": {},
     "output_type": "execute_result"
    }
   ],
   "source": [
    "#total count entries in data frame\n",
    "df_csv.count()"
   ]
  },
  {
   "cell_type": "code",
   "execution_count": 74,
   "metadata": {},
   "outputs": [
    {
     "data": {
      "text/plain": [
       "['\"2012-10-01\",\"02:30:13\",368192,\"2.15.1\",\"x86_64\",\"linux-gnu\",\"plyr\",\"1.7.1\",\"US\",2',\n",
       " '\"2012-10-01\",\"12:43:46\",2094435,\"2.15.1\",\"x86_64\",\"linux-gnu\",\"mosaic\",\"0.6-2\",\"US\",2',\n",
       " '\"2012-10-01\",\"12:53:25\",868687,\"2.15.1\",\"x86_64\",\"linux-gnu\",\"RCurl\",\"1.95-0\",\"US\",2',\n",
       " '\"2012-10-01\",\"12:45:33\",2094444,\"2.15.1\",\"x86_64\",\"linux-gnu\",\"mosaic\",\"0.6-2\",\"US\",2',\n",
       " '\"2012-10-01\",\"12:43:54\",868687,\"2.15.1\",\"x86_64\",\"linux-gnu\",\"RCurl\",\"1.95-0\",\"US\",2',\n",
       " '\"2012-10-01\",\"13:17:45\",868701,\"2.15.1\",\"x86_64\",\"linux-gnu\",\"RCurl\",\"1.95-0\",\"US\",2',\n",
       " '\"2012-10-01\",\"14:32:43\",868696,\"2.15.1\",\"x86_64\",\"linux-gnu\",\"RCurl\",\"1.95-0\",\"US\",2',\n",
       " '\"2012-10-01\",\"14:44:34\",8968,\"2.15.1\",\"x86_64\",\"linux-gnu\",\"bitops\",\"1.0-4.1\",\"US\",2',\n",
       " '\"2012-10-01\",\"15:13:00\",2094449,\"2.15.1\",\"x86_64\",\"linux-gnu\",\"mosaic\",\"0.6-2\",\"US\",2',\n",
       " '\"2012-10-01\",\"16:13:15\",868696,\"2.15.1\",\"x86_64\",\"linux-gnu\",\"RCurl\",\"1.95-0\",\"US\",2']"
      ]
     },
     "execution_count": 74,
     "metadata": {},
     "output_type": "execute_result"
    }
   ],
   "source": [
    "#with reduceBy\n",
    "rdd = sc.textFile (\"/Users/mayam/Desktop/h516lab/2012-10-01.csv\")\n",
    "rdd_f = rdd.first()\n",
    "header = sc.parallelize([rdd_f])\n",
    "rdd1 = rdd.subtract (header)\n",
    "rdd1.take(10)"
   ]
  },
  {
   "cell_type": "code",
   "execution_count": 73,
   "metadata": {},
   "outputs": [
    {
     "data": {
      "text/plain": [
       "PythonRDD[150] at RDD at PythonRDD.scala:53"
      ]
     },
     "execution_count": 73,
     "metadata": {},
     "output_type": "execute_result"
    }
   ],
   "source": [
    "grouped = rdd1.groupByKey()\n",
    "grouped.map(lambda x:(x[6],))"
   ]
  },
  {
   "cell_type": "code",
   "execution_count": 3,
   "metadata": {
    "colab": {},
    "colab_type": "code",
    "id": "VFkWg3vqDDgC"
   },
   "outputs": [
    {
     "name": "stdout",
     "output_type": "stream",
     "text": [
      "+----------+--------+-------+---------+------+---------+--------+-------+-------+-----+\n",
      "|      date|    time|   size|r_version|r_arch|     r_os| package|version|country|ip_id|\n",
      "+----------+--------+-------+---------+------+---------+--------+-------+-------+-----+\n",
      "|2012-10-01|00:30:13|  35165|   2.15.1|  i686|linux-gnu|quadprog|  1.5-4|     AU|    1|\n",
      "|2012-10-01|00:30:15| 212967|   2.15.1|  i686|linux-gnu|  lavaan|  0.5-9|     AU|    1|\n",
      "|2012-10-01|02:30:16| 167199|   2.15.1|x86_64|linux-gnu| formatR|    0.6|     US|    2|\n",
      "|2012-10-01|02:30:16|  21164|   2.15.1|x86_64|linux-gnu| stringr|  0.6.1|     US|    2|\n",
      "|2012-10-01|02:30:13|  11046|   2.15.1|x86_64|linux-gnu|evaluate|  0.4.2|     US|    2|\n",
      "|2012-10-01|02:30:13|  42294|   2.15.1|x86_64|linux-gnu|  digest|  0.5.2|     US|    2|\n",
      "|2012-10-01|02:30:16| 435407|   2.15.1|x86_64|linux-gnu|   knitr|    0.8|     US|    2|\n",
      "|2012-10-01|02:26:05| 326143|   2.15.1|  i686|linux-gnu|    mice|   2.13|     AU|    1|\n",
      "|2012-10-01|02:21:09| 119459|   2.15.1|  i686|linux-gnu| mitools|    2.2|     AU|    1|\n",
      "|2012-10-01|02:38:08| 868695|   2.15.0|x86_64|linux-gnu|   RCurl| 1.95-0|     US|    3|\n",
      "|2012-10-01|02:38:00|   8954|   2.15.0|x86_64|linux-gnu|  bitops|1.0-4.1|     US|    3|\n",
      "|2012-10-01|02:30:13| 368192|   2.15.1|x86_64|linux-gnu|    plyr|  1.7.1|     US|    2|\n",
      "|2012-10-01|02:13:48|1061394|   2.15.1|  i686|linux-gnu|  Amelia|  1.6.3|     AU|    1|\n",
      "|2012-10-01|02:37:34| 868687|   2.15.0|x86_64|linux-gnu|   RCurl| 1.95-0|     US|    3|\n",
      "|2012-10-01|04:06:10|   1023|       NA|    NA|       NA|      NA|     NA|     US|    4|\n",
      "|2012-10-01|08:17:26|2094435|   2.15.1|x86_64|linux-gnu|  mosaic|  0.6-2|     US|    2|\n",
      "|2012-10-01|08:29:01| 868687|   2.15.1|x86_64|linux-gnu|   RCurl| 1.95-0|     US|    2|\n",
      "|2012-10-01|08:28:54|2094449|   2.15.1|x86_64|linux-gnu|  mosaic|  0.6-2|     US|    2|\n",
      "|2012-10-01|08:17:33|   8954|   2.15.1|x86_64|linux-gnu|  bitops|1.0-4.1|     US|    2|\n",
      "|2012-10-01|08:17:34| 868687|   2.15.1|x86_64|linux-gnu|   RCurl| 1.95-0|     US|    2|\n",
      "+----------+--------+-------+---------+------+---------+--------+-------+-------+-----+\n",
      "only showing top 20 rows\n",
      "\n"
     ]
    }
   ],
   "source": [
    "#Reading data as SQL table\n",
    "df_csv.createOrReplaceTempView(\"SQL_table\")\n",
    "df_csv.show()"
   ]
  },
  {
   "cell_type": "code",
   "execution_count": 75,
   "metadata": {
    "colab": {
     "base_uri": "https://localhost:8080/",
     "height": 121
    },
    "colab_type": "code",
    "id": "dDbw8FJiF8B6",
    "outputId": "a8a735ab-f0a7-461f-b28c-65abcf419b45"
   },
   "outputs": [
    {
     "name": "stdout",
     "output_type": "stream",
     "text": [
      "+--------+\n",
      "|count(1)|\n",
      "+--------+\n",
      "|     159|\n",
      "+--------+\n",
      "\n"
     ]
    }
   ],
   "source": [
    "#1.Count the number of entries\n",
    "df_sql1 = spark.sql(\"SELECT count(*) FROM SQL_table\")\n",
    "df_sql1.show()"
   ]
  },
  {
   "cell_type": "code",
   "execution_count": 112,
   "metadata": {
    "colab": {
     "base_uri": "https://localhost:8080/",
     "height": 35
    },
    "colab_type": "code",
    "id": "USuRW75IHIh1",
    "outputId": "999045d4-b8ed-41ce-9db0-abdb688ee3d0"
   },
   "outputs": [
    {
     "data": {
      "text/plain": [
       "Row(count(1)=62, package='mosaic')"
      ]
     },
     "execution_count": 112,
     "metadata": {},
     "output_type": "execute_result"
    }
   ],
   "source": [
    "#4-2.Most popular package  without using “reduceByKey”\n",
    "df_sql2 = spark.sql(\"SELECT count(*),package FROM SQL_table GROUP BY package order by count(*) desc\")\n",
    "df_sql2.first()"
   ]
  },
  {
   "cell_type": "code",
   "execution_count": 91,
   "metadata": {
    "colab": {
     "base_uri": "https://localhost:8080/",
     "height": 35
    },
    "colab_type": "code",
    "id": "Yi-A7f92Iy03",
    "outputId": "505bef77-9ca6-42ec-ba90-be3910cb6127"
   },
   "outputs": [
    {
     "data": {
      "text/plain": [
       "Row(count(1)=152, country='US')"
      ]
     },
     "execution_count": 91,
     "metadata": {},
     "output_type": "execute_result"
    }
   ],
   "source": [
    "#4-3.Which country is using R the most without using “reduceByKey”\n",
    "df_sql3 = spark.sql(\"SELECT count(*),country FROM SQL_table where r_version <> 'NA' GROUP BY country order by count(*) desc\")\n",
    "df_sql3.first()"
   ]
  },
  {
   "cell_type": "code",
   "execution_count": 129,
   "metadata": {
    "colab": {
     "base_uri": "https://localhost:8080/",
     "height": 104
    },
    "colab_type": "code",
    "id": "iWftmXs6KkWd",
    "outputId": "5fa5032c-c9e6-4d8b-f4c0-b0f66218c9cf"
   },
   "outputs": [
    {
     "name": "stdout",
     "output_type": "stream",
     "text": [
      "+--------+-------+\n",
      "|count(1)|package|\n",
      "+--------+-------+\n",
      "+--------+-------+\n",
      "\n"
     ]
    }
   ],
   "source": [
    "#5.What is the most popular package from Germany (DE)\n",
    "df_sql4 = spark.sql(\"SELECT count(*),package FROM SQL_table where country = 'DE' GROUP BY package order by count(*) desc\")\n",
    "df_sql4.show()"
   ]
  },
  {
   "cell_type": "code",
   "execution_count": 82,
   "metadata": {
    "colab": {
     "base_uri": "https://localhost:8080/",
     "height": 104
    },
    "colab_type": "code",
    "id": "KUh5e8ReLK6Z",
    "outputId": "a2b841c0-0e46-4652-e0af-fcb5b878ab11"
   },
   "outputs": [
    {
     "name": "stdout",
     "output_type": "stream",
     "text": [
      "+-------+---------------------+\n",
      "|country|total_size_downloaded|\n",
      "+-------+---------------------+\n",
      "+-------+---------------------+\n",
      "\n"
     ]
    }
   ],
   "source": [
    "#6.What is the total size downloaded  in Canada (CA)\n",
    "df_sql5 = spark.sql(\"SELECT country, sum(size) as  total_size_downloaded FROM SQL_table where country = 'CA' GROUP BY country order by count(*) desc\")\n",
    "df_sql5.show()"
   ]
  },
  {
   "cell_type": "code",
   "execution_count": 80,
   "metadata": {
    "colab": {
     "base_uri": "https://localhost:8080/",
     "height": 121
    },
    "colab_type": "code",
    "id": "Ge6eWaqgN2Ue",
    "outputId": "19869455-234f-4b50-ee3d-a12cce8f1b7d"
   },
   "outputs": [
    {
     "name": "stdout",
     "output_type": "stream",
     "text": [
      "+---------+\n",
      "|r_version|\n",
      "+---------+\n",
      "|   2.15.1|\n",
      "+---------+\n",
      "\n"
     ]
    }
   ],
   "source": [
    "#7.Which version was downloaded most between 12 noon and 1pm\n",
    "df_sql6 = spark.sql(\"SELECT distinct r_version FROM SQL_table where time between '00:00:00' and '01:00:00'\")\n",
    "df_sql6.show()"
   ]
  },
  {
   "cell_type": "code",
   "execution_count": 58,
   "metadata": {
    "colab": {
     "base_uri": "https://localhost:8080/",
     "height": 173
    },
    "colab_type": "code",
    "id": "DQQc_EdRPiWz",
    "outputId": "aea812f5-ad29-42d0-986c-cb3c88192e71"
   },
   "outputs": [
    {
     "name": "stdout",
     "output_type": "stream",
     "text": [
      "+-----------+\n",
      "|       r_os|\n",
      "+-----------+\n",
      "|         NA|\n",
      "|    mingw32|\n",
      "|  linux-gnu|\n",
      "|darwin9.8.0|\n",
      "+-----------+\n",
      "\n"
     ]
    }
   ],
   "source": [
    "#different OS are used\n",
    "df_sql7 = spark.sql(\"SELECT distinct r_os FROM SQL_table \")\n",
    "df_sql7.show()"
   ]
  },
  {
   "cell_type": "code",
   "execution_count": 81,
   "metadata": {
    "colab": {
     "base_uri": "https://localhost:8080/",
     "height": 121
    },
    "colab_type": "code",
    "id": "lzVOdIxLOSq5",
    "outputId": "c94b778d-35e2-4af4-cb66-e692c99b0084"
   },
   "outputs": [
    {
     "name": "stdout",
     "output_type": "stream",
     "text": [
      "+----------------------+\n",
      "|number_of_different_OS|\n",
      "+----------------------+\n",
      "|                     3|\n",
      "+----------------------+\n",
      "\n"
     ]
    }
   ],
   "source": [
    "#8.count different OS\n",
    "df_sql8 = spark.sql(\"SELECT count(distinct r_os) as number_of_different_OS FROM SQL_table where r_os <> 'NA'\")\n",
    "df_sql8.show()\n"
   ]
  }
 ],
 "metadata": {
  "colab": {
   "collapsed_sections": [],
   "name": "Lab_sparkSQL.ipynb",
   "provenance": [],
   "toc_visible": true
  },
  "kernelspec": {
   "display_name": "Python 3",
   "language": "python",
   "name": "python3"
  },
  "language_info": {
   "codemirror_mode": {
    "name": "ipython",
    "version": 3
   },
   "file_extension": ".py",
   "mimetype": "text/x-python",
   "name": "python",
   "nbconvert_exporter": "python",
   "pygments_lexer": "ipython3",
   "version": "3.8.2"
  }
 },
 "nbformat": 4,
 "nbformat_minor": 1
}
