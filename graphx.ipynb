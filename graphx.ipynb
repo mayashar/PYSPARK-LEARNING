{
 "cells": [
  {
   "cell_type": "markdown",
   "metadata": {},
   "source": [
    "# IMPORTING SYSTEM TO CHECK PATH AND IMPORTING GRAPHFRAMES"
   ]
  },
  {
   "cell_type": "code",
   "execution_count": 1,
   "metadata": {},
   "outputs": [],
   "source": [
    "import sys"
   ]
  },
  {
   "cell_type": "code",
   "execution_count": 2,
   "metadata": {},
   "outputs": [
    {
     "name": "stdout",
     "output_type": "stream",
     "text": [
      "['C:\\\\Users\\\\mayam\\\\spark-b3d6dc51-27c8-445b-afcc-9b948b90598a\\\\userFiles-3071320e-c4d7-4220-9550-73f2cd912598\\\\org.slf4j_slf4j-api-1.7.16.jar', 'C:\\\\Users\\\\mayam\\\\spark-b3d6dc51-27c8-445b-afcc-9b948b90598a\\\\userFiles-3071320e-c4d7-4220-9550-73f2cd912598\\\\graphframes_graphframes-0.8.0-spark3.0-s_2.12.jar', 'C:\\\\Users\\\\mayam\\\\spark-b3d6dc51-27c8-445b-afcc-9b948b90598a\\\\userFiles-3071320e-c4d7-4220-9550-73f2cd912598', 'C:\\\\spark\\\\spark-3.0.0-preview2-bin-hadoop2.7\\\\bin\\\\Asgmnt5', 'C:\\\\spark\\\\spark-3.0.0-preview2-bin-hadoop2.7\\\\python\\\\lib\\\\py4j-0.10.8.1-src.zip', 'C:\\\\spark\\\\spark-3.0.0-preview2-bin-hadoop2.7\\\\python', 'C:\\\\spark\\\\spark-3.0.0-preview2-bin-hadoop2.7\\\\bin\\\\Asgmnt5', 'C:\\\\Users\\\\mayam\\\\anaconda3\\\\python37.zip', 'C:\\\\Users\\\\mayam\\\\anaconda3\\\\DLLs', 'C:\\\\Users\\\\mayam\\\\anaconda3\\\\lib', 'C:\\\\Users\\\\mayam\\\\anaconda3', '', 'C:\\\\Users\\\\mayam\\\\AppData\\\\Roaming\\\\Python\\\\Python37\\\\site-packages', 'C:\\\\Users\\\\mayam\\\\anaconda3\\\\lib\\\\site-packages', 'C:\\\\Users\\\\mayam\\\\anaconda3\\\\lib\\\\site-packages\\\\win32', 'C:\\\\Users\\\\mayam\\\\anaconda3\\\\lib\\\\site-packages\\\\win32\\\\lib', 'C:\\\\Users\\\\mayam\\\\anaconda3\\\\lib\\\\site-packages\\\\Pythonwin', 'C:\\\\Users\\\\mayam\\\\anaconda3\\\\lib\\\\site-packages\\\\IPython\\\\extensions', 'C:\\\\Users\\\\mayam\\\\.ipython']\n"
     ]
    }
   ],
   "source": [
    "print(sys.path)"
   ]
  },
  {
   "cell_type": "code",
   "execution_count": 1,
   "metadata": {},
   "outputs": [],
   "source": [
    "from graphframes import *"
   ]
  },
  {
   "cell_type": "markdown",
   "metadata": {},
   "source": [
    "# 0.1.Create dataframes for vertices(nodes) and edges."
   ]
  },
  {
   "cell_type": "code",
   "execution_count": 2,
   "metadata": {},
   "outputs": [],
   "source": [
    "# Node DataFrame\n",
    "nodes= sqlContext.createDataFrame([\n",
    "    (\"A\", \"ARON\"  ,350 ),\n",
    "    (\"B\", \"BILL\"  ,360 ),\n",
    "    (\"C\", \"CLAIR\" ,195 ),\n",
    "    (\"D\", \"DANIEL\",90),\n",
    "    (\"E\", \"ERIC\"  ,90),\n",
    "    (\"F\", \"FRANK\" ,215 ),\n",
    "    (\"G\", \"GRAHAM\",30 ),\n",
    "    (\"H\", \"HENRY\" ,25 ),\n",
    "    (\"I\", \"INNA\"  ,25 ),\n",
    "    (\"J\", \"JEN\"   ,20 )\n",
    "], [\"id\", \"name\", \"total_seconds\"])\n"
   ]
  },
  {
   "cell_type": "code",
   "execution_count": 3,
   "metadata": {},
   "outputs": [],
   "source": [
    "# Edge DataFrame\n",
    "edges= sqlContext.createDataFrame([\n",
    "  (\"A\", \"B\", 60),\n",
    "  (\"B\", \"A\", 50),\n",
    "  (\"A\", \"C\", 50),\n",
    "  (\"C\", \"A\", 100),\n",
    "  (\"A\", \"D\", 90),\n",
    "  (\"C\", \"I\", 25),\n",
    "  (\"C\", \"J\", 20),\n",
    " \n",
    "], [\"src\", \"dst\", \"relationship\"])"
   ]
  },
  {
   "cell_type": "markdown",
   "metadata": {},
   "source": [
    "# 0.2.Show the vertices and edges data frames"
   ]
  },
  {
   "cell_type": "code",
   "execution_count": 5,
   "metadata": {},
   "outputs": [
    {
     "name": "stdout",
     "output_type": "stream",
     "text": [
      "+---+------+-------------+\n",
      "| id|  name|total_seconds|\n",
      "+---+------+-------------+\n",
      "|  A|  ARON|          350|\n",
      "|  B|  BILL|          360|\n",
      "|  C| CLAIR|          195|\n",
      "|  D|DANIEL|           90|\n",
      "|  E|  ERIC|           90|\n",
      "|  F| FRANK|          215|\n",
      "|  G|GRAHAM|           30|\n",
      "|  H| HENRY|           25|\n",
      "|  I|  INNA|           25|\n",
      "|  J|   JEN|           20|\n",
      "+---+------+-------------+\n",
      "\n"
     ]
    }
   ],
   "source": [
    "nodes.show() #showing vertices dataframe"
   ]
  },
  {
   "cell_type": "code",
   "execution_count": 6,
   "metadata": {},
   "outputs": [
    {
     "name": "stdout",
     "output_type": "stream",
     "text": [
      "+---+---+------------+\n",
      "|src|dst|relationship|\n",
      "+---+---+------------+\n",
      "|  A|  B|          60|\n",
      "|  B|  A|          50|\n",
      "|  A|  C|          50|\n",
      "|  C|  A|         100|\n",
      "|  A|  D|          90|\n",
      "|  C|  I|          25|\n",
      "|  C|  J|          20|\n",
      "+---+---+------------+\n",
      "\n"
     ]
    }
   ],
   "source": [
    "edges.show() #showing edges dataframe"
   ]
  },
  {
   "cell_type": "markdown",
   "metadata": {},
   "source": [
    "# 1. Create a Graph G using the provided edges and vertices."
   ]
  },
  {
   "cell_type": "code",
   "execution_count": 7,
   "metadata": {},
   "outputs": [],
   "source": [
    "#Graph Construction\n",
    "G = GraphFrame(nodes,edges)"
   ]
  },
  {
   "cell_type": "markdown",
   "metadata": {},
   "source": [
    "# 2.1 Show the vertices"
   ]
  },
  {
   "cell_type": "code",
   "execution_count": 8,
   "metadata": {},
   "outputs": [
    {
     "name": "stdout",
     "output_type": "stream",
     "text": [
      "+---+------+-------------+\n",
      "| id|  name|total_seconds|\n",
      "+---+------+-------------+\n",
      "|  A|  ARON|          350|\n",
      "|  B|  BILL|          360|\n",
      "|  C| CLAIR|          195|\n",
      "|  D|DANIEL|           90|\n",
      "|  E|  ERIC|           90|\n",
      "|  F| FRANK|          215|\n",
      "|  G|GRAHAM|           30|\n",
      "|  H| HENRY|           25|\n",
      "|  I|  INNA|           25|\n",
      "|  J|   JEN|           20|\n",
      "+---+------+-------------+\n",
      "\n"
     ]
    }
   ],
   "source": [
    "# Take a look at the DataFrames as nodes=vertices\n",
    "G.vertices.show()\n"
   ]
  },
  {
   "cell_type": "markdown",
   "metadata": {},
   "source": [
    "# 2.2 Show the edges"
   ]
  },
  {
   "cell_type": "code",
   "execution_count": 9,
   "metadata": {},
   "outputs": [
    {
     "name": "stdout",
     "output_type": "stream",
     "text": [
      "+---+---+------------+\n",
      "|src|dst|relationship|\n",
      "+---+---+------------+\n",
      "|  A|  B|          60|\n",
      "|  B|  A|          50|\n",
      "|  A|  C|          50|\n",
      "|  C|  A|         100|\n",
      "|  A|  D|          90|\n",
      "|  C|  I|          25|\n",
      "|  C|  J|          20|\n",
      "+---+---+------------+\n",
      "\n"
     ]
    }
   ],
   "source": [
    "# Take a look at the DataFrames\n",
    "G.edges.show()"
   ]
  },
  {
   "cell_type": "markdown",
   "metadata": {},
   "source": [
    "# 3.1 Show the Degrees  of the graph"
   ]
  },
  {
   "cell_type": "code",
   "execution_count": 10,
   "metadata": {},
   "outputs": [
    {
     "name": "stdout",
     "output_type": "stream",
     "text": [
      "+---+------+\n",
      "| id|degree|\n",
      "+---+------+\n",
      "|  B|     2|\n",
      "|  D|     1|\n",
      "|  C|     4|\n",
      "|  J|     1|\n",
      "|  A|     5|\n",
      "|  I|     1|\n",
      "+---+------+\n",
      "\n"
     ]
    }
   ],
   "source": [
    "# Check the number of edges of each vertex i.e. showing degrees\n",
    "G.degrees.show()"
   ]
  },
  {
   "cell_type": "markdown",
   "metadata": {},
   "source": [
    "# 3.2 Show  in-degrees  of the graph"
   ]
  },
  {
   "cell_type": "code",
   "execution_count": 11,
   "metadata": {},
   "outputs": [
    {
     "name": "stdout",
     "output_type": "stream",
     "text": [
      "+---+--------+\n",
      "| id|inDegree|\n",
      "+---+--------+\n",
      "|  B|       1|\n",
      "|  D|       1|\n",
      "|  C|       1|\n",
      "|  J|       1|\n",
      "|  A|       2|\n",
      "|  I|       1|\n",
      "+---+--------+\n",
      "\n"
     ]
    }
   ],
   "source": [
    "#showing in-degrees\n",
    "G.inDegrees.show()"
   ]
  },
  {
   "cell_type": "markdown",
   "metadata": {},
   "source": [
    "# 3.3 Show out-degrees of the graph"
   ]
  },
  {
   "cell_type": "code",
   "execution_count": 12,
   "metadata": {},
   "outputs": [
    {
     "name": "stdout",
     "output_type": "stream",
     "text": [
      "+---+---------+\n",
      "| id|outDegree|\n",
      "+---+---------+\n",
      "|  B|        1|\n",
      "|  C|        3|\n",
      "|  A|        3|\n",
      "+---+---------+\n",
      "\n"
     ]
    }
   ],
   "source": [
    "#showing out-degrees\n",
    "G.outDegrees.show()"
   ]
  },
  {
   "cell_type": "markdown",
   "metadata": {},
   "source": [
    "# 4.Using PageRank show the most influential users in ascending order."
   ]
  },
  {
   "cell_type": "code",
   "execution_count": 15,
   "metadata": {},
   "outputs": [],
   "source": [
    "# Run PageRank until convergence to tolerance \"tol\".\n",
    "results = G.pageRank(resetProbability=0.15, tol=0.01)"
   ]
  },
  {
   "cell_type": "code",
   "execution_count": 30,
   "metadata": {},
   "outputs": [
    {
     "name": "stdout",
     "output_type": "stream",
     "text": [
      "+---+------+-------------+------------------+\n",
      "| id|  name|total_seconds|          pagerank|\n",
      "+---+------+-------------+------------------+\n",
      "|  E|  ERIC|           90|0.6393818178309405|\n",
      "|  H| HENRY|           25|0.6393818178309405|\n",
      "|  G|GRAHAM|           30|0.6393818178309405|\n",
      "|  F| FRANK|          215|0.6393818178309405|\n",
      "|  J|   JEN|           20| 0.965201740866504|\n",
      "|  I|  INNA|           25| 0.965201740866504|\n",
      "|  D|DANIEL|           90| 1.189802578990012|\n",
      "|  B|  BILL|          360| 1.189802578990012|\n",
      "|  C| CLAIR|          195| 1.189802578990012|\n",
      "|  A|  ARON|          350|1.9426615099731943|\n",
      "+---+------+-------------+------------------+\n",
      "\n"
     ]
    }
   ],
   "source": [
    "results.vertices.sort(['pagerank'],ascending=True).show()"
   ]
  },
  {
   "cell_type": "markdown",
   "metadata": {},
   "source": [
    "# 5.Using BFS, find the path between a vertex with name “Frank\" to a vertex with total_seconds greater than “215”"
   ]
  },
  {
   "cell_type": "code",
   "execution_count": 22,
   "metadata": {},
   "outputs": [],
   "source": [
    "paths = G.bfs(\"name = 'FRANK'\", \"total_seconds > 215\") #NO IDEA WHY ITS GIVING EMPTY ROWS\n"
   ]
  },
  {
   "cell_type": "code",
   "execution_count": 23,
   "metadata": {},
   "outputs": [
    {
     "name": "stdout",
     "output_type": "stream",
     "text": [
      "+---+----+-------------+\n",
      "| id|name|total_seconds|\n",
      "+---+----+-------------+\n",
      "+---+----+-------------+\n",
      "\n"
     ]
    }
   ],
   "source": [
    "paths.show()"
   ]
  },
  {
   "cell_type": "code",
   "execution_count": 21,
   "metadata": {},
   "outputs": [
    {
     "name": "stdout",
     "output_type": "stream",
     "text": [
      "+---+----+-------------+\n",
      "| id|name|total_seconds|\n",
      "+---+----+-------------+\n",
      "+---+----+-------------+\n",
      "\n"
     ]
    }
   ],
   "source": [
    "#Another way \n",
    "paths = G.bfs(fromExpr =\"name ='FRANK'\",toExpr = \"total_seconds > 215\",maxPathLength=4) #NO IDEA WHY ITS GIVING EMPTY ROWS\n",
    "paths.show()"
   ]
  },
  {
   "cell_type": "markdown",
   "metadata": {},
   "source": [
    "# 6.Using LPA, find the community structure. Keep the maximum number of iteration to five (5) and sort by label."
   ]
  },
  {
   "cell_type": "code",
   "execution_count": 23,
   "metadata": {},
   "outputs": [
    {
     "name": "stdout",
     "output_type": "stream",
     "text": [
      "+---+------+-------------+-------------+\n",
      "| id|  name|total_seconds|        label|\n",
      "+---+------+-------------+-------------+\n",
      "|  H| HENRY|           25|1683627180032|\n",
      "|  G|GRAHAM|           30|1168231104512|\n",
      "|  D|DANIEL|           90| 910533066752|\n",
      "|  B|  BILL|          360| 910533066752|\n",
      "|  C| CLAIR|          195| 910533066752|\n",
      "|  I|  INNA|           25| 420906795008|\n",
      "|  A|  ARON|          350| 420906795008|\n",
      "|  J|   JEN|           20| 420906795008|\n",
      "|  E|  ERIC|           90| 369367187456|\n",
      "|  F| FRANK|          215| 171798691840|\n",
      "+---+------+-------------+-------------+\n",
      "\n"
     ]
    }
   ],
   "source": [
    "lpa_result = G.labelPropagation(maxIter=5)\n",
    "lpa_result.sort(['label'],ascending=[0]).show()\n"
   ]
  }
 ],
 "metadata": {
  "kernelspec": {
   "display_name": "Python 3",
   "language": "python",
   "name": "python3"
  },
  "language_info": {
   "codemirror_mode": {
    "name": "ipython",
    "version": 3
   },
   "file_extension": ".py",
   "mimetype": "text/x-python",
   "name": "python",
   "nbconvert_exporter": "python",
   "pygments_lexer": "ipython3",
   "version": "3.7.6"
  }
 },
 "nbformat": 4,
 "nbformat_minor": 4
}
