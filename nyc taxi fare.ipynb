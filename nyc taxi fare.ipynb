{
  "nbformat": 4,
  "nbformat_minor": 0,
  "metadata": {
    "colab": {
      "name": "Assignment-3 (Spark MLlib).ipynb",
      "provenance": [],
      "collapsed_sections": []
    },
    "kernelspec": {
      "name": "python3",
      "display_name": "Python 3"
    }
  },
  "cells": [
    {
      "cell_type": "code",
      "metadata": {
        "id": "CrNpeyXGRN7z",
        "colab_type": "code",
        "colab": {}
      },
      "source": [
        "!apt-get install openjdk-8-jdk-headless -qq > /dev/null\n",
        "!wget -q https://downloads.apache.org/spark/spark-3.0.0-preview2/spark-3.0.0-preview2-bin-hadoop2.7.tgz\n",
        "!tar -xvf spark-3.0.0-preview2-bin-hadoop2.7.tgz\n",
        "!pip install -q findspark\n",
        "import os\n",
        "os.environ[\"JAVA_HOME\"] = \"/usr/lib/jvm/java-8-openjdk-amd64\"\n",
        "os.environ[\"SPARK_HOME\"] = \"/content/spark-3.0.0-preview2-bin-hadoop2.7\"\n",
        "import findspark\n",
        "findspark.init()"
      ],
      "execution_count": 0,
      "outputs": []
    },
    {
      "cell_type": "code",
      "metadata": {
        "id": "vK1aumlgUPpB",
        "colab_type": "code",
        "colab": {}
      },
      "source": [
        "# Importing the libraries required \n",
        "from pyspark.sql import Row\n",
        "from pyspark.sql.types import *\n",
        "from pyspark.sql.functions import sum\n",
        "from pyspark.sql import SparkSession\n",
        "spark = SparkSession.builder.getOrCreate()\n"
      ],
      "execution_count": 0,
      "outputs": []
    },
    {
      "cell_type": "code",
      "metadata": {
        "id": "kU3nKZZaVGiT",
        "colab_type": "code",
        "colab": {
          "base_uri": "https://localhost:8080/",
          "height": 459
        },
        "outputId": "8a0a5f10-e0e3-4d7f-99a8-e11f5401ae6c"
      },
      "source": [
        "# Reading the csv file into the dataframe\n",
        "df_taxi = spark.read.csv('/content/nyc_taxi .csv', header='true', inferSchema='true')\n",
        "df_taxi.show()"
      ],
      "execution_count": 71,
      "outputs": [
        {
          "output_type": "stream",
          "text": [
            "+-----------+-----------+------------+------------+--------+----+-----+\n",
            "|pickup_date|pickup_time|dropoff_date|dropoff_time|distance| tip| fare|\n",
            "+-----------+-----------+------------+------------+--------+----+-----+\n",
            "|   1/1/2017|       0:00|    1/1/2017|        0:00|    0.02| 0.0| 52.8|\n",
            "|   1/1/2017|       0:00|    1/1/2017|        0:03|     0.5| 0.0|  5.3|\n",
            "|   1/1/2017|       0:00|    1/1/2017|        0:39|    7.75|4.66|27.96|\n",
            "|   1/1/2017|       0:00|    1/1/2017|        0:06|     0.8|1.45| 8.75|\n",
            "|   1/1/2017|       0:00|    1/1/2017|        0:08|     0.9| 0.0|  8.3|\n",
            "|   1/1/2017|       0:00|    1/1/2017|        0:05|    1.76| 0.0|  8.3|\n",
            "|   1/1/2017|       0:00|    1/1/2017|        0:15|    8.47|7.71|38.55|\n",
            "|   1/1/2017|       0:00|    1/1/2017|        0:11|     2.4| 0.0| 11.8|\n",
            "|   1/1/2017|       0:00|    1/1/2017|        0:23|    12.6|10.0| 70.3|\n",
            "|   1/1/2017|       0:00|    1/1/2017|        0:08|     0.9|2.05|10.35|\n",
            "|   1/1/2017|       0:00|    1/1/2017|        0:09|    2.43| 2.7| 13.5|\n",
            "|   1/1/2017|       0:00|    1/1/2017|        0:16|     2.6|2.76|16.56|\n",
            "|   1/1/2017|       0:00|    1/1/2017|        0:18|    4.25| 0.0| 17.8|\n",
            "|   1/1/2017|       0:00|    1/1/2017|        0:07|    0.65| 1.7|  9.5|\n",
            "|   1/1/2017|       0:00|    1/1/2017|        0:34|    3.42| 0.0| 23.8|\n",
            "|   1/1/2017|       0:00|    1/1/2017|        0:24|     6.6| 0.0| 24.3|\n",
            "|   1/1/2017|       0:00|    1/1/2017|        0:02|     0.5| 0.0|  5.3|\n",
            "|   1/1/2017|       0:00|    1/1/2017|        0:08|     1.2|1.75|10.55|\n",
            "|   1/1/2017|       0:00|    1/1/2017|        0:12|     1.7| 0.0| 10.8|\n",
            "|   1/1/2017|       0:00|    1/1/2017|        0:09|     5.3| 0.0| 17.3|\n",
            "+-----------+-----------+------------+------------+--------+----+-----+\n",
            "only showing top 20 rows\n",
            "\n"
          ],
          "name": "stdout"
        }
      ]
    },
    {
      "cell_type": "code",
      "metadata": {
        "id": "Wn2-9IiCXrpB",
        "colab_type": "code",
        "colab": {
          "base_uri": "https://localhost:8080/",
          "height": 170
        },
        "outputId": "f71fb9d7-7036-4935-c7b5-3ce431625e64"
      },
      "source": [
        "# Printing the schema of the dataset\n",
        "df_taxi.printSchema()"
      ],
      "execution_count": 64,
      "outputs": [
        {
          "output_type": "stream",
          "text": [
            "root\n",
            " |-- pickup_date: string (nullable = true)\n",
            " |-- pickup_time: string (nullable = true)\n",
            " |-- dropoff_date: string (nullable = true)\n",
            " |-- dropoff_time: string (nullable = true)\n",
            " |-- distance: double (nullable = true)\n",
            " |-- tip: double (nullable = true)\n",
            " |-- fare: double (nullable = true)\n",
            "\n"
          ],
          "name": "stdout"
        }
      ]
    },
    {
      "cell_type": "code",
      "metadata": {
        "id": "IivCr3d9cwuQ",
        "colab_type": "code",
        "colab": {}
      },
      "source": [
        "# Creating a feature array by omitting the last column\n",
        "\n",
        "feature_col = ['distance']\n",
        "from pyspark.ml.feature import VectorAssembler\n",
        "vect_assembler = VectorAssembler(inputCols=feature_col,outputCol=\"dist_feature\")"
      ],
      "execution_count": 0,
      "outputs": []
    },
    {
      "cell_type": "code",
      "metadata": {
        "id": "fTg0_SeLhR-H",
        "colab_type": "code",
        "colab": {
          "base_uri": "https://localhost:8080/",
          "height": 459
        },
        "outputId": "8c00e472-bfb6-421d-d6fb-7cf382ea670e"
      },
      "source": [
        "#Utilize Assembler created above in order to add the feature column\n",
        "feature_data = vect_assembler.transform(df_taxi)\n",
        "feature_data.show()"
      ],
      "execution_count": 43,
      "outputs": [
        {
          "output_type": "stream",
          "text": [
            "+-----------+-----------+------------+------------+--------+----+-----+------------+\n",
            "|pickup_date|pickup_time|dropoff_date|dropoff_time|distance| tip| fare|dist_feature|\n",
            "+-----------+-----------+------------+------------+--------+----+-----+------------+\n",
            "|   1/1/2017|       0:00|    1/1/2017|        0:00|    0.02| 0.0| 52.8|      [0.02]|\n",
            "|   1/1/2017|       0:00|    1/1/2017|        0:03|     0.5| 0.0|  5.3|       [0.5]|\n",
            "|   1/1/2017|       0:00|    1/1/2017|        0:39|    7.75|4.66|27.96|      [7.75]|\n",
            "|   1/1/2017|       0:00|    1/1/2017|        0:06|     0.8|1.45| 8.75|       [0.8]|\n",
            "|   1/1/2017|       0:00|    1/1/2017|        0:08|     0.9| 0.0|  8.3|       [0.9]|\n",
            "|   1/1/2017|       0:00|    1/1/2017|        0:05|    1.76| 0.0|  8.3|      [1.76]|\n",
            "|   1/1/2017|       0:00|    1/1/2017|        0:15|    8.47|7.71|38.55|      [8.47]|\n",
            "|   1/1/2017|       0:00|    1/1/2017|        0:11|     2.4| 0.0| 11.8|       [2.4]|\n",
            "|   1/1/2017|       0:00|    1/1/2017|        0:23|    12.6|10.0| 70.3|      [12.6]|\n",
            "|   1/1/2017|       0:00|    1/1/2017|        0:08|     0.9|2.05|10.35|       [0.9]|\n",
            "|   1/1/2017|       0:00|    1/1/2017|        0:09|    2.43| 2.7| 13.5|      [2.43]|\n",
            "|   1/1/2017|       0:00|    1/1/2017|        0:16|     2.6|2.76|16.56|       [2.6]|\n",
            "|   1/1/2017|       0:00|    1/1/2017|        0:18|    4.25| 0.0| 17.8|      [4.25]|\n",
            "|   1/1/2017|       0:00|    1/1/2017|        0:07|    0.65| 1.7|  9.5|      [0.65]|\n",
            "|   1/1/2017|       0:00|    1/1/2017|        0:34|    3.42| 0.0| 23.8|      [3.42]|\n",
            "|   1/1/2017|       0:00|    1/1/2017|        0:24|     6.6| 0.0| 24.3|       [6.6]|\n",
            "|   1/1/2017|       0:00|    1/1/2017|        0:02|     0.5| 0.0|  5.3|       [0.5]|\n",
            "|   1/1/2017|       0:00|    1/1/2017|        0:08|     1.2|1.75|10.55|       [1.2]|\n",
            "|   1/1/2017|       0:00|    1/1/2017|        0:12|     1.7| 0.0| 10.8|       [1.7]|\n",
            "|   1/1/2017|       0:00|    1/1/2017|        0:09|     5.3| 0.0| 17.3|       [5.3]|\n",
            "+-----------+-----------+------------+------------+--------+----+-----+------------+\n",
            "only showing top 20 rows\n",
            "\n"
          ],
          "name": "stdout"
        }
      ]
    },
    {
      "cell_type": "code",
      "metadata": {
        "id": "EdbJk3b6hj2c",
        "colab_type": "code",
        "colab": {
          "base_uri": "https://localhost:8080/",
          "height": 459
        },
        "outputId": "c6445512-fae9-48a4-e55b-f34d6e3b9a74"
      },
      "source": [
        "#Selecting the single feature (Distance) and fare to build the model\n",
        "final_data = feature_data.select(\"dist_feature\",\"fare\")\n",
        "final_data.show()"
      ],
      "execution_count": 44,
      "outputs": [
        {
          "output_type": "stream",
          "text": [
            "+------------+-----+\n",
            "|dist_feature| fare|\n",
            "+------------+-----+\n",
            "|      [0.02]| 52.8|\n",
            "|       [0.5]|  5.3|\n",
            "|      [7.75]|27.96|\n",
            "|       [0.8]| 8.75|\n",
            "|       [0.9]|  8.3|\n",
            "|      [1.76]|  8.3|\n",
            "|      [8.47]|38.55|\n",
            "|       [2.4]| 11.8|\n",
            "|      [12.6]| 70.3|\n",
            "|       [0.9]|10.35|\n",
            "|      [2.43]| 13.5|\n",
            "|       [2.6]|16.56|\n",
            "|      [4.25]| 17.8|\n",
            "|      [0.65]|  9.5|\n",
            "|      [3.42]| 23.8|\n",
            "|       [6.6]| 24.3|\n",
            "|       [0.5]|  5.3|\n",
            "|       [1.2]|10.55|\n",
            "|       [1.7]| 10.8|\n",
            "|       [5.3]| 17.3|\n",
            "+------------+-----+\n",
            "only showing top 20 rows\n",
            "\n"
          ],
          "name": "stdout"
        }
      ]
    },
    {
      "cell_type": "code",
      "metadata": {
        "id": "eIcos034mVKs",
        "colab_type": "code",
        "colab": {}
      },
      "source": [
        "# Splitting the data into train and test data\n",
        "train_data, test_data = final_data.randomSplit([0.7, 0.3])"
      ],
      "execution_count": 0,
      "outputs": []
    },
    {
      "cell_type": "code",
      "metadata": {
        "id": "494KrTTCmph_",
        "colab_type": "code",
        "colab": {
          "base_uri": "https://localhost:8080/",
          "height": 391
        },
        "outputId": "6cf547e6-7d06-4857-e0f3-4dd7f1300061"
      },
      "source": [
        "# Display stats of train and test data\n",
        "print(\"Train data statistics\") \n",
        "train_data.describe().show()\n",
        "print(\"Test data statistics\")\n",
        "test_data.describe().show()"
      ],
      "execution_count": 67,
      "outputs": [
        {
          "output_type": "stream",
          "text": [
            "Train data statistics\n",
            "+-------+------------------+\n",
            "|summary|              fare|\n",
            "+-------+------------------+\n",
            "|  count|            734371|\n",
            "|   mean|16.328822516104452|\n",
            "| stddev| 628.7022673516291|\n",
            "|    min|            -120.3|\n",
            "|    max|          538580.0|\n",
            "+-------+------------------+\n",
            "\n",
            "Test data statistics\n",
            "+-------+------------------+\n",
            "|summary|              fare|\n",
            "+-------+------------------+\n",
            "|  count|            314199|\n",
            "|   mean| 15.61728640130228|\n",
            "| stddev|13.713411273659126|\n",
            "|    min|             -70.3|\n",
            "|    max|             450.3|\n",
            "+-------+------------------+\n",
            "\n"
          ],
          "name": "stdout"
        }
      ]
    },
    {
      "cell_type": "code",
      "metadata": {
        "id": "mm4Q96rRmyTk",
        "colab_type": "code",
        "colab": {
          "base_uri": "https://localhost:8080/",
          "height": 459
        },
        "outputId": "4a530ceb-b3b3-478a-be22-d6e507a577c3"
      },
      "source": [
        "# Building the regression model using  MLlib to predict fare using distance\n",
        "\n",
        "#Import Linear Regression class called LinearRegression\n",
        "from pyspark.ml.regression import LinearRegression\n",
        "\n",
        "# Creating an object to run the linear regression model\n",
        "lg = LinearRegression(featuresCol=\"dist_feature\", labelCol=\"fare\")\n",
        "\n",
        "# Linear Regression Model : Training the data using the fit()\n",
        "lg_model = lg.fit(train_data)\n",
        "\n",
        "# Testing the data\n",
        "lg_model_pred = lg_model.evaluate(test_data)\n",
        "\n",
        "# Display the predictions\n",
        "lg_model_pred.predictions.show()"
      ],
      "execution_count": 69,
      "outputs": [
        {
          "output_type": "stream",
          "text": [
            "+------------+-----+-----------------+\n",
            "|dist_feature| fare|       prediction|\n",
            "+------------+-----+-----------------+\n",
            "|       [0.0]|-65.3|6.923642343530351|\n",
            "|       [0.0]|-52.8|6.923642343530351|\n",
            "|       [0.0]|-52.8|6.923642343530351|\n",
            "|       [0.0]|-52.8|6.923642343530351|\n",
            "|       [0.0]|-40.8|6.923642343530351|\n",
            "|       [0.0]|-3.96|6.923642343530351|\n",
            "|       [0.0]| -3.8|6.923642343530351|\n",
            "|       [0.0]| -3.8|6.923642343530351|\n",
            "|       [0.0]| -3.8|6.923642343530351|\n",
            "|       [0.0]| -3.8|6.923642343530351|\n",
            "|       [0.0]| -3.3|6.923642343530351|\n",
            "|       [0.0]| -3.3|6.923642343530351|\n",
            "|       [0.0]| -3.3|6.923642343530351|\n",
            "|       [0.0]| -3.3|6.923642343530351|\n",
            "|       [0.0]| -3.3|6.923642343530351|\n",
            "|       [0.0]| -3.3|6.923642343530351|\n",
            "|       [0.0]|  0.0|6.923642343530351|\n",
            "|       [0.0]|  0.0|6.923642343530351|\n",
            "|       [0.0]|  0.0|6.923642343530351|\n",
            "|       [0.0]|  0.0|6.923642343530351|\n",
            "+------------+-----+-----------------+\n",
            "only showing top 20 rows\n",
            "\n"
          ],
          "name": "stdout"
        }
      ]
    },
    {
      "cell_type": "code",
      "metadata": {
        "id": "mNmPQ8aTsgnK",
        "colab_type": "code",
        "colab": {
          "base_uri": "https://localhost:8080/",
          "height": 459
        },
        "outputId": "d4bf6c0a-ccb4-49c5-8565-c37aa9bdbfd4"
      },
      "source": [
        "data2 = df_taxi.select(df_taxi.distance,df_taxi.fare.alias('label'))\n",
        "train, test = data2.randomSplit([0.7,0.3])\n",
        "assembler = VectorAssembler().setInputCols(['distance'])\\\n",
        ".setOutputCol('features')\n",
        "train01 = assembler.transform(train)\n",
        "''' we only need features and label column '''\n",
        "train02 = train01.select(\"features\",\"label\")\n",
        "train02.show(truncate=False)"
      ],
      "execution_count": 75,
      "outputs": [
        {
          "output_type": "stream",
          "text": [
            "+--------+------+\n",
            "|features|label |\n",
            "+--------+------+\n",
            "|[0.0]   |-120.3|\n",
            "|[0.0]   |-80.8 |\n",
            "|[0.0]   |-80.8 |\n",
            "|[0.0]   |-52.8 |\n",
            "|[0.0]   |-52.8 |\n",
            "|[0.0]   |-52.8 |\n",
            "|[0.0]   |-52.8 |\n",
            "|[0.0]   |-45.8 |\n",
            "|[0.0]   |-36.8 |\n",
            "|[0.0]   |-10.3 |\n",
            "|[0.0]   |-8.8  |\n",
            "|[0.0]   |-4.3  |\n",
            "|[0.0]   |-4.3  |\n",
            "|[0.0]   |-3.96 |\n",
            "|[0.0]   |-3.8  |\n",
            "|[0.0]   |-3.8  |\n",
            "|[0.0]   |-3.8  |\n",
            "|[0.0]   |-3.8  |\n",
            "|[0.0]   |-3.8  |\n",
            "|[0.0]   |-3.8  |\n",
            "+--------+------+\n",
            "only showing top 20 rows\n",
            "\n"
          ],
          "name": "stdout"
        }
      ]
    },
    {
      "cell_type": "code",
      "metadata": {
        "id": "bT-e6zYgWJtc",
        "colab_type": "code",
        "colab": {
          "base_uri": "https://localhost:8080/",
          "height": 459
        },
        "outputId": "59878b87-5b9b-42b8-da69-bae7060b5296"
      },
      "source": [
        "lr = LinearRegression()\n",
        "model = lr.fit(train02)\n",
        "test01 = assembler.transform(test)\n",
        "test02 = test01.select('features', 'label')\n",
        "test03 = model.transform(test02)\n",
        "test03.show(truncate=False)"
      ],
      "execution_count": 76,
      "outputs": [
        {
          "output_type": "stream",
          "text": [
            "+--------+------+-----------------+\n",
            "|features|label |prediction       |\n",
            "+--------+------+-----------------+\n",
            "|[0.0]   |-75.3 |6.940570979646689|\n",
            "|[0.0]   |-65.3 |6.940570979646689|\n",
            "|[0.0]   |-52.8 |6.940570979646689|\n",
            "|[0.0]   |-40.8 |6.940570979646689|\n",
            "|[0.0]   |-40.3 |6.940570979646689|\n",
            "|[0.0]   |-36.36|6.940570979646689|\n",
            "|[0.0]   |-35.8 |6.940570979646689|\n",
            "|[0.0]   |-13.1 |6.940570979646689|\n",
            "|[0.0]   |-4.3  |6.940570979646689|\n",
            "|[0.0]   |-4.3  |6.940570979646689|\n",
            "|[0.0]   |-4.3  |6.940570979646689|\n",
            "|[0.0]   |-3.8  |6.940570979646689|\n",
            "|[0.0]   |-3.8  |6.940570979646689|\n",
            "|[0.0]   |-3.8  |6.940570979646689|\n",
            "|[0.0]   |-3.8  |6.940570979646689|\n",
            "|[0.0]   |-3.8  |6.940570979646689|\n",
            "|[0.0]   |-3.8  |6.940570979646689|\n",
            "|[0.0]   |-3.3  |6.940570979646689|\n",
            "|[0.0]   |-3.3  |6.940570979646689|\n",
            "|[0.0]   |-3.3  |6.940570979646689|\n",
            "+--------+------+-----------------+\n",
            "only showing top 20 rows\n",
            "\n"
          ],
          "name": "stdout"
        }
      ]
    },
    {
      "cell_type": "code",
      "metadata": {
        "id": "iscQZZSlXWNc",
        "colab_type": "code",
        "colab": {}
      },
      "source": [
        ""
      ],
      "execution_count": 0,
      "outputs": []
    }
  ]
}