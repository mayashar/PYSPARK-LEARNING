{
 "cells": [
  {
   "cell_type": "markdown",
   "metadata": {},
   "source": [
    "# MIMIC MACHINE LEARNING"
   ]
  },
  {
   "cell_type": "code",
   "execution_count": 1,
   "metadata": {},
   "outputs": [],
   "source": [
    "from sklearn.datasets import load_boston\n",
    "from sklearn.model_selection import train_test_split\n",
    "from sklearn.linear_model import LinearRegression\n",
    "\n",
    "import pandas as pd\n",
    "import matplotlib.pyplot as plt\n",
    "import seaborn as sns\n",
    "import numpy as np\n",
    "\n",
    "import statsmodels.api as sm\n",
    "from statsmodels.stats.outliers_influence import variance_inflation_factor\n",
    "\n",
    "#import boston_valuation as val\n",
    "\n",
    "%matplotlib inline"
   ]
  },
  {
   "cell_type": "code",
   "execution_count": 2,
   "metadata": {},
   "outputs": [],
   "source": [
    "mimic_data=pd.read_csv(\"final_mimic.csv\",index_col=0)"
   ]
  },
  {
   "cell_type": "code",
   "execution_count": 3,
   "metadata": {},
   "outputs": [
    {
     "data": {
      "text/html": [
       "<div>\n",
       "<style scoped>\n",
       "    .dataframe tbody tr th:only-of-type {\n",
       "        vertical-align: middle;\n",
       "    }\n",
       "\n",
       "    .dataframe tbody tr th {\n",
       "        vertical-align: top;\n",
       "    }\n",
       "\n",
       "    .dataframe thead th {\n",
       "        text-align: right;\n",
       "    }\n",
       "</style>\n",
       "<table border=\"1\" class=\"dataframe\">\n",
       "  <thead>\n",
       "    <tr style=\"text-align: right;\">\n",
       "      <th></th>\n",
       "      <th>person_id</th>\n",
       "      <th>age</th>\n",
       "      <th>gender</th>\n",
       "      <th>birth_date</th>\n",
       "      <th>F_T2D_Diag</th>\n",
       "      <th>F_ALZ_Diag</th>\n",
       "      <th>T2D_OR_AD_FIRST</th>\n",
       "      <th>Age_T2D_First</th>\n",
       "      <th>Age_AD_First</th>\n",
       "    </tr>\n",
       "  </thead>\n",
       "  <tbody>\n",
       "    <tr>\n",
       "      <th>0</th>\n",
       "      <td>148</td>\n",
       "      <td>78</td>\n",
       "      <td>F</td>\n",
       "      <td>2029-07-11 00:00:00</td>\n",
       "      <td>NaN</td>\n",
       "      <td>NaN</td>\n",
       "      <td>NaN</td>\n",
       "      <td>NaN</td>\n",
       "      <td>NaN</td>\n",
       "    </tr>\n",
       "    <tr>\n",
       "      <th>1</th>\n",
       "      <td>463</td>\n",
       "      <td>62</td>\n",
       "      <td>F</td>\n",
       "      <td>2136-09-24 23:00:00</td>\n",
       "      <td>NaN</td>\n",
       "      <td>NaN</td>\n",
       "      <td>NaN</td>\n",
       "      <td>NaN</td>\n",
       "      <td>NaN</td>\n",
       "    </tr>\n",
       "    <tr>\n",
       "      <th>2</th>\n",
       "      <td>471</td>\n",
       "      <td>75</td>\n",
       "      <td>F</td>\n",
       "      <td>2046-08-29 23:00:00</td>\n",
       "      <td>NaN</td>\n",
       "      <td>NaN</td>\n",
       "      <td>NaN</td>\n",
       "      <td>NaN</td>\n",
       "      <td>NaN</td>\n",
       "    </tr>\n",
       "    <tr>\n",
       "      <th>3</th>\n",
       "      <td>833</td>\n",
       "      <td>0</td>\n",
       "      <td>M</td>\n",
       "      <td>2137-05-22 23:00:00</td>\n",
       "      <td>NaN</td>\n",
       "      <td>NaN</td>\n",
       "      <td>NaN</td>\n",
       "      <td>NaN</td>\n",
       "      <td>NaN</td>\n",
       "    </tr>\n",
       "    <tr>\n",
       "      <th>4</th>\n",
       "      <td>1088</td>\n",
       "      <td>68</td>\n",
       "      <td>M</td>\n",
       "      <td>2102-03-05 00:00:00</td>\n",
       "      <td>NaN</td>\n",
       "      <td>NaN</td>\n",
       "      <td>NaN</td>\n",
       "      <td>NaN</td>\n",
       "      <td>NaN</td>\n",
       "    </tr>\n",
       "  </tbody>\n",
       "</table>\n",
       "</div>"
      ],
      "text/plain": [
       "   person_id  age gender           birth_date F_T2D_Diag F_ALZ_Diag  \\\n",
       "0        148   78      F  2029-07-11 00:00:00        NaN        NaN   \n",
       "1        463   62      F  2136-09-24 23:00:00        NaN        NaN   \n",
       "2        471   75      F  2046-08-29 23:00:00        NaN        NaN   \n",
       "3        833    0      M  2137-05-22 23:00:00        NaN        NaN   \n",
       "4       1088   68      M  2102-03-05 00:00:00        NaN        NaN   \n",
       "\n",
       "   T2D_OR_AD_FIRST  Age_T2D_First  Age_AD_First  \n",
       "0              NaN            NaN           NaN  \n",
       "1              NaN            NaN           NaN  \n",
       "2              NaN            NaN           NaN  \n",
       "3              NaN            NaN           NaN  \n",
       "4              NaN            NaN           NaN  "
      ]
     },
     "execution_count": 3,
     "metadata": {},
     "output_type": "execute_result"
    }
   ],
   "source": [
    "mimic_data.head(5)"
   ]
  },
  {
   "cell_type": "code",
   "execution_count": 4,
   "metadata": {},
   "outputs": [
    {
     "data": {
      "text/html": [
       "<div>\n",
       "<style scoped>\n",
       "    .dataframe tbody tr th:only-of-type {\n",
       "        vertical-align: middle;\n",
       "    }\n",
       "\n",
       "    .dataframe tbody tr th {\n",
       "        vertical-align: top;\n",
       "    }\n",
       "\n",
       "    .dataframe thead th {\n",
       "        text-align: right;\n",
       "    }\n",
       "</style>\n",
       "<table border=\"1\" class=\"dataframe\">\n",
       "  <thead>\n",
       "    <tr style=\"text-align: right;\">\n",
       "      <th></th>\n",
       "      <th>person_id</th>\n",
       "      <th>age</th>\n",
       "      <th>gender</th>\n",
       "      <th>birth_date</th>\n",
       "      <th>F_T2D_Diag</th>\n",
       "      <th>F_ALZ_Diag</th>\n",
       "      <th>T2D_OR_AD_FIRST</th>\n",
       "      <th>Age_T2D_First</th>\n",
       "      <th>Age_AD_First</th>\n",
       "    </tr>\n",
       "  </thead>\n",
       "  <tbody>\n",
       "    <tr>\n",
       "      <th>50365</th>\n",
       "      <td>96746</td>\n",
       "      <td>75</td>\n",
       "      <td>F</td>\n",
       "      <td>2122-05-22 23:00:00</td>\n",
       "      <td>NaN</td>\n",
       "      <td>NaN</td>\n",
       "      <td>NaN</td>\n",
       "      <td>NaN</td>\n",
       "      <td>NaN</td>\n",
       "    </tr>\n",
       "    <tr>\n",
       "      <th>50366</th>\n",
       "      <td>97592</td>\n",
       "      <td>35</td>\n",
       "      <td>M</td>\n",
       "      <td>2144-06-11 23:00:00</td>\n",
       "      <td>NaN</td>\n",
       "      <td>NaN</td>\n",
       "      <td>NaN</td>\n",
       "      <td>NaN</td>\n",
       "      <td>NaN</td>\n",
       "    </tr>\n",
       "    <tr>\n",
       "      <th>50367</th>\n",
       "      <td>98417</td>\n",
       "      <td>78</td>\n",
       "      <td>M</td>\n",
       "      <td>2045-08-18 23:00:00</td>\n",
       "      <td>NaN</td>\n",
       "      <td>NaN</td>\n",
       "      <td>NaN</td>\n",
       "      <td>NaN</td>\n",
       "      <td>NaN</td>\n",
       "    </tr>\n",
       "    <tr>\n",
       "      <th>50368</th>\n",
       "      <td>99286</td>\n",
       "      <td>57</td>\n",
       "      <td>F</td>\n",
       "      <td>2103-01-19 00:00:00</td>\n",
       "      <td>NaN</td>\n",
       "      <td>NaN</td>\n",
       "      <td>NaN</td>\n",
       "      <td>NaN</td>\n",
       "      <td>NaN</td>\n",
       "    </tr>\n",
       "    <tr>\n",
       "      <th>50369</th>\n",
       "      <td>99564</td>\n",
       "      <td>62</td>\n",
       "      <td>M</td>\n",
       "      <td>2094-05-17 23:00:00</td>\n",
       "      <td>NaN</td>\n",
       "      <td>NaN</td>\n",
       "      <td>NaN</td>\n",
       "      <td>NaN</td>\n",
       "      <td>NaN</td>\n",
       "    </tr>\n",
       "  </tbody>\n",
       "</table>\n",
       "</div>"
      ],
      "text/plain": [
       "       person_id  age gender           birth_date F_T2D_Diag F_ALZ_Diag  \\\n",
       "50365      96746   75      F  2122-05-22 23:00:00        NaN        NaN   \n",
       "50366      97592   35      M  2144-06-11 23:00:00        NaN        NaN   \n",
       "50367      98417   78      M  2045-08-18 23:00:00        NaN        NaN   \n",
       "50368      99286   57      F  2103-01-19 00:00:00        NaN        NaN   \n",
       "50369      99564   62      M  2094-05-17 23:00:00        NaN        NaN   \n",
       "\n",
       "       T2D_OR_AD_FIRST  Age_T2D_First  Age_AD_First  \n",
       "50365              NaN            NaN           NaN  \n",
       "50366              NaN            NaN           NaN  \n",
       "50367              NaN            NaN           NaN  \n",
       "50368              NaN            NaN           NaN  \n",
       "50369              NaN            NaN           NaN  "
      ]
     },
     "execution_count": 4,
     "metadata": {},
     "output_type": "execute_result"
    }
   ],
   "source": [
    "mimic_data.tail(5)"
   ]
  },
  {
   "cell_type": "code",
   "execution_count": 5,
   "metadata": {},
   "outputs": [],
   "source": [
    "columns = ['person_id']\n",
    "mimic_data.drop(columns, inplace=True, axis=1)"
   ]
  },
  {
   "cell_type": "code",
   "execution_count": 6,
   "metadata": {},
   "outputs": [
    {
     "data": {
      "text/plain": [
       "(50370, 8)"
      ]
     },
     "execution_count": 6,
     "metadata": {},
     "output_type": "execute_result"
    }
   ],
   "source": [
    "mimic_data.shape"
   ]
  },
  {
   "cell_type": "code",
   "execution_count": 7,
   "metadata": {},
   "outputs": [
    {
     "data": {
      "text/plain": [
       "age                50370\n",
       "gender             50370\n",
       "birth_date         50370\n",
       "F_T2D_Diag         11675\n",
       "F_ALZ_Diag           455\n",
       "T2D_OR_AD_FIRST      138\n",
       "Age_T2D_First      11675\n",
       "Age_AD_First         455\n",
       "dtype: int64"
      ]
     },
     "execution_count": 7,
     "metadata": {},
     "output_type": "execute_result"
    }
   ],
   "source": [
    "mimic_data.count()"
   ]
  },
  {
   "cell_type": "code",
   "execution_count": 8,
   "metadata": {},
   "outputs": [
    {
     "data": {
      "text/html": [
       "<div>\n",
       "<style scoped>\n",
       "    .dataframe tbody tr th:only-of-type {\n",
       "        vertical-align: middle;\n",
       "    }\n",
       "\n",
       "    .dataframe tbody tr th {\n",
       "        vertical-align: top;\n",
       "    }\n",
       "\n",
       "    .dataframe thead th {\n",
       "        text-align: right;\n",
       "    }\n",
       "</style>\n",
       "<table border=\"1\" class=\"dataframe\">\n",
       "  <thead>\n",
       "    <tr style=\"text-align: right;\">\n",
       "      <th></th>\n",
       "      <th>age</th>\n",
       "      <th>gender</th>\n",
       "      <th>birth_date</th>\n",
       "      <th>F_T2D_Diag</th>\n",
       "      <th>F_ALZ_Diag</th>\n",
       "      <th>T2D_OR_AD_FIRST</th>\n",
       "      <th>Age_T2D_First</th>\n",
       "      <th>Age_AD_First</th>\n",
       "    </tr>\n",
       "  </thead>\n",
       "  <tbody>\n",
       "    <tr>\n",
       "      <th>0</th>\n",
       "      <td>False</td>\n",
       "      <td>False</td>\n",
       "      <td>False</td>\n",
       "      <td>True</td>\n",
       "      <td>True</td>\n",
       "      <td>True</td>\n",
       "      <td>True</td>\n",
       "      <td>True</td>\n",
       "    </tr>\n",
       "    <tr>\n",
       "      <th>1</th>\n",
       "      <td>False</td>\n",
       "      <td>False</td>\n",
       "      <td>False</td>\n",
       "      <td>True</td>\n",
       "      <td>True</td>\n",
       "      <td>True</td>\n",
       "      <td>True</td>\n",
       "      <td>True</td>\n",
       "    </tr>\n",
       "    <tr>\n",
       "      <th>2</th>\n",
       "      <td>False</td>\n",
       "      <td>False</td>\n",
       "      <td>False</td>\n",
       "      <td>True</td>\n",
       "      <td>True</td>\n",
       "      <td>True</td>\n",
       "      <td>True</td>\n",
       "      <td>True</td>\n",
       "    </tr>\n",
       "    <tr>\n",
       "      <th>3</th>\n",
       "      <td>False</td>\n",
       "      <td>False</td>\n",
       "      <td>False</td>\n",
       "      <td>True</td>\n",
       "      <td>True</td>\n",
       "      <td>True</td>\n",
       "      <td>True</td>\n",
       "      <td>True</td>\n",
       "    </tr>\n",
       "    <tr>\n",
       "      <th>4</th>\n",
       "      <td>False</td>\n",
       "      <td>False</td>\n",
       "      <td>False</td>\n",
       "      <td>True</td>\n",
       "      <td>True</td>\n",
       "      <td>True</td>\n",
       "      <td>True</td>\n",
       "      <td>True</td>\n",
       "    </tr>\n",
       "    <tr>\n",
       "      <th>...</th>\n",
       "      <td>...</td>\n",
       "      <td>...</td>\n",
       "      <td>...</td>\n",
       "      <td>...</td>\n",
       "      <td>...</td>\n",
       "      <td>...</td>\n",
       "      <td>...</td>\n",
       "      <td>...</td>\n",
       "    </tr>\n",
       "    <tr>\n",
       "      <th>50365</th>\n",
       "      <td>False</td>\n",
       "      <td>False</td>\n",
       "      <td>False</td>\n",
       "      <td>True</td>\n",
       "      <td>True</td>\n",
       "      <td>True</td>\n",
       "      <td>True</td>\n",
       "      <td>True</td>\n",
       "    </tr>\n",
       "    <tr>\n",
       "      <th>50366</th>\n",
       "      <td>False</td>\n",
       "      <td>False</td>\n",
       "      <td>False</td>\n",
       "      <td>True</td>\n",
       "      <td>True</td>\n",
       "      <td>True</td>\n",
       "      <td>True</td>\n",
       "      <td>True</td>\n",
       "    </tr>\n",
       "    <tr>\n",
       "      <th>50367</th>\n",
       "      <td>False</td>\n",
       "      <td>False</td>\n",
       "      <td>False</td>\n",
       "      <td>True</td>\n",
       "      <td>True</td>\n",
       "      <td>True</td>\n",
       "      <td>True</td>\n",
       "      <td>True</td>\n",
       "    </tr>\n",
       "    <tr>\n",
       "      <th>50368</th>\n",
       "      <td>False</td>\n",
       "      <td>False</td>\n",
       "      <td>False</td>\n",
       "      <td>True</td>\n",
       "      <td>True</td>\n",
       "      <td>True</td>\n",
       "      <td>True</td>\n",
       "      <td>True</td>\n",
       "    </tr>\n",
       "    <tr>\n",
       "      <th>50369</th>\n",
       "      <td>False</td>\n",
       "      <td>False</td>\n",
       "      <td>False</td>\n",
       "      <td>True</td>\n",
       "      <td>True</td>\n",
       "      <td>True</td>\n",
       "      <td>True</td>\n",
       "      <td>True</td>\n",
       "    </tr>\n",
       "  </tbody>\n",
       "</table>\n",
       "<p>50370 rows × 8 columns</p>\n",
       "</div>"
      ],
      "text/plain": [
       "         age  gender  birth_date  F_T2D_Diag  F_ALZ_Diag  T2D_OR_AD_FIRST  \\\n",
       "0      False   False       False        True        True             True   \n",
       "1      False   False       False        True        True             True   \n",
       "2      False   False       False        True        True             True   \n",
       "3      False   False       False        True        True             True   \n",
       "4      False   False       False        True        True             True   \n",
       "...      ...     ...         ...         ...         ...              ...   \n",
       "50365  False   False       False        True        True             True   \n",
       "50366  False   False       False        True        True             True   \n",
       "50367  False   False       False        True        True             True   \n",
       "50368  False   False       False        True        True             True   \n",
       "50369  False   False       False        True        True             True   \n",
       "\n",
       "       Age_T2D_First  Age_AD_First  \n",
       "0               True          True  \n",
       "1               True          True  \n",
       "2               True          True  \n",
       "3               True          True  \n",
       "4               True          True  \n",
       "...              ...           ...  \n",
       "50365           True          True  \n",
       "50366           True          True  \n",
       "50367           True          True  \n",
       "50368           True          True  \n",
       "50369           True          True  \n",
       "\n",
       "[50370 rows x 8 columns]"
      ]
     },
     "execution_count": 8,
     "metadata": {},
     "output_type": "execute_result"
    }
   ],
   "source": [
    "pd.isnull(mimic_data)"
   ]
  },
  {
   "cell_type": "code",
   "execution_count": 9,
   "metadata": {},
   "outputs": [
    {
     "data": {
      "text/plain": [
       "age                    0\n",
       "gender                 0\n",
       "birth_date             0\n",
       "F_T2D_Diag         38695\n",
       "F_ALZ_Diag         49915\n",
       "T2D_OR_AD_FIRST    50232\n",
       "Age_T2D_First      38695\n",
       "Age_AD_First       49915\n",
       "dtype: int64"
      ]
     },
     "execution_count": 9,
     "metadata": {},
     "output_type": "execute_result"
    }
   ],
   "source": [
    "mimic_data.isnull().sum()"
   ]
  },
  {
   "cell_type": "code",
   "execution_count": 10,
   "metadata": {},
   "outputs": [],
   "source": [
    "mimic_data=mimic_data.fillna(\" \")"
   ]
  },
  {
   "cell_type": "code",
   "execution_count": 11,
   "metadata": {},
   "outputs": [
    {
     "data": {
      "text/plain": [
       "age                0\n",
       "gender             0\n",
       "birth_date         0\n",
       "F_T2D_Diag         0\n",
       "F_ALZ_Diag         0\n",
       "T2D_OR_AD_FIRST    0\n",
       "Age_T2D_First      0\n",
       "Age_AD_First       0\n",
       "dtype: int64"
      ]
     },
     "execution_count": 11,
     "metadata": {},
     "output_type": "execute_result"
    }
   ],
   "source": [
    "mimic_data.isnull().sum()"
   ]
  },
  {
   "cell_type": "code",
   "execution_count": 12,
   "metadata": {},
   "outputs": [
    {
     "name": "stdout",
     "output_type": "stream",
     "text": [
      "<class 'pandas.core.frame.DataFrame'>\n",
      "Int64Index: 50370 entries, 0 to 50369\n",
      "Data columns (total 8 columns):\n",
      " #   Column           Non-Null Count  Dtype \n",
      "---  ------           --------------  ----- \n",
      " 0   age              50370 non-null  int64 \n",
      " 1   gender           50370 non-null  object\n",
      " 2   birth_date       50370 non-null  object\n",
      " 3   F_T2D_Diag       50370 non-null  object\n",
      " 4   F_ALZ_Diag       50370 non-null  object\n",
      " 5   T2D_OR_AD_FIRST  50370 non-null  object\n",
      " 6   Age_T2D_First    50370 non-null  object\n",
      " 7   Age_AD_First     50370 non-null  object\n",
      "dtypes: int64(1), object(7)\n",
      "memory usage: 3.5+ MB\n"
     ]
    }
   ],
   "source": [
    "mimic_data.info()"
   ]
  },
  {
   "cell_type": "code",
   "execution_count": 13,
   "metadata": {},
   "outputs": [
    {
     "data": {
      "text/plain": [
       "age                50370\n",
       "gender             50370\n",
       "birth_date         50370\n",
       "F_T2D_Diag         50370\n",
       "F_ALZ_Diag         50370\n",
       "T2D_OR_AD_FIRST    50370\n",
       "Age_T2D_First      50370\n",
       "Age_AD_First       50370\n",
       "dtype: int64"
      ]
     },
     "execution_count": 13,
     "metadata": {},
     "output_type": "execute_result"
    }
   ],
   "source": [
    "mimic_data.count()"
   ]
  },
  {
   "cell_type": "code",
   "execution_count": 14,
   "metadata": {},
   "outputs": [
    {
     "data": {
      "text/html": [
       "<div>\n",
       "<style scoped>\n",
       "    .dataframe tbody tr th:only-of-type {\n",
       "        vertical-align: middle;\n",
       "    }\n",
       "\n",
       "    .dataframe tbody tr th {\n",
       "        vertical-align: top;\n",
       "    }\n",
       "\n",
       "    .dataframe thead th {\n",
       "        text-align: right;\n",
       "    }\n",
       "</style>\n",
       "<table border=\"1\" class=\"dataframe\">\n",
       "  <thead>\n",
       "    <tr style=\"text-align: right;\">\n",
       "      <th></th>\n",
       "      <th>age</th>\n",
       "      <th>gender</th>\n",
       "      <th>birth_date</th>\n",
       "      <th>F_T2D_Diag</th>\n",
       "      <th>F_ALZ_Diag</th>\n",
       "      <th>T2D_OR_AD_FIRST</th>\n",
       "      <th>Age_T2D_First</th>\n",
       "      <th>Age_AD_First</th>\n",
       "    </tr>\n",
       "  </thead>\n",
       "  <tbody>\n",
       "    <tr>\n",
       "      <th>50270</th>\n",
       "      <td>0</td>\n",
       "      <td>F</td>\n",
       "      <td>2135-09-13 23:00:00</td>\n",
       "      <td></td>\n",
       "      <td></td>\n",
       "      <td></td>\n",
       "      <td></td>\n",
       "      <td></td>\n",
       "    </tr>\n",
       "    <tr>\n",
       "      <th>50271</th>\n",
       "      <td>53</td>\n",
       "      <td>F</td>\n",
       "      <td>2114-02-04 00:00:00</td>\n",
       "      <td></td>\n",
       "      <td></td>\n",
       "      <td></td>\n",
       "      <td></td>\n",
       "      <td></td>\n",
       "    </tr>\n",
       "    <tr>\n",
       "      <th>50272</th>\n",
       "      <td>44</td>\n",
       "      <td>F</td>\n",
       "      <td>2154-04-09 23:00:00</td>\n",
       "      <td></td>\n",
       "      <td></td>\n",
       "      <td></td>\n",
       "      <td></td>\n",
       "      <td></td>\n",
       "    </tr>\n",
       "    <tr>\n",
       "      <th>50273</th>\n",
       "      <td>40</td>\n",
       "      <td>F</td>\n",
       "      <td>2154-04-09 23:00:00</td>\n",
       "      <td></td>\n",
       "      <td></td>\n",
       "      <td></td>\n",
       "      <td></td>\n",
       "      <td></td>\n",
       "    </tr>\n",
       "    <tr>\n",
       "      <th>50274</th>\n",
       "      <td>51</td>\n",
       "      <td>M</td>\n",
       "      <td>2135-04-21 23:00:00</td>\n",
       "      <td></td>\n",
       "      <td></td>\n",
       "      <td></td>\n",
       "      <td></td>\n",
       "      <td></td>\n",
       "    </tr>\n",
       "    <tr>\n",
       "      <th>...</th>\n",
       "      <td>...</td>\n",
       "      <td>...</td>\n",
       "      <td>...</td>\n",
       "      <td>...</td>\n",
       "      <td>...</td>\n",
       "      <td>...</td>\n",
       "      <td>...</td>\n",
       "      <td>...</td>\n",
       "    </tr>\n",
       "    <tr>\n",
       "      <th>50365</th>\n",
       "      <td>75</td>\n",
       "      <td>F</td>\n",
       "      <td>2122-05-22 23:00:00</td>\n",
       "      <td></td>\n",
       "      <td></td>\n",
       "      <td></td>\n",
       "      <td></td>\n",
       "      <td></td>\n",
       "    </tr>\n",
       "    <tr>\n",
       "      <th>50366</th>\n",
       "      <td>35</td>\n",
       "      <td>M</td>\n",
       "      <td>2144-06-11 23:00:00</td>\n",
       "      <td></td>\n",
       "      <td></td>\n",
       "      <td></td>\n",
       "      <td></td>\n",
       "      <td></td>\n",
       "    </tr>\n",
       "    <tr>\n",
       "      <th>50367</th>\n",
       "      <td>78</td>\n",
       "      <td>M</td>\n",
       "      <td>2045-08-18 23:00:00</td>\n",
       "      <td></td>\n",
       "      <td></td>\n",
       "      <td></td>\n",
       "      <td></td>\n",
       "      <td></td>\n",
       "    </tr>\n",
       "    <tr>\n",
       "      <th>50368</th>\n",
       "      <td>57</td>\n",
       "      <td>F</td>\n",
       "      <td>2103-01-19 00:00:00</td>\n",
       "      <td></td>\n",
       "      <td></td>\n",
       "      <td></td>\n",
       "      <td></td>\n",
       "      <td></td>\n",
       "    </tr>\n",
       "    <tr>\n",
       "      <th>50369</th>\n",
       "      <td>62</td>\n",
       "      <td>M</td>\n",
       "      <td>2094-05-17 23:00:00</td>\n",
       "      <td></td>\n",
       "      <td></td>\n",
       "      <td></td>\n",
       "      <td></td>\n",
       "      <td></td>\n",
       "    </tr>\n",
       "  </tbody>\n",
       "</table>\n",
       "<p>100 rows × 8 columns</p>\n",
       "</div>"
      ],
      "text/plain": [
       "       age gender           birth_date F_T2D_Diag F_ALZ_Diag T2D_OR_AD_FIRST  \\\n",
       "50270    0      F  2135-09-13 23:00:00                                         \n",
       "50271   53      F  2114-02-04 00:00:00                                         \n",
       "50272   44      F  2154-04-09 23:00:00                                         \n",
       "50273   40      F  2154-04-09 23:00:00                                         \n",
       "50274   51      M  2135-04-21 23:00:00                                         \n",
       "...    ...    ...                  ...        ...        ...             ...   \n",
       "50365   75      F  2122-05-22 23:00:00                                         \n",
       "50366   35      M  2144-06-11 23:00:00                                         \n",
       "50367   78      M  2045-08-18 23:00:00                                         \n",
       "50368   57      F  2103-01-19 00:00:00                                         \n",
       "50369   62      M  2094-05-17 23:00:00                                         \n",
       "\n",
       "      Age_T2D_First Age_AD_First  \n",
       "50270                             \n",
       "50271                             \n",
       "50272                             \n",
       "50273                             \n",
       "50274                             \n",
       "...             ...          ...  \n",
       "50365                             \n",
       "50366                             \n",
       "50367                             \n",
       "50368                             \n",
       "50369                             \n",
       "\n",
       "[100 rows x 8 columns]"
      ]
     },
     "execution_count": 14,
     "metadata": {},
     "output_type": "execute_result"
    }
   ],
   "source": [
    "mimic_data.tail(100)"
   ]
  },
  {
   "cell_type": "code",
   "execution_count": 15,
   "metadata": {},
   "outputs": [
    {
     "data": {
      "text/plain": [
       "array([0, 1])"
      ]
     },
     "execution_count": 15,
     "metadata": {},
     "output_type": "execute_result"
    }
   ],
   "source": [
    "# Import label encoder \n",
    "from sklearn import preprocessing \n",
    "\n",
    "# label_encoder object knows how to understand word labels. \n",
    "label_encoder = preprocessing.LabelEncoder() \n",
    "\n",
    "# Encode labels in columns\n",
    "mimic_data['gender']= label_encoder.fit_transform(mimic_data['gender'])\n",
    "\n",
    "mimic_data['gender'].unique()"
   ]
  },
  {
   "cell_type": "code",
   "execution_count": 16,
   "metadata": {},
   "outputs": [],
   "source": [
    "mimic_data[\"Age_T2D_First\"] = pd.to_numeric(mimic_data.Age_T2D_First,errors='coerce')"
   ]
  },
  {
   "cell_type": "code",
   "execution_count": 17,
   "metadata": {},
   "outputs": [],
   "source": [
    "mimic_data[\"Age_AD_First\"] = pd.to_numeric(mimic_data.Age_AD_First,errors='coerce')"
   ]
  },
  {
   "cell_type": "code",
   "execution_count": 18,
   "metadata": {},
   "outputs": [],
   "source": [
    "mimic_data[\"T2D_OR_AD_FIRST\"] = pd.to_numeric(mimic_data.T2D_OR_AD_FIRST,errors='coerce')"
   ]
  },
  {
   "cell_type": "code",
   "execution_count": 19,
   "metadata": {},
   "outputs": [
    {
     "name": "stdout",
     "output_type": "stream",
     "text": [
      "<class 'pandas.core.frame.DataFrame'>\n",
      "Int64Index: 50370 entries, 0 to 50369\n",
      "Data columns (total 8 columns):\n",
      " #   Column           Non-Null Count  Dtype  \n",
      "---  ------           --------------  -----  \n",
      " 0   age              50370 non-null  int64  \n",
      " 1   gender           50370 non-null  int32  \n",
      " 2   birth_date       50370 non-null  object \n",
      " 3   F_T2D_Diag       50370 non-null  object \n",
      " 4   F_ALZ_Diag       50370 non-null  object \n",
      " 5   T2D_OR_AD_FIRST  138 non-null    float64\n",
      " 6   Age_T2D_First    11675 non-null  float64\n",
      " 7   Age_AD_First     455 non-null    float64\n",
      "dtypes: float64(3), int32(1), int64(1), object(3)\n",
      "memory usage: 3.3+ MB\n"
     ]
    }
   ],
   "source": [
    "mimic_data.info()"
   ]
  },
  {
   "cell_type": "code",
   "execution_count": 20,
   "metadata": {},
   "outputs": [
    {
     "data": {
      "text/html": [
       "<div>\n",
       "<style scoped>\n",
       "    .dataframe tbody tr th:only-of-type {\n",
       "        vertical-align: middle;\n",
       "    }\n",
       "\n",
       "    .dataframe tbody tr th {\n",
       "        vertical-align: top;\n",
       "    }\n",
       "\n",
       "    .dataframe thead th {\n",
       "        text-align: right;\n",
       "    }\n",
       "</style>\n",
       "<table border=\"1\" class=\"dataframe\">\n",
       "  <thead>\n",
       "    <tr style=\"text-align: right;\">\n",
       "      <th></th>\n",
       "      <th>age</th>\n",
       "      <th>gender</th>\n",
       "      <th>T2D_OR_AD_FIRST</th>\n",
       "      <th>Age_T2D_First</th>\n",
       "      <th>Age_AD_First</th>\n",
       "    </tr>\n",
       "  </thead>\n",
       "  <tbody>\n",
       "    <tr>\n",
       "      <th>count</th>\n",
       "      <td>50370.000000</td>\n",
       "      <td>50370.000000</td>\n",
       "      <td>138.000000</td>\n",
       "      <td>11675.000000</td>\n",
       "      <td>455.000000</td>\n",
       "    </tr>\n",
       "    <tr>\n",
       "      <th>mean</th>\n",
       "      <td>52.296089</td>\n",
       "      <td>0.568533</td>\n",
       "      <td>-0.773536</td>\n",
       "      <td>66.596241</td>\n",
       "      <td>80.042187</td>\n",
       "    </tr>\n",
       "    <tr>\n",
       "      <th>std</th>\n",
       "      <td>27.232919</td>\n",
       "      <td>0.495286</td>\n",
       "      <td>1.971288</td>\n",
       "      <td>12.688767</td>\n",
       "      <td>7.428493</td>\n",
       "    </tr>\n",
       "    <tr>\n",
       "      <th>min</th>\n",
       "      <td>0.000000</td>\n",
       "      <td>0.000000</td>\n",
       "      <td>-7.951000</td>\n",
       "      <td>16.073000</td>\n",
       "      <td>47.651000</td>\n",
       "    </tr>\n",
       "    <tr>\n",
       "      <th>25%</th>\n",
       "      <td>40.000000</td>\n",
       "      <td>0.000000</td>\n",
       "      <td>0.000000</td>\n",
       "      <td>58.253000</td>\n",
       "      <td>76.226000</td>\n",
       "    </tr>\n",
       "    <tr>\n",
       "      <th>50%</th>\n",
       "      <td>60.000000</td>\n",
       "      <td>1.000000</td>\n",
       "      <td>0.000000</td>\n",
       "      <td>67.654000</td>\n",
       "      <td>81.930000</td>\n",
       "    </tr>\n",
       "    <tr>\n",
       "      <th>75%</th>\n",
       "      <td>73.000000</td>\n",
       "      <td>1.000000</td>\n",
       "      <td>0.000000</td>\n",
       "      <td>76.645000</td>\n",
       "      <td>85.243000</td>\n",
       "    </tr>\n",
       "    <tr>\n",
       "      <th>max</th>\n",
       "      <td>89.000000</td>\n",
       "      <td>1.000000</td>\n",
       "      <td>1.046000</td>\n",
       "      <td>89.063000</td>\n",
       "      <td>89.052000</td>\n",
       "    </tr>\n",
       "  </tbody>\n",
       "</table>\n",
       "</div>"
      ],
      "text/plain": [
       "                age        gender  T2D_OR_AD_FIRST  Age_T2D_First  \\\n",
       "count  50370.000000  50370.000000       138.000000   11675.000000   \n",
       "mean      52.296089      0.568533        -0.773536      66.596241   \n",
       "std       27.232919      0.495286         1.971288      12.688767   \n",
       "min        0.000000      0.000000        -7.951000      16.073000   \n",
       "25%       40.000000      0.000000         0.000000      58.253000   \n",
       "50%       60.000000      1.000000         0.000000      67.654000   \n",
       "75%       73.000000      1.000000         0.000000      76.645000   \n",
       "max       89.000000      1.000000         1.046000      89.063000   \n",
       "\n",
       "       Age_AD_First  \n",
       "count    455.000000  \n",
       "mean      80.042187  \n",
       "std        7.428493  \n",
       "min       47.651000  \n",
       "25%       76.226000  \n",
       "50%       81.930000  \n",
       "75%       85.243000  \n",
       "max       89.052000  "
      ]
     },
     "execution_count": 20,
     "metadata": {},
     "output_type": "execute_result"
    }
   ],
   "source": [
    "mimic_data.describe()"
   ]
  },
  {
   "cell_type": "code",
   "execution_count": 21,
   "metadata": {},
   "outputs": [
    {
     "data": {
      "text/html": [
       "<div>\n",
       "<style scoped>\n",
       "    .dataframe tbody tr th:only-of-type {\n",
       "        vertical-align: middle;\n",
       "    }\n",
       "\n",
       "    .dataframe tbody tr th {\n",
       "        vertical-align: top;\n",
       "    }\n",
       "\n",
       "    .dataframe thead th {\n",
       "        text-align: right;\n",
       "    }\n",
       "</style>\n",
       "<table border=\"1\" class=\"dataframe\">\n",
       "  <thead>\n",
       "    <tr style=\"text-align: right;\">\n",
       "      <th></th>\n",
       "      <th>age</th>\n",
       "      <th>gender</th>\n",
       "      <th>T2D_OR_AD_FIRST</th>\n",
       "      <th>Age_T2D_First</th>\n",
       "      <th>Age_AD_First</th>\n",
       "    </tr>\n",
       "  </thead>\n",
       "  <tbody>\n",
       "    <tr>\n",
       "      <th>age</th>\n",
       "      <td>1.000000</td>\n",
       "      <td>-0.011106</td>\n",
       "      <td>0.128288</td>\n",
       "      <td>0.991179</td>\n",
       "      <td>0.979540</td>\n",
       "    </tr>\n",
       "    <tr>\n",
       "      <th>gender</th>\n",
       "      <td>-0.011106</td>\n",
       "      <td>1.000000</td>\n",
       "      <td>-0.107406</td>\n",
       "      <td>-0.063784</td>\n",
       "      <td>-0.155171</td>\n",
       "    </tr>\n",
       "    <tr>\n",
       "      <th>T2D_OR_AD_FIRST</th>\n",
       "      <td>0.128288</td>\n",
       "      <td>-0.107406</td>\n",
       "      <td>1.000000</td>\n",
       "      <td>0.271661</td>\n",
       "      <td>0.004383</td>\n",
       "    </tr>\n",
       "    <tr>\n",
       "      <th>Age_T2D_First</th>\n",
       "      <td>0.991179</td>\n",
       "      <td>-0.063784</td>\n",
       "      <td>0.271661</td>\n",
       "      <td>1.000000</td>\n",
       "      <td>0.963574</td>\n",
       "    </tr>\n",
       "    <tr>\n",
       "      <th>Age_AD_First</th>\n",
       "      <td>0.979540</td>\n",
       "      <td>-0.155171</td>\n",
       "      <td>0.004383</td>\n",
       "      <td>0.963574</td>\n",
       "      <td>1.000000</td>\n",
       "    </tr>\n",
       "  </tbody>\n",
       "</table>\n",
       "</div>"
      ],
      "text/plain": [
       "                      age    gender  T2D_OR_AD_FIRST  Age_T2D_First  \\\n",
       "age              1.000000 -0.011106         0.128288       0.991179   \n",
       "gender          -0.011106  1.000000        -0.107406      -0.063784   \n",
       "T2D_OR_AD_FIRST  0.128288 -0.107406         1.000000       0.271661   \n",
       "Age_T2D_First    0.991179 -0.063784         0.271661       1.000000   \n",
       "Age_AD_First     0.979540 -0.155171         0.004383       0.963574   \n",
       "\n",
       "                 Age_AD_First  \n",
       "age                  0.979540  \n",
       "gender              -0.155171  \n",
       "T2D_OR_AD_FIRST      0.004383  \n",
       "Age_T2D_First        0.963574  \n",
       "Age_AD_First         1.000000  "
      ]
     },
     "execution_count": 21,
     "metadata": {},
     "output_type": "execute_result"
    }
   ],
   "source": [
    "mimic_data.corr() # Pearson Correlation Coefficients"
   ]
  },
  {
   "cell_type": "code",
   "execution_count": 22,
   "metadata": {},
   "outputs": [
    {
     "data": {
      "text/plain": [
       "array([[1., 1., 1., 1., 1.],\n",
       "       [0., 1., 1., 1., 1.],\n",
       "       [0., 0., 1., 1., 1.],\n",
       "       [0., 0., 0., 1., 1.],\n",
       "       [0., 0., 0., 0., 1.]])"
      ]
     },
     "execution_count": 22,
     "metadata": {},
     "output_type": "execute_result"
    }
   ],
   "source": [
    "mask = np.zeros_like(mimic_data.corr())\n",
    "triangle_indices = np.triu_indices_from(mask)\n",
    "mask[triangle_indices] = True\n",
    "mask"
   ]
  },
  {
   "cell_type": "code",
   "execution_count": 23,
   "metadata": {},
   "outputs": [
    {
     "data": {
      "image/png": "[encoded data removed]",
      "text/plain": [
       "<Figure size 1152x720 with 2 Axes>"
      ]
     },
     "metadata": {
      "needs_background": "light"
     },
     "output_type": "display_data"
    }
   ],
   "source": [
    "plt.figure(figsize=(16,10))\n",
    "sns.heatmap(mimic_data.corr(), mask=mask, annot=True, annot_kws={\"size\": 14})\n",
    "sns.set_style('white')\n",
    "plt.xticks(fontsize=14)\n",
    "plt.yticks(fontsize=14)\n",
    "plt.show()"
   ]
  },
  {
   "cell_type": "code",
   "execution_count": 24,
   "metadata": {},
   "outputs": [
    {
     "data": {
      "text/html": [
       "<div>\n",
       "<style scoped>\n",
       "    .dataframe tbody tr th:only-of-type {\n",
       "        vertical-align: middle;\n",
       "    }\n",
       "\n",
       "    .dataframe tbody tr th {\n",
       "        vertical-align: top;\n",
       "    }\n",
       "\n",
       "    .dataframe thead th {\n",
       "        text-align: right;\n",
       "    }\n",
       "</style>\n",
       "<table border=\"1\" class=\"dataframe\">\n",
       "  <thead>\n",
       "    <tr style=\"text-align: right;\">\n",
       "      <th></th>\n",
       "      <th>age</th>\n",
       "      <th>gender</th>\n",
       "      <th>birth_date</th>\n",
       "      <th>F_T2D_Diag</th>\n",
       "      <th>F_ALZ_Diag</th>\n",
       "      <th>T2D_OR_AD_FIRST</th>\n",
       "      <th>Age_T2D_First</th>\n",
       "      <th>Age_AD_First</th>\n",
       "    </tr>\n",
       "  </thead>\n",
       "  <tbody>\n",
       "    <tr>\n",
       "      <th>50270</th>\n",
       "      <td>0</td>\n",
       "      <td>0</td>\n",
       "      <td>2135-09-13 23:00:00</td>\n",
       "      <td></td>\n",
       "      <td></td>\n",
       "      <td>NaN</td>\n",
       "      <td>NaN</td>\n",
       "      <td>NaN</td>\n",
       "    </tr>\n",
       "    <tr>\n",
       "      <th>50271</th>\n",
       "      <td>53</td>\n",
       "      <td>0</td>\n",
       "      <td>2114-02-04 00:00:00</td>\n",
       "      <td></td>\n",
       "      <td></td>\n",
       "      <td>NaN</td>\n",
       "      <td>NaN</td>\n",
       "      <td>NaN</td>\n",
       "    </tr>\n",
       "    <tr>\n",
       "      <th>50272</th>\n",
       "      <td>44</td>\n",
       "      <td>0</td>\n",
       "      <td>2154-04-09 23:00:00</td>\n",
       "      <td></td>\n",
       "      <td></td>\n",
       "      <td>NaN</td>\n",
       "      <td>NaN</td>\n",
       "      <td>NaN</td>\n",
       "    </tr>\n",
       "    <tr>\n",
       "      <th>50273</th>\n",
       "      <td>40</td>\n",
       "      <td>0</td>\n",
       "      <td>2154-04-09 23:00:00</td>\n",
       "      <td></td>\n",
       "      <td></td>\n",
       "      <td>NaN</td>\n",
       "      <td>NaN</td>\n",
       "      <td>NaN</td>\n",
       "    </tr>\n",
       "    <tr>\n",
       "      <th>50274</th>\n",
       "      <td>51</td>\n",
       "      <td>1</td>\n",
       "      <td>2135-04-21 23:00:00</td>\n",
       "      <td></td>\n",
       "      <td></td>\n",
       "      <td>NaN</td>\n",
       "      <td>NaN</td>\n",
       "      <td>NaN</td>\n",
       "    </tr>\n",
       "    <tr>\n",
       "      <th>...</th>\n",
       "      <td>...</td>\n",
       "      <td>...</td>\n",
       "      <td>...</td>\n",
       "      <td>...</td>\n",
       "      <td>...</td>\n",
       "      <td>...</td>\n",
       "      <td>...</td>\n",
       "      <td>...</td>\n",
       "    </tr>\n",
       "    <tr>\n",
       "      <th>50365</th>\n",
       "      <td>75</td>\n",
       "      <td>0</td>\n",
       "      <td>2122-05-22 23:00:00</td>\n",
       "      <td></td>\n",
       "      <td></td>\n",
       "      <td>NaN</td>\n",
       "      <td>NaN</td>\n",
       "      <td>NaN</td>\n",
       "    </tr>\n",
       "    <tr>\n",
       "      <th>50366</th>\n",
       "      <td>35</td>\n",
       "      <td>1</td>\n",
       "      <td>2144-06-11 23:00:00</td>\n",
       "      <td></td>\n",
       "      <td></td>\n",
       "      <td>NaN</td>\n",
       "      <td>NaN</td>\n",
       "      <td>NaN</td>\n",
       "    </tr>\n",
       "    <tr>\n",
       "      <th>50367</th>\n",
       "      <td>78</td>\n",
       "      <td>1</td>\n",
       "      <td>2045-08-18 23:00:00</td>\n",
       "      <td></td>\n",
       "      <td></td>\n",
       "      <td>NaN</td>\n",
       "      <td>NaN</td>\n",
       "      <td>NaN</td>\n",
       "    </tr>\n",
       "    <tr>\n",
       "      <th>50368</th>\n",
       "      <td>57</td>\n",
       "      <td>0</td>\n",
       "      <td>2103-01-19 00:00:00</td>\n",
       "      <td></td>\n",
       "      <td></td>\n",
       "      <td>NaN</td>\n",
       "      <td>NaN</td>\n",
       "      <td>NaN</td>\n",
       "    </tr>\n",
       "    <tr>\n",
       "      <th>50369</th>\n",
       "      <td>62</td>\n",
       "      <td>1</td>\n",
       "      <td>2094-05-17 23:00:00</td>\n",
       "      <td></td>\n",
       "      <td></td>\n",
       "      <td>NaN</td>\n",
       "      <td>NaN</td>\n",
       "      <td>NaN</td>\n",
       "    </tr>\n",
       "  </tbody>\n",
       "</table>\n",
       "<p>100 rows × 8 columns</p>\n",
       "</div>"
      ],
      "text/plain": [
       "       age  gender           birth_date F_T2D_Diag F_ALZ_Diag  \\\n",
       "50270    0       0  2135-09-13 23:00:00                         \n",
       "50271   53       0  2114-02-04 00:00:00                         \n",
       "50272   44       0  2154-04-09 23:00:00                         \n",
       "50273   40       0  2154-04-09 23:00:00                         \n",
       "50274   51       1  2135-04-21 23:00:00                         \n",
       "...    ...     ...                  ...        ...        ...   \n",
       "50365   75       0  2122-05-22 23:00:00                         \n",
       "50366   35       1  2144-06-11 23:00:00                         \n",
       "50367   78       1  2045-08-18 23:00:00                         \n",
       "50368   57       0  2103-01-19 00:00:00                         \n",
       "50369   62       1  2094-05-17 23:00:00                         \n",
       "\n",
       "       T2D_OR_AD_FIRST  Age_T2D_First  Age_AD_First  \n",
       "50270              NaN            NaN           NaN  \n",
       "50271              NaN            NaN           NaN  \n",
       "50272              NaN            NaN           NaN  \n",
       "50273              NaN            NaN           NaN  \n",
       "50274              NaN            NaN           NaN  \n",
       "...                ...            ...           ...  \n",
       "50365              NaN            NaN           NaN  \n",
       "50366              NaN            NaN           NaN  \n",
       "50367              NaN            NaN           NaN  \n",
       "50368              NaN            NaN           NaN  \n",
       "50369              NaN            NaN           NaN  \n",
       "\n",
       "[100 rows x 8 columns]"
      ]
     },
     "execution_count": 24,
     "metadata": {},
     "output_type": "execute_result"
    }
   ],
   "source": [
    "mimic_data.tail(100)"
   ]
  },
  {
   "cell_type": "markdown",
   "metadata": {},
   "source": [
    "## Visualising Data - Histograms, Distributions and Bar Charts"
   ]
  },
  {
   "cell_type": "code",
   "execution_count": 25,
   "metadata": {},
   "outputs": [
    {
     "name": "stderr",
     "output_type": "stream",
     "text": [
      "C:\\Users\\Administrator\\anaconda3\\lib\\site-packages\\numpy\\lib\\histograms.py:839: RuntimeWarning: invalid value encountered in greater_equal\n",
      "  keep = (tmp_a >= first_edge)\n",
      "C:\\Users\\Administrator\\anaconda3\\lib\\site-packages\\numpy\\lib\\histograms.py:840: RuntimeWarning: invalid value encountered in less_equal\n",
      "  keep &= (tmp_a <= last_edge)\n"
     ]
    },
    {
     "data": {
      "image/png": "[encoded data removed]",
      "text/plain": [
       "<Figure size 720x432 with 1 Axes>"
      ]
     },
     "metadata": {},
     "output_type": "display_data"
    }
   ],
   "source": [
    "plt.figure(figsize=(10, 6))\n",
    "plt.hist(mimic_data['Age_T2D_First'], bins=50, ec='black', color='#2196f3')\n",
    "plt.xlabel('Age_T2D_First')\n",
    "plt.ylabel('Population')\n",
    "plt.show()"
   ]
  },
  {
   "cell_type": "code",
   "execution_count": 26,
   "metadata": {},
   "outputs": [
    {
     "data": {
      "image/png": "[encoded data removed]",
      "text/plain": [
       "<Figure size 720x432 with 1 Axes>"
      ]
     },
     "metadata": {},
     "output_type": "display_data"
    }
   ],
   "source": [
    "plt.figure(figsize=(10, 6))\n",
    "plt.hist(mimic_data['Age_AD_First'], bins=50, ec='black', color='green')\n",
    "plt.xlabel('Age_AD_First')\n",
    "plt.ylabel('Population')\n",
    "plt.show()"
   ]
  },
  {
   "cell_type": "code",
   "execution_count": 27,
   "metadata": {},
   "outputs": [
    {
     "data": {
      "image/png": "[encoded data removed]",
      "text/plain": [
       "<Figure size 720x432 with 1 Axes>"
      ]
     },
     "metadata": {},
     "output_type": "display_data"
    }
   ],
   "source": [
    "plt.figure(figsize=(10, 6))\n",
    "plt.hist(mimic_data['T2D_OR_AD_FIRST'], bins=50, ec='black', color='red')\n",
    "plt.xlabel('T2D_OR_AD_FIRST')\n",
    "plt.ylabel('Population')\n",
    "plt.show()"
   ]
  },
  {
   "cell_type": "code",
   "execution_count": 28,
   "metadata": {},
   "outputs": [
    {
     "data": {
      "image/png": "[encoded data removed]",
      "text/plain": [
       "<Figure size 720x432 with 1 Axes>"
      ]
     },
     "metadata": {},
     "output_type": "display_data"
    }
   ],
   "source": [
    "plt.figure(figsize=(10, 6))\n",
    "plt.hist(mimic_data['gender'], bins=24, ec='black', color='#7b1fa2', rwidth=0.5)\n",
    "plt.xlabel('gender')\n",
    "plt.ylabel('No pf people')\n",
    "plt.show()"
   ]
  },
  {
   "cell_type": "code",
   "execution_count": 29,
   "metadata": {},
   "outputs": [
    {
     "data": {
      "text/plain": [
       "Index(['age', 'gender', 'birth_date', 'F_T2D_Diag', 'F_ALZ_Diag',\n",
       "       'T2D_OR_AD_FIRST', 'Age_T2D_First', 'Age_AD_First'],\n",
       "      dtype='object')"
      ]
     },
     "execution_count": 29,
     "metadata": {},
     "output_type": "execute_result"
    }
   ],
   "source": [
    "mimic_data.columns"
   ]
  },
  {
   "cell_type": "code",
   "execution_count": 30,
   "metadata": {},
   "outputs": [
    {
     "data": {
      "text/plain": [
       "count    11675.000000\n",
       "mean        66.596241\n",
       "std         12.688767\n",
       "min         16.073000\n",
       "25%         58.253000\n",
       "50%         67.654000\n",
       "75%         76.645000\n",
       "max         89.063000\n",
       "Name: Age_T2D_First, dtype: float64"
      ]
     },
     "execution_count": 30,
     "metadata": {},
     "output_type": "execute_result"
    }
   ],
   "source": [
    "mimic_data['Age_T2D_First'].describe()"
   ]
  },
  {
   "cell_type": "code",
   "execution_count": 31,
   "metadata": {},
   "outputs": [
    {
     "data": {
      "text/plain": [
       "count    455.000000\n",
       "mean      80.042187\n",
       "std        7.428493\n",
       "min       47.651000\n",
       "25%       76.226000\n",
       "50%       81.930000\n",
       "75%       85.243000\n",
       "max       89.052000\n",
       "Name: Age_AD_First, dtype: float64"
      ]
     },
     "execution_count": 31,
     "metadata": {},
     "output_type": "execute_result"
    }
   ],
   "source": [
    "mimic_data['Age_AD_First'].describe()"
   ]
  },
  {
   "cell_type": "code",
   "execution_count": 32,
   "metadata": {},
   "outputs": [
    {
     "data": {
      "text/plain": [
       "count    138.000000\n",
       "mean      -0.773536\n",
       "std        1.971288\n",
       "min       -7.951000\n",
       "25%        0.000000\n",
       "50%        0.000000\n",
       "75%        0.000000\n",
       "max        1.046000\n",
       "Name: T2D_OR_AD_FIRST, dtype: float64"
      ]
     },
     "execution_count": 32,
     "metadata": {},
     "output_type": "execute_result"
    }
   ],
   "source": [
    "mimic_data['T2D_OR_AD_FIRST'].describe()"
   ]
  },
  {
   "cell_type": "code",
   "execution_count": 33,
   "metadata": {},
   "outputs": [
    {
     "data": {
      "text/plain": [
       "1    28637\n",
       "0    21733\n",
       "Name: gender, dtype: int64"
      ]
     },
     "execution_count": 33,
     "metadata": {},
     "output_type": "execute_result"
    }
   ],
   "source": [
    "mimic_data['gender'].value_counts()"
   ]
  },
  {
   "cell_type": "code",
   "execution_count": 34,
   "metadata": {},
   "outputs": [
    {
     "data": {
      "image/png": "[encoded data removed]",
      "text/plain": [
       "<Figure size 720x432 with 1 Axes>"
      ]
     },
     "metadata": {},
     "output_type": "display_data"
    }
   ],
   "source": [
    "frequency = mimic_data['gender'].value_counts()\n",
    "#type(frequency)\n",
    "#frequency.index\n",
    "#frequency.axes[0]\n",
    "plt.figure(figsize=(10, 6))\n",
    "plt.xlabel('Gender')\n",
    "plt.ylabel('Population')\n",
    "plt.bar(frequency.index, height=frequency)\n",
    "plt.show()"
   ]
  },
  {
   "cell_type": "code",
   "execution_count": 35,
   "metadata": {},
   "outputs": [
    {
     "data": {
      "image/png": "[encoded data removed]",
      "text/plain": [
       "<Figure size 900x900 with 30 Axes>"
      ]
     },
     "metadata": {},
     "output_type": "display_data"
    },
    {
     "name": "stdout",
     "output_type": "stream",
     "text": [
      "Wall time: 30.6 s\n"
     ]
    }
   ],
   "source": [
    "%%time\n",
    "\n",
    "sns.pairplot(mimic_data)\n",
    "plt.show()"
   ]
  },
  {
   "cell_type": "code",
   "execution_count": 36,
   "metadata": {},
   "outputs": [
    {
     "name": "stderr",
     "output_type": "stream",
     "text": [
      "C:\\Users\\Administrator\\anaconda3\\lib\\site-packages\\seaborn\\regression.py:573: UserWarning: The `size` parameter has been renamed to `height`; please update your code.\n",
      "  warnings.warn(msg, UserWarning)\n"
     ]
    },
    {
     "data": {
      "image/png": "[encoded data removed]",
      "text/plain": [
       "<Figure size 504x504 with 1 Axes>"
      ]
     },
     "metadata": {},
     "output_type": "display_data"
    }
   ],
   "source": [
    "sns.set_style('whitegrid')\n",
    "sns.lmplot(x='Age_T2D_First', y='T2D_OR_AD_FIRST', data=mimic_data, size=7, scatter_kws={'alpha': 0.6}, line_kws={'color':'darkred'})\n",
    "plt.show()"
   ]
  },
  {
   "cell_type": "code",
   "execution_count": 37,
   "metadata": {},
   "outputs": [
    {
     "name": "stderr",
     "output_type": "stream",
     "text": [
      "C:\\Users\\Administrator\\anaconda3\\lib\\site-packages\\seaborn\\regression.py:573: UserWarning: The `size` parameter has been renamed to `height`; please update your code.\n",
      "  warnings.warn(msg, UserWarning)\n"
     ]
    },
    {
     "data": {
      "image/png": "[encoded data removed]",
      "text/plain": [
       "<Figure size 504x504 with 1 Axes>"
      ]
     },
     "metadata": {},
     "output_type": "display_data"
    }
   ],
   "source": [
    "sns.set_style('whitegrid')\n",
    "sns.lmplot(x='Age_AD_First', y='T2D_OR_AD_FIRST', data=mimic_data, size=7, scatter_kws={'alpha': 0.6}, line_kws={'color':'darkred'})\n",
    "plt.show()"
   ]
  },
  {
   "cell_type": "code",
   "execution_count": null,
   "metadata": {},
   "outputs": [],
   "source": []
  }
 ],
 "metadata": {
  "kernelspec": {
   "display_name": "Python 3",
   "language": "python",
   "name": "python3"
  },
  "language_info": {
   "codemirror_mode": {
    "name": "ipython",
    "version": 3
   },
   "file_extension": ".py",
   "mimetype": "text/x-python",
   "name": "python",
   "nbconvert_exporter": "python",
   "pygments_lexer": "ipython3",
   "version": "3.8.3"
  }
 },
 "nbformat": 4,
 "nbformat_minor": 4
}
